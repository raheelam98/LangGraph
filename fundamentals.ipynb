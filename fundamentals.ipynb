{
  "cells": [
    {
      "cell_type": "markdown",
      "metadata": {
        "id": "view-in-github",
        "colab_type": "text"
      },
      "source": [
        "<a href=\"https://colab.research.google.com/github/raheelam98/LangGraph/blob/main/fundamentals.ipynb\" target=\"_parent\"><img src=\"https://colab.research.google.com/assets/colab-badge.svg\" alt=\"Open In Colab\"/></a>"
      ]
    },
    {
      "cell_type": "markdown",
      "source": [
        "Lang Chain and Lang Graph Fundaments"
      ],
      "metadata": {
        "id": "4ZNnlaeQzczv"
      }
    },
    {
      "cell_type": "code",
      "source": [
        "# install the required packages\n",
        "%%capture --no-stderr\n",
        "%pip install -U langgraph langsmith langchain_google_genai"
      ],
      "metadata": {
        "id": "TkbypbwLTQ4V"
      },
      "execution_count": 3,
      "outputs": []
    },
    {
      "cell_type": "code",
      "execution_count": 4,
      "metadata": {
        "id": "84jg4r-M9d-R"
      },
      "outputs": [],
      "source": [
        "# API Keys\n",
        "import os\n",
        "from google.colab import userdata\n",
        "\n",
        "os.environ[\"LANGCHAIN_API_KEY\"] = userdata.get('LANGCHAIN_API_KEY')\n",
        "os.environ[\"LANGCHAIN_TRACING_V2\"] = \"true\"\n",
        "os.environ[\"LANGCHAIN_PROJECT\"] = \"rm-academy\"\n",
        "\n",
        "gemini_api_key = userdata.get('GEMINI_API_KEY')"
      ]
    },
    {
      "cell_type": "code",
      "source": [
        "from langchain_google_genai import ChatGoogleGenerativeAI\n",
        "\n",
        "llm = ChatGoogleGenerativeAI(\n",
        "    model=\"gemini-1.5-flash\",\n",
        "    max_retries=2,\n",
        "    api_key=gemini_api_key\n",
        ")"
      ],
      "metadata": {
        "id": "Grnz1quKTuFj"
      },
      "execution_count": 5,
      "outputs": []
    },
    {
      "cell_type": "code",
      "source": [
        "# check llm is working\n",
        "result = llm.invoke(\"hi\")\n",
        "result"
      ],
      "metadata": {
        "id": "FbUjjZnIT4j3",
        "colab": {
          "base_uri": "https://localhost:8080/"
        },
        "outputId": "ae8e96fd-fc67-4f3d-ce04-6bc598ee8580"
      },
      "execution_count": 6,
      "outputs": [
        {
          "output_type": "execute_result",
          "data": {
            "text/plain": [
              "AIMessage(content='Hi! How can I help you today? \\n', additional_kwargs={}, response_metadata={'prompt_feedback': {'block_reason': 0, 'safety_ratings': []}, 'finish_reason': 'STOP', 'safety_ratings': [{'category': 'HARM_CATEGORY_SEXUALLY_EXPLICIT', 'probability': 'NEGLIGIBLE', 'blocked': False}, {'category': 'HARM_CATEGORY_HATE_SPEECH', 'probability': 'NEGLIGIBLE', 'blocked': False}, {'category': 'HARM_CATEGORY_HARASSMENT', 'probability': 'NEGLIGIBLE', 'blocked': False}, {'category': 'HARM_CATEGORY_DANGEROUS_CONTENT', 'probability': 'NEGLIGIBLE', 'blocked': False}]}, id='run-148ae32c-2a7a-4943-a9c4-5b3850bb1cc3-0', usage_metadata={'input_tokens': 2, 'output_tokens': 10, 'total_tokens': 12, 'input_token_details': {'cache_read': 0}})"
            ]
          },
          "metadata": {},
          "execution_count": 6
        }
      ]
    },
    {
      "cell_type": "code",
      "source": [
        "%%capture --no-stderr\n",
        "%pip install -U tavily-python langchain_community"
      ],
      "metadata": {
        "id": "pdVvXehQ3JEo"
      },
      "execution_count": 7,
      "outputs": []
    },
    {
      "cell_type": "code",
      "source": [
        "os.environ[\"TAVILY_API_KEY\"] = userdata.get(\"TAVILY_API_KEY\")"
      ],
      "metadata": {
        "id": "SJi3mPqIjAsV"
      },
      "execution_count": 8,
      "outputs": []
    },
    {
      "cell_type": "markdown",
      "source": [
        "**Tutorials**\n",
        "\n",
        "[How-to Guides - LangGraph](https://langchain-ai.github.io/langgraph/how-tos/)\n"
      ],
      "metadata": {
        "id": "F7qHbQdlUy-7"
      }
    },
    {
      "cell_type": "markdown",
      "source": [
        "### Module 1\n",
        "\n",
        "[Module 1 - GitHub](https://github.com/panaversity/learn-applied-generative-ai-fundamentals/tree/main/03_langchain_ecosystem/langgraph/course-notebooks/module-1)\n",
        "\n",
        "[Q3,Q4,Q5 - Class -14: LangGraph - Six steps to create a graph : Agentic Architecture - Oct 17, 2024](https://www.youtube.com/watch?v=7U_9hCE3Prs)"
      ],
      "metadata": {
        "id": "IDWwoRVkVCSq"
      }
    },
    {
      "cell_type": "markdown",
      "source": [
        "**3_router.ipynb**\n",
        "\n",
        "**`Tool calling`**: Utilizes a chat model API that handles tool schemas and messages, producing tool invocations as output.\n",
        "\n",
        "**`ToolNode`** Usage: ToolNode, a LangChain Runnable, processes graph state (with messages) and updates state with tool call results, seamlessly integrating with LangGraph's ReAct agent or any StateGraph with MessagesState.\n",
        "\n",
        "ToolNode: Takes a list of functions and stores them within the tool node.\n",
        "\n",
        "When any value is stored in it, ToolNode makes it runnable, calls it to perform the functionality, and provides the response\n",
        "\n",
        "ToolNode == Runable\n",
        "\n",
        "```bash\n",
        "from langgraph.prebuilt import ToolNode # special node for function calls\n",
        "from langgraph.prebuilt import tools_condition # either call tool oe end\n",
        "\n",
        "from langgraph.graph import MessagesState\n",
        "\n",
        "\n",
        "# Build graph\n",
        "builder: StateGraph = StateGraph(MessagesState)\n",
        "\n",
        "graph_builder.add_node(\"tools\", ToolNode([multiply]))\n",
        "```\n",
        "\n",
        "**rm note**\n",
        "\n",
        "**`ToolNode`** is a built-in function of LangGraph. We can create our own custom function that provides a list of tools such as a search engine, Excel file operations, weather search, or database search in SQL. To integrate these tools into LangGraph, pass them into a custom `ToolNode`. We’ll build our own `BasicToolNode` and replace LangGraph’s prebuilt `ToolNode` and `tools_condition` with it, using\n",
        "\n",
        "ToolNode(tools=[your_tool]).\n",
        "\n",
        "**ToolNode** is essentially a node within a workflow or graph that is designated to execute a specific tool or function when called.\n",
        "\n",
        "**ToolNode** is a LangChain Runnable that takes graph state (with a list of messages) as input and outputs state update with the result of tool calls.\n",
        "\n",
        "**ToolNode** is just a class that helps with this execution. You pass it your list of tools, and internally it stores them as name-function pairs."
      ],
      "metadata": {
        "id": "8qOajYdGzl4p"
      }
    },
    {
      "cell_type": "markdown",
      "source": [
        "**4_agent.ipynb**"
      ],
      "metadata": {
        "id": "bpomsFisq9Kl"
      }
    },
    {
      "cell_type": "markdown",
      "source": [
        "**langchain-academy tutorial**\n",
        "\n",
        "We create a graph with `Assistant` and `Tools` nodes.\n",
        "\n",
        "We add `tools_condition` edge, which routes to `End` or to `Tools` based on  whether the `Assistant` calls a tool.\n",
        "\n",
        "Now, we add one new step:\n",
        "\n",
        "We connect the `Tools` node *back* to the `Assistant`, forming a loop.\n",
        "\n",
        "* After the `assistant` node executes, `tools_condition` checks if the model's output is a tool call.\n",
        "* If it is a tool call, the flow is directed to the `tools` node.\n",
        "* The `tools` node connects back to `assistant`.\n",
        "* This loop continues as long as the model decides to call tools.\n",
        "* If the model response is not a tool call, the flow is directed to END, terminating the process\n"
      ],
      "metadata": {
        "id": "-zHqlt78VS3y"
      }
    },
    {
      "cell_type": "markdown",
      "source": [
        "**Workflow:**. rm\n",
        "\n",
        "Here we perform multiplication.\n",
        "\n",
        "* First, call the tool.\n",
        "\n",
        "* The tool's response goes to the agent/assistant/GPT.\n",
        "\n",
        "* The agent decides what to do next: either call another tool, provide a response, or proceed to another node.\n"
      ],
      "metadata": {
        "id": "SyC9H6WUUbEv"
      }
    },
    {
      "cell_type": "code",
      "source": [
        "# Create tools for calculation\n",
        "from langchain_google_genai import ChatGoogleGenerativeAI\n",
        "\n",
        "def multiply(a: int, b: int) -> int:\n",
        "    \"\"\"Multiply a and b.\n",
        "\n",
        "    Args:\n",
        "        a: First integer\n",
        "        b: Second integer\n",
        "    \"\"\"\n",
        "    return a * b\n",
        "\n",
        "# This will be a tool\n",
        "def add(a: int, b: int) -> int:\n",
        "    \"\"\"Add a and b\n",
        "\n",
        "    Args:\n",
        "        a: First integer\n",
        "        b: Second integer\n",
        "    \"\"\"\n",
        "    return a + b\n",
        "\n",
        "def divide(a: int, b: int) -> float:\n",
        "    \"\"\"Divide a by b.\n",
        "\n",
        "    Args:\n",
        "        a: First integer\n",
        "        b: Second integer\n",
        "    \"\"\"\n",
        "    return a / b\n",
        "\n",
        "# Define a list to store all the tools\n",
        "tools = [add, multiply, divide]\n",
        "\n",
        "# Bind tools with the language model\n",
        "llm_with_tools = llm.bind_tools(tools)\n"
      ],
      "metadata": {
        "id": "IIelF1kIWHZI"
      },
      "execution_count": null,
      "outputs": []
    },
    {
      "cell_type": "markdown",
      "source": [
        "Note to connect with data with database\n",
        "\n",
        "def check_account_balance(sql_query) --> float\n",
        "\n",
        "  call database\n",
        "\n",
        "  output :- SELECT * from user\n",
        "\n",
        "  return {Balance}\n",
        "\n",
        "* 1 step:- call database into function use query select/delete/update -> get into variable and retrun it\n",
        "*  2 step :- note we can call llm for which function call first and bind toot\n",
        "* 3 step :-\n",
        "\n"
      ],
      "metadata": {
        "id": "E-yS3mHfZCfW"
      }
    },
    {
      "cell_type": "code",
      "source": [
        "# above code directly call dictionary\n",
        "from langgraph.graph import MessagesState\n",
        "from langchain_core.messages import HumanMessage, SystemMessage\n",
        "\n",
        "# System message | Instraction in Custom GPT\n",
        "sys_msg = SystemMessage(content=\"You are a helpful assistant tasked with performing arithmetic on a set of inputs.\")\n",
        "\n",
        "# Function to create node\n",
        "def assistant(state: MessagesState) -> MessagesState:\n",
        "    return {\"messages\": [llm_with_tools.invoke([sys_msg] + state[\"messages\"])]}\n"
      ],
      "metadata": {
        "id": "YKUanaUXUwMq"
      },
      "execution_count": null,
      "outputs": []
    },
    {
      "cell_type": "code",
      "source": [
        "from langgraph.graph import START, StateGraph\n",
        "\n",
        "from langgraph.prebuilt import tools_condition  # Determines routing to tools or end\n",
        "from langgraph.prebuilt import ToolNode  # Special node for function calls\n",
        "\n",
        "from IPython.display import Image, display  # Import IPython display classes\n",
        "from langgraph.graph.state import CompiledStateGraph\n",
        "\n",
        "# Initialize the graph builder\n",
        "builder: StateGraph = StateGraph(MessagesState)\n",
        "\n",
        "# Define nodes: these do the work\n",
        "builder.add_node(\"assistant\", assistant)  # Pass assistant function to assistant node\n",
        "builder.add_node(\"tools\", ToolNode(tools))  # Pass tools to ToolNode, enabling function calls and responses\n",
        "# Note: ToolNode(tools) now serves as both a generator and an action node. It can call the functions and respond accordingly.\n",
        "\n",
        "\n",
        "# Define edges: these determine how the control flow moves\n",
        "builder.add_edge(START, \"assistant\")  # Start by calling the assistant node\n",
        "\n",
        "# Define conditional edges: determine routing based on the result\n",
        "# Define the condition: The assistant node either routes to tools via the tool-condition or routes to END.\n",
        "builder.add_conditional_edges(\n",
        "    \"assistant\",\n",
        "    tools_condition,  # Route to tools if the latest message from assistant is a tool call\n",
        "    # Route to END if the latest message from assistant is not a tool call\n",
        ")\n",
        "\n",
        "# Define edge: tools call assistant\n",
        "builder.add_edge(\"tools\", \"assistant\")  # After tools, call assistant again\n",
        "\n",
        "# Compile the graph to a reactive graph\n",
        "react_graph: CompiledStateGraph = builder.compile()\n"
      ],
      "metadata": {
        "id": "iMIdyyOXW7mG"
      },
      "execution_count": null,
      "outputs": []
    },
    {
      "cell_type": "code",
      "source": [
        "from IPython.display import Image, display\n",
        "\n",
        "try:\n",
        "    display(Image(react_graph.get_graph().draw_mermaid_png()))\n",
        "except Exception:\n",
        "    # This requires some extra dependencies and is optional\n",
        "    pass"
      ],
      "metadata": {
        "colab": {
          "base_uri": "https://localhost:8080/",
          "height": 266
        },
        "id": "2gSUTihyW89d",
        "outputId": "fb1d66fc-3d28-44c4-d660-7d62f8097557"
      },
      "execution_count": null,
      "outputs": [
        {
          "output_type": "display_data",
          "data": {
            "image/jpeg": "[encoded data removed]",
            "text/plain": [
              "<IPython.core.display.Image object>"
            ]
          },
          "metadata": {}
        }
      ]
    },
    {
      "cell_type": "code",
      "source": [
        "messages = [HumanMessage(content=\"First Add 3 and 4 then multiply answer with 2 and then divide answer with 5. Dont perform division initially\")]\n",
        "messages = react_graph.invoke({\"messages\": messages})"
      ],
      "metadata": {
        "id": "TwIOzleAXIGG"
      },
      "execution_count": null,
      "outputs": []
    },
    {
      "cell_type": "code",
      "source": [
        "for m in messages['messages']:\n",
        "    m.pretty_print()"
      ],
      "metadata": {
        "colab": {
          "base_uri": "https://localhost:8080/"
        },
        "id": "t2g8ND3pXUQh",
        "outputId": "06fdd018-2219-43e5-d14b-7493f6353861"
      },
      "execution_count": null,
      "outputs": [
        {
          "output_type": "stream",
          "name": "stdout",
          "text": [
            "================================\u001b[1m Human Message \u001b[0m=================================\n",
            "\n",
            "First Add 3 and 4 then multiply answer with 2 and then divide answer with 5. Dont perform division initially\n",
            "==================================\u001b[1m Ai Message \u001b[0m==================================\n",
            "Tool Calls:\n",
            "  add (e5caef87-24b7-48e1-b39e-6dd0f3406507)\n",
            " Call ID: e5caef87-24b7-48e1-b39e-6dd0f3406507\n",
            "  Args:\n",
            "    a: 3.0\n",
            "    b: 4.0\n",
            "=================================\u001b[1m Tool Message \u001b[0m=================================\n",
            "Name: add\n",
            "\n",
            "7\n",
            "==================================\u001b[1m Ai Message \u001b[0m==================================\n",
            "Tool Calls:\n",
            "  multiply (69871740-a66e-46cb-b7d8-8e32dcda0c5e)\n",
            " Call ID: 69871740-a66e-46cb-b7d8-8e32dcda0c5e\n",
            "  Args:\n",
            "    a: 7.0\n",
            "    b: 2.0\n",
            "=================================\u001b[1m Tool Message \u001b[0m=================================\n",
            "Name: multiply\n",
            "\n",
            "14\n",
            "==================================\u001b[1m Ai Message \u001b[0m==================================\n",
            "Tool Calls:\n",
            "  divide (e324e1b9-8d3c-413d-bd7b-b434beacccdd)\n",
            " Call ID: e324e1b9-8d3c-413d-bd7b-b434beacccdd\n",
            "  Args:\n",
            "    a: 14.0\n",
            "    b: 5.0\n",
            "=================================\u001b[1m Tool Message \u001b[0m=================================\n",
            "Name: divide\n",
            "\n",
            "2.8\n",
            "==================================\u001b[1m Ai Message \u001b[0m==================================\n",
            "\n",
            "The final answer is 2.8.\n"
          ]
        }
      ]
    },
    {
      "cell_type": "markdown",
      "source": [
        "**parallel function**"
      ],
      "metadata": {
        "id": "YQdxLU1Qg4k1"
      }
    },
    {
      "cell_type": "markdown",
      "source": [
        "gemini_api_key = userdata.get('GEMINI_API_KEY')"
      ],
      "metadata": {
        "id": "OZ4pnPvjZAFL"
      }
    },
    {
      "cell_type": "code",
      "source": [
        "# from langchain_google_genai import ChatGoogleGenerativeAI\n",
        "# from pydantic import BaseModel\n",
        "\n",
        "# class UserModel(BaseModel):\n",
        "#     user_name: str\n",
        "\n",
        "# # Initialize the language model with your llm key\n",
        "# llm = ChatGoogleGenerativeAI(model=\"gemini-1.5-flash\", api_key=gemini_api_key)\n",
        "\n",
        "# # Define a list to store all the tools\n",
        "# tools = []\n",
        "\n",
        "\n",
        "# def add_user(user: UserModel) -> str:\n",
        "#     # Define the user tool as an AI function\n",
        "#     tools_list = [{\n",
        "#         \"name\": \"add_user\",\n",
        "#         \"description\": \"Adds a new user to the system\",\n",
        "#         \"parameters\": {\n",
        "#             \"type\": \"object\",\n",
        "#             \"properties\": {\n",
        "#                 \"user_name\": {\"type\": \"string\"}\n",
        "#             },\n",
        "#             \"required\": [\"user_name\"]\n",
        "#         }\n",
        "#     }]\n",
        "\n",
        "#     # Bind tools with the language model\n",
        "#     llm_with_tools = llm.bind_tools(tools_list)\n",
        "\n",
        "#     # Create the input message for the tool\n",
        "#     input_messages = [\n",
        "#         SystemMessage(content=\"Add a new user to the system.\"),\n",
        "#         HumanMessage(content=f\"Add user with name {user.user_name}.\")\n",
        "#     ]\n",
        "\n",
        "#     # Call the tool with the user data\n",
        "#     response = llm_with_tools(input_messages)\n",
        "\n",
        "#     return response[\"messages\"]\n",
        "\n",
        "\n",
        "# from langgraph.graph import MessagesState\n",
        "# from langchain_core.messages import HumanMessage, SystemMessage, AIMessage\n",
        "\n",
        "# # System message | Instruction in Custom GPT\n",
        "# sys_msg = SystemMessage(content=\"You are helpful to add user name.\")\n",
        "\n",
        "# # Function to create node\n",
        "# def assistant(state: MessagesState) -> MessagesState:\n",
        "#     # Prepare the user data\n",
        "#     user_name = state[\"messages\"][-1].content.split(\" \")[-1]\n",
        "#     user = UserModel(user_name=user_name)\n",
        "#     # Call add_user function with user data\n",
        "#     response = add_user(user)\n",
        "\n",
        "#     # Append AI response to messages\n",
        "#     new_messages = state[\"messages\"]\n",
        "#     new_messages.append(AIMessage(content=response[-1][\"content\"]))\n",
        "\n",
        "#     return {\"messages\": new_messages}\n",
        "\n",
        "# from langgraph.graph import START, StateGraph\n",
        "# from langgraph.prebuilt import tools_condition  # Determines routing to tools or end\n",
        "# from langgraph.prebuilt import ToolNode  # Special node for function calls\n",
        "\n",
        "# # Initialize the graph builder\n",
        "# builder = StateGraph(MessagesState)\n",
        "\n",
        "# # Define nodes: these do the work\n",
        "# builder.add_node(\"assistant\", assistant)  # Pass assistant function to assistant node\n",
        "# builder.add_node(\"tools\", ToolNode(tools))  # Pass tools to ToolNode, enabling function calls and responses\n",
        "# # Note: ToolNode(tools) now serves as both a generator and an action node. It can call the functions and respond accordingly.\n",
        "\n",
        "# # Define edges: these determine how the control flow moves\n",
        "# builder.add_edge(START, \"assistant\")  # Start by calling the assistant node\n",
        "\n",
        "# # Define conditional edges: determine routing based on the result\n",
        "# # Define the condition: The assistant node either routes to tools via the tool-condition or routes to END.\n",
        "# builder.add_conditional_edges(\n",
        "#     \"assistant\",\n",
        "#     tools_condition,  # Route to tools if the latest message from assistant is a tool call\n",
        "#     # Route to END if the latest message from assistant is not a tool call\n",
        "# )\n",
        "\n",
        "# # Define edge: tools call assistant\n",
        "# builder.add_edge(\"tools\", \"assistant\")  # After tools, call assistant again\n",
        "\n",
        "# # Compile the graph to a reactive graph\n",
        "# react_graph = builder.compile()\n",
        "\n",
        "# def invoke_graph(messages):\n",
        "#     # Wrap messages in a dictionary as expected by the state graph\n",
        "#     response_state = react_graph.invoke({\"messages\": messages})\n",
        "\n",
        "#     # Display the response\n",
        "#     for message in response_state[\"messages\"]:\n",
        "#         if isinstance(message, AIMessage):\n",
        "#             print(f\"AI: {message.content}\")\n",
        "#         elif isinstance(message, HumanMessage):\n",
        "#             print(f\"Human: {message.content}\")\n",
        "#         elif isinstance(message, SystemMessage):\n",
        "#             print(f\"System: {message.content}\")\n",
        "\n",
        "# # Prepare messages\n",
        "# messages = [HumanMessage(content=\"Add user_name raheela\")]\n",
        "\n",
        "# # Call the function to invoke the graph and handle responses\n",
        "# invoke_graph(messages)"
      ],
      "metadata": {
        "id": "qPk8MN50Xr9R"
      },
      "execution_count": 1,
      "outputs": []
    },
    {
      "cell_type": "markdown",
      "source": [
        "**Input Validation**"
      ],
      "metadata": {
        "id": "pYhFkBDb8wur"
      }
    },
    {
      "cell_type": "markdown",
      "source": [
        "### [How to use Pydantic model as state](https://langchain-ai.github.io/langgraph/how-tos/state-model/#setup)"
      ],
      "metadata": {
        "id": "YWGHfsGj9ho0"
      }
    },
    {
      "cell_type": "markdown",
      "source": [
        "**Input Validation**"
      ],
      "metadata": {
        "id": "Z0iQTCFAEMhg"
      }
    },
    {
      "cell_type": "code",
      "source": [
        "from langgraph.graph import StateGraph, START, END\n",
        "from typing_extensions import TypedDict\n",
        "\n",
        "from pydantic import BaseModel\n",
        "\n",
        "\n",
        "# The overall state of the graph (this is the public state shared across nodes)\n",
        "class OverallState(BaseModel):\n",
        "    a: str\n",
        "\n",
        "\n",
        "def node(state: OverallState):\n",
        "    return {\"a\": \"goodbye\"}\n",
        "\n",
        "\n",
        "# Build the state graph\n",
        "builder = StateGraph(OverallState)\n",
        "\n",
        "builder.add_node(node)  # node_1 is the first node\n",
        "builder.add_edge(START, \"node\")  # Start the graph with node_1\n",
        "builder.add_edge(\"node\", END)  # End the graph after node_1\n",
        "graph = builder.compile()\n"
      ],
      "metadata": {
        "id": "46Bi492u8wIG",
        "outputId": "ad5df64f-6423-4731-eafd-68a43b3c7bb8",
        "colab": {
          "base_uri": "https://localhost:8080/"
        }
      },
      "execution_count": 14,
      "outputs": [
        {
          "output_type": "stream",
          "name": "stdout",
          "text": [
            "{'a': 'goodbye'}\n"
          ]
        }
      ]
    },
    {
      "cell_type": "code",
      "source": [
        "from IPython.display import Image, display\n",
        "\n",
        "try:\n",
        "    display(Image(graph.get_graph().draw_mermaid_png()))\n",
        "except Exception:\n",
        "    # This requires some extra dependencies and is optional\n",
        "    pass"
      ],
      "metadata": {
        "id": "nJNM2LRk86Tp",
        "outputId": "4ef3107f-31d3-416e-e56e-2724857f3d01",
        "colab": {
          "base_uri": "https://localhost:8080/",
          "height": 251
        }
      },
      "execution_count": 10,
      "outputs": [
        {
          "output_type": "display_data",
          "data": {
            "image/png": "[encoded data removed]",
            "text/plain": [
              "<IPython.core.display.Image object>"
            ]
          },
          "metadata": {}
        }
      ]
    },
    {
      "cell_type": "code",
      "source": [
        "# Test the graph with a valid input\n",
        "result = graph.invoke({\"a\": \"hello\"})\n",
        "print(result)"
      ],
      "metadata": {
        "id": "2Hup8KGYD5_B",
        "outputId": "74858fe7-2051-4610-ec60-15c329a3a69b",
        "colab": {
          "base_uri": "https://localhost:8080/"
        }
      },
      "execution_count": 15,
      "outputs": [
        {
          "output_type": "stream",
          "name": "stdout",
          "text": [
            "{'a': 'goodbye'}\n"
          ]
        }
      ]
    },
    {
      "cell_type": "code",
      "source": [
        "try:\n",
        "    graph.invoke({\"a\": 123})  # Should be a string\n",
        "except Exception as e:\n",
        "    print(\"An exception was raised because `a` is an integer rather than a string.\")\n",
        "    print(e)"
      ],
      "metadata": {
        "id": "CmNYlOi29GM6",
        "outputId": "f0f97697-bf02-407b-ef86-3fc2264f014d",
        "colab": {
          "base_uri": "https://localhost:8080/"
        }
      },
      "execution_count": 11,
      "outputs": [
        {
          "output_type": "stream",
          "name": "stdout",
          "text": [
            "An exception was raised because `a` is an integer rather than a string.\n",
            "1 validation error for OverallState\n",
            "a\n",
            "  Input should be a valid string [type=string_type, input_value=123, input_type=int]\n",
            "    For further information visit https://errors.pydantic.dev/2.9/v/string_type\n"
          ]
        }
      ]
    },
    {
      "cell_type": "markdown",
      "source": [
        "**Multiple Nodes**"
      ],
      "metadata": {
        "id": "yUEie3KOEUux"
      }
    },
    {
      "cell_type": "code",
      "source": [
        "from langgraph.graph import StateGraph, START, END\n",
        "from typing_extensions import TypedDict\n",
        "\n",
        "from pydantic import BaseModel\n",
        "\n",
        "\n",
        "# The overall state of the graph (this is the public state shared across nodes)\n",
        "class OverallState(BaseModel):\n",
        "    a: str\n",
        "\n",
        "\n",
        "def bad_node(state: OverallState):\n",
        "    return {\n",
        "        \"a\": 123  # Invalid\n",
        "    }\n",
        "\n",
        "\n",
        "def ok_node(state: OverallState):\n",
        "    return {\"a\": \"goodbye\"}\n",
        "\n",
        "\n",
        "# Build the state graph\n",
        "builder = StateGraph(OverallState)\n",
        "builder.add_node(bad_node)\n",
        "builder.add_node(ok_node)\n",
        "builder.add_edge(START, \"bad_node\")\n",
        "builder.add_edge(\"bad_node\", \"ok_node\")\n",
        "builder.add_edge(\"ok_node\", END)\n",
        "graph = builder.compile()"
      ],
      "metadata": {
        "id": "Fw4lx_XSEerX"
      },
      "execution_count": 18,
      "outputs": []
    },
    {
      "cell_type": "code",
      "source": [
        "from IPython.display import Image, display\n",
        "\n",
        "try:\n",
        "    display(Image(graph.get_graph().draw_mermaid_png()))\n",
        "except Exception:\n",
        "    # This requires some extra dependencies and is optional\n",
        "    pass"
      ],
      "metadata": {
        "id": "vQhbYaUiE5Ih",
        "outputId": "76b03e50-9d60-4bdb-95a4-6d3610fd28ae",
        "colab": {
          "base_uri": "https://localhost:8080/",
          "height": 350
        }
      },
      "execution_count": 17,
      "outputs": [
        {
          "output_type": "display_data",
          "data": {
            "image/png": "[encoded data removed]",
            "text/plain": [
              "<IPython.core.display.Image object>"
            ]
          },
          "metadata": {}
        }
      ]
    },
    {
      "cell_type": "code",
      "source": [
        "# Test the graph with a valid input\n",
        "try:\n",
        "    graph.invoke({\"a\": \"hello\"})\n",
        "except Exception as e:\n",
        "    print(\"An exception was raised because bad_node sets `a` to an integer.\")\n",
        "    print(e)"
      ],
      "metadata": {
        "id": "9USbWCuVFALT",
        "outputId": "542acc81-081d-4416-bfb3-acb10f0f86f6",
        "colab": {
          "base_uri": "https://localhost:8080/"
        }
      },
      "execution_count": 19,
      "outputs": [
        {
          "output_type": "stream",
          "name": "stdout",
          "text": [
            "An exception was raised because bad_node sets `a` to an integer.\n",
            "1 validation error for OverallState\n",
            "a\n",
            "  Input should be a valid string [type=string_type, input_value=123, input_type=int]\n",
            "    For further information visit https://errors.pydantic.dev/2.9/v/string_type\n"
          ]
        }
      ]
    }
  ],
  "metadata": {
    "colab": {
      "provenance": [],
      "include_colab_link": true
    },
    "kernelspec": {
      "display_name": "Python 3",
      "name": "python3"
    }
  },
  "nbformat": 4,
  "nbformat_minor": 0
}