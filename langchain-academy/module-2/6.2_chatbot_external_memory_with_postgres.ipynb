{
  "nbformat": 4,
  "nbformat_minor": 0,
  "metadata": {
    "colab": {
      "provenance": []
    },
    "kernelspec": {
      "name": "python3",
      "display_name": "Python 3"
    },
    "language_info": {
      "name": "python"
    }
  },
  "cells": [
    {
      "cell_type": "markdown",
      "source": [
        "**Module 2 :** 6.0_chatbot_external_memory,\n",
        " 6.1_chatbot_external_memory_with_our_db_file.ipynb, 6.2_chatbot_external_memory_with_postgres.ipynb\n",
        "\n",
        "[Class08:LangGraph: External Memory with External DB, Introduction to Agentic RAG - Nov 23, 2024](https://www.youtube.com/watch?v=ooU238RcOdo)\n"
      ],
      "metadata": {
        "id": "Qf7-IpFWKxj1"
      }
    },
    {
      "cell_type": "markdown",
      "source": [
        "**rm notes** **Module 2 :**  6.2_chatbot_external_memory_with_postgres.ipynb\n",
        "\n",
        "To have a **chatbot with persistent memory**, use **checkpointers that support external databases**\n",
        "\n",
        "**`chatbot_memory_db` :**\n",
        "We use the Neon database to save data.\n",
        "\n",
        "**Retrive Chat history**\n",
        "\n",
        "```\n",
        "config = {\"configurable\": {\"thread_id\": \"1\"}}\n",
        "graph_state = graph.get_state(config)\n",
        "graph_state\n",
        "```\n",
        "\n",
        "**get messages:- graph.get_state(config).values.get(\"messages\")**\n",
        "\n",
        "step1 :- get key of messages from snapshot\n",
        "\n",
        "```\n",
        "config = {\"configurable\": {\"thread_id\": \"1\"}}\n",
        "messages = graph.get_state(config).values.get(\"messages\")\n",
        "graph_state\n",
        "```\n",
        "Require steaming\n"
      ],
      "metadata": {
        "id": "RoI4HJ9_3W_o"
      }
    },
    {
      "cell_type": "markdown",
      "source": [
        "# Chatbot with message summarization & external DB memory\n",
        "\n",
        "## Review\n",
        "\n",
        "We've covered how to customize graph state schema and reducer.\n",
        "\n",
        "We've also shown a number of tricks for trimming or filtering messages in graph state.\n",
        "\n",
        "We've used these concepts in a Chatbot with memory that produces a running summary of the conversation.\n",
        "\n",
        "## Goals\n",
        "\n",
        "But, what if we want our Chatbot to have memory that persists indefinitely?\n",
        "\n",
        "Now, we'll introduce some more advanced checkpointers that support external databases.\n",
        "\n",
        "Here, we'll show how to use [Postgres as a checkpointer](https://langchain-ai.github.io/langgraph/how-tos/persistence_postgres/)"
      ],
      "metadata": {
        "id": "9iKKYdAkVoxu"
      }
    },
    {
      "cell_type": "code",
      "execution_count": 1,
      "metadata": {
        "id": "Lwi6YkLu31aK"
      },
      "outputs": [],
      "source": [
        "%%capture --no-stderr\n",
        "%pip install -U langgraph langgraph-checkpoint-postgres psycopg psycopg-pool langchain_google_genai\n"
      ]
    },
    {
      "cell_type": "code",
      "source": [
        "from google.colab import userdata\n",
        "GEMINI_API_KEY = userdata.get('GEMINI_API_KEY')"
      ],
      "metadata": {
        "id": "i6Tn95wS4rxz"
      },
      "execution_count": 2,
      "outputs": []
    },
    {
      "cell_type": "code",
      "source": [
        "import os\n",
        "os.environ[\"LANGCHAIN_API_KEY\"] = userdata.get('LANGCHAIN_API_KEY')\n",
        "os.environ[\"LANGCHAIN_TRACING_V2\"] = \"true\"\n",
        "os.environ[\"LANGCHAIN_PROJECT\"] = \"langchain-academy\""
      ],
      "metadata": {
        "id": "qtL0cG1B8pMt"
      },
      "execution_count": 3,
      "outputs": []
    },
    {
      "cell_type": "markdown",
      "source": [
        "# Use sync connection¶\n",
        "This sets up a synchronous connection to the database.\n",
        "\n",
        "Synchronous connections execute operations in a blocking manner, meaning each operation waits for completion before moving to the next one. The DB_URI is the database connection URI, with the protocol used for connecting to a PostgreSQL database, authentication, and host where database is running. The connection_kwargs dictionary defines additional parameters for the database connection."
      ],
      "metadata": {
        "id": "AqAjciKmV6vl"
      }
    },
    {
      "cell_type": "code",
      "source": [
        "from google.colab import userdata\n",
        "DB_URI = userdata.get('chatbot_memory_db')"
      ],
      "metadata": {
        "id": "cP2TdPSB3-dO"
      },
      "execution_count": 5,
      "outputs": []
    },
    {
      "cell_type": "code",
      "source": [
        "from psycopg_pool import ConnectionPool\n",
        "from langgraph.checkpoint.postgres import PostgresSaver\n",
        "\n",
        "# Connection pool for efficient database access\n",
        "connection_kwargs = {\"autocommit\": True, \"prepare_threshold\": 0}\n",
        "\n",
        "# Create a persistent connection pool\n",
        "pool = ConnectionPool(conninfo=DB_URI, max_size=20, kwargs=connection_kwargs)\n",
        "\n",
        "# Initialize PostgresSaver checkpointer\n",
        "checkpointer = PostgresSaver(pool)\n",
        "checkpointer.setup()  # Ensure database tables are set up\n"
      ],
      "metadata": {
        "id": "0XCqHjWM4LTc"
      },
      "execution_count": 6,
      "outputs": []
    },
    {
      "cell_type": "markdown",
      "source": [
        "Let's re-define our chatbot."
      ],
      "metadata": {
        "id": "w9All8mCV1o0"
      }
    },
    {
      "cell_type": "code",
      "source": [
        "from langchain_google_genai import ChatGoogleGenerativeAI\n",
        "from langchain_core.messages import SystemMessage, HumanMessage, RemoveMessage\n",
        "\n",
        "from langgraph.graph import END\n",
        "from langgraph.graph import MessagesState\n",
        "\n",
        "model: ChatGoogleGenerativeAI = ChatGoogleGenerativeAI(model = \"gemini-1.5-flash\", api_key =  GEMINI_API_KEY)\n",
        "\n",
        "class State(MessagesState):\n",
        "    summary: str\n",
        "\n",
        "# Define the logic to call the model\n",
        "def call_model(state: State) -> State:\n",
        "\n",
        "    # Get summary if it exists\n",
        "    summary = state.get(\"summary\", \"\")\n",
        "    print(f\"Using summary: {summary}\")\n",
        "\n",
        "    # If there is summary, then we add it\n",
        "    if summary:\n",
        "\n",
        "        # Add summary to system message\n",
        "        system_message = f\"Summary of conversation earlier: {summary}\"\n",
        "\n",
        "        # Append summary to any newer messages\n",
        "        messages = [SystemMessage(content=system_message)] + state[\"messages\"]\n",
        "\n",
        "    else:\n",
        "        messages = state[\"messages\"]\n",
        "\n",
        "    response = model.invoke(messages)\n",
        "    return {\"messages\": response}\n",
        "\n",
        "def summarize_conversation(state: State) -> State:\n",
        "    print(f\"Messages before summarizing: {len(state['messages'])}\")\n",
        "    # First, we get any existing summary\n",
        "    summary = state.get(\"summary\", \"\")\n",
        "    print(f\"Existing summary: {summary}\")\n",
        "\n",
        "    # Create our summarization prompt\n",
        "    if summary:\n",
        "\n",
        "        # A summary already exists\n",
        "        summary_message = (\n",
        "            f\"This is summary of the conversation to date: {summary}\\n\\n\"\n",
        "            \"Extend the summary by taking into account the new messages above:\"\n",
        "        )\n",
        "\n",
        "    else:\n",
        "        summary_message = \"Create a summary of the conversation above:\"\n",
        "\n",
        "\n",
        "    # Add prompt to our history\n",
        "    messages = state[\"messages\"] + [HumanMessage(content=summary_message)]\n",
        "    response = model.invoke(messages)\n",
        "    # Summarization logic\n",
        "    print(f\"New summary: {response.content}\")\n",
        "\n",
        "    # Delete all but the 2 most recent messages\n",
        "    delete_messages = [RemoveMessage(id=m.id) for m in state[\"messages\"][:-2]]\n",
        "\n",
        "    print(f\"Messages after truncation: {len(delete_messages)}\")\n",
        "    return {\"summary\": response.content, \"messages\": delete_messages}\n",
        "\n",
        "# Determine whether to end or summarize the conversation\n",
        "def should_continue(state: State) -> State:\n",
        "\n",
        "    \"\"\"Return the next node to execute.\"\"\"\n",
        "\n",
        "    messages = state[\"messages\"]\n",
        "    print(f\"Message count: {len(messages)}\")\n",
        "    # If there are more than six messages, then we summarize the conversation\n",
        "    if len(messages) > 6:\n",
        "        return \"summarize_conversation\"\n",
        "\n",
        "    # Otherwise we can just end\n",
        "    return END"
      ],
      "metadata": {
        "id": "kvU-4FnS4Wxu"
      },
      "execution_count": 7,
      "outputs": []
    },
    {
      "cell_type": "markdown",
      "source": [
        "Now, we just re-compile with our postgres checkpointer."
      ],
      "metadata": {
        "id": "zzIVvGsXWap4"
      }
    },
    {
      "cell_type": "code",
      "source": [
        "from langgraph.graph import StateGraph, START, END\n",
        "from langgraph.graph.state import CompiledStateGraph\n",
        "\n",
        "# Redefine workflow\n",
        "workflow = StateGraph(State)\n",
        "workflow.add_node(\"conversation\", call_model)\n",
        "workflow.add_node(summarize_conversation)\n",
        "\n",
        "workflow.add_edge(START, \"conversation\")\n",
        "workflow.add_conditional_edges(\"conversation\", should_continue)\n",
        "workflow.add_edge(\"summarize_conversation\", END)\n",
        "\n",
        "# Compile the workflow with PostgreSQL checkpointer\n",
        "graph = workflow.compile(checkpointer=checkpointer)\n"
      ],
      "metadata": {
        "id": "d7wrnazV4mdo"
      },
      "execution_count": 8,
      "outputs": []
    },
    {
      "cell_type": "code",
      "source": [
        "from IPython.display import Image, display\n",
        "display(Image(graph.get_graph().draw_mermaid_png()))"
      ],
      "metadata": {
        "colab": {
          "base_uri": "https://localhost:8080/",
          "height": 350
        },
        "id": "lMQKJAbov7r3",
        "outputId": "a237a8e0-d8c1-4dd6-a3ee-ad80c90ac101"
      },
      "execution_count": 9,
      "outputs": [
        {
          "output_type": "display_data",
          "data": {
            "image/png": "[encoded data removed]",
            "text/plain": [
              "<IPython.core.display.Image object>"
            ]
          },
          "metadata": {}
        }
      ]
    },
    {
      "cell_type": "markdown",
      "source": [
        "Now, we can invoke the graph several times."
      ],
      "metadata": {
        "id": "C_KTIXuvWkT0"
      }
    },
    {
      "cell_type": "code",
      "source": [
        "# Configuration for thread\n",
        "config = {\"configurable\": {\"thread_id\": \"1\"}}\n",
        "\n",
        "# Start a conversation\n",
        "input_message = HumanMessage(content=\"hi! I'm Raheela\")\n",
        "output = graph.invoke({\"messages\": [input_message]}, config)\n",
        "for m in output['messages'][-1:]:\n",
        "    m.pretty_print()\n",
        "\n",
        "# Check the persisted state\n",
        "graph_state = graph.get_state(config)\n",
        "graph_state"
      ],
      "metadata": {
        "colab": {
          "base_uri": "https://localhost:8080/"
        },
        "id": "Wk129iSWZapB",
        "outputId": "a5ab346f-1fce-4f67-dd51-e86f55a89ecd"
      },
      "execution_count": 10,
      "outputs": [
        {
          "output_type": "stream",
          "name": "stdout",
          "text": [
            "Using summary: The conversation began with introductions, where I learned the user's name is Raheela and her hobby is painting. We then discussed abstract painting, providing a description of the art style, its characteristics (non-representational, emphasis on form and composition, emotional expression, open to interpretation), and different types (geometric, lyrical, gestural, color field).  Following this discussion,  the conversation briefly returned to Raheela's personal details, confirming her name and hobby. Finally, a summary of the conversation was requested and provided.\n",
            "\n",
            "Message count: 6\n",
            "==================================\u001b[1m Ai Message \u001b[0m==================================\n",
            "\n",
            "Hi Raheela!  It's nice to talk to you again.\n"
          ]
        },
        {
          "output_type": "execute_result",
          "data": {
            "text/plain": [
              "StateSnapshot(values={'messages': [HumanMessage(content=\"What's my name and what is my hobby?\", additional_kwargs={}, response_metadata={}, id='fb7b8411-4119-4281-bcdb-3e3370aa1f90'), AIMessage(content='Your name is Raheela, and your hobby is painting.\\n', additional_kwargs={}, response_metadata={'prompt_feedback': {'block_reason': 0, 'safety_ratings': []}, 'finish_reason': 'STOP', 'safety_ratings': []}, id='run-f69c55fd-be5b-43a2-a891-bef757f936e9-0', usage_metadata={'input_tokens': 580, 'output_tokens': 14, 'total_tokens': 594, 'input_token_details': {'cache_read': 0}}), HumanMessage(content='Can you describe about abstract paintings?', additional_kwargs={}, response_metadata={}, id='2b9ace3b-7a38-4e46-ab02-154cb779c5d6'), AIMessage(content='Abstract painting is a genre of art that doesn\\'t attempt to represent an accurate depiction of visual reality. Instead, it focuses on expressing ideas and emotions through shapes, colors, forms, and textures.  There\\'s no single \"look\" to abstract art; it\\'s incredibly diverse.\\n\\nHere are some key characteristics:\\n\\n* **Non-representational:**  Unlike realistic or representational art, abstract art doesn\\'t aim to depict recognizable objects or scenes.  It moves away from literal representation.\\n* **Emphasis on Form and Composition:** The arrangement of shapes, colors, and lines on the canvas is crucial.  The composition itself becomes the subject matter.\\n* **Emotional Expression:** Abstract art often aims to evoke feelings and emotions in the viewer, rather than illustrating a specific narrative.  The colors and forms used can convey a wide range of moods and sensations.\\n* **Open to Interpretation:**  There\\'s no single \"correct\" interpretation of an abstract painting. The meaning is often left up to the individual viewer\\'s experience and perspective.\\n\\n\\nDifferent types of abstract painting include:\\n\\n* **Geometric Abstraction:** Uses geometric shapes like squares, circles, and triangles as the primary elements.  Think clean lines and precise forms.\\n* **Lyrical Abstraction:**  More fluid and expressive, often using softer lines and colors to create a sense of movement and emotion.\\n* **Gestural Abstraction:** Emphasizes the artist\\'s physical gestures and movements in the creation of the artwork.  Brushstrokes are often visible and expressive.\\n* **Color Field Painting:** Focuses on the interplay of large areas of color, often with minimal shapes or lines.  The emphasis is on the effect of color itself.\\n\\n\\nIn short, abstract painting is a powerful and versatile art form that offers endless possibilities for creative expression and interpretation.\\n', additional_kwargs={}, response_metadata={'prompt_feedback': {'block_reason': 0, 'safety_ratings': []}, 'finish_reason': 'STOP', 'safety_ratings': []}, id='run-1d762813-362c-4d55-a29c-94e666bd0eac-0', usage_metadata={'input_tokens': 151, 'output_tokens': 374, 'total_tokens': 525, 'input_token_details': {'cache_read': 0}}), HumanMessage(content=\"hi! I'm Raheela\", additional_kwargs={}, response_metadata={}, id='bda3070e-8a4b-4a0a-8220-f794ab2d3cfe'), AIMessage(content=\"Hi Raheela!  It's nice to talk to you again.\\n\", additional_kwargs={}, response_metadata={'prompt_feedback': {'block_reason': 0, 'safety_ratings': []}, 'finish_reason': 'STOP', 'safety_ratings': []}, id='run-8e9326ab-c50f-40ad-9d6a-2ac716a01fb1-0', usage_metadata={'input_tokens': 535, 'output_tokens': 17, 'total_tokens': 552, 'input_token_details': {'cache_read': 0}})], 'summary': \"The conversation began with introductions, where I learned the user's name is Raheela and her hobby is painting. We then discussed abstract painting, providing a description of the art style, its characteristics (non-representational, emphasis on form and composition, emotional expression, open to interpretation), and different types (geometric, lyrical, gestural, color field).  Following this discussion,  the conversation briefly returned to Raheela's personal details, confirming her name and hobby. Finally, a summary of the conversation was requested and provided.\\n\"}, next=(), config={'configurable': {'thread_id': '1', 'checkpoint_ns': '', 'checkpoint_id': '1efb3a9d-6d05-6e9c-801b-cf2d9464e8b7'}}, metadata={'step': 27, 'source': 'loop', 'writes': {'conversation': {'messages': AIMessage(content=\"Hi Raheela!  It's nice to talk to you again.\\n\", additional_kwargs={}, response_metadata={'finish_reason': 'STOP', 'safety_ratings': [], 'prompt_feedback': {'block_reason': 0, 'safety_ratings': []}}, id='run-8e9326ab-c50f-40ad-9d6a-2ac716a01fb1-0', usage_metadata={'input_tokens': 535, 'output_tokens': 17, 'total_tokens': 552, 'input_token_details': {'cache_read': 0}})}}, 'parents': {}, 'thread_id': '1'}, created_at='2024-12-06T08:12:30.659929+00:00', parent_config={'configurable': {'thread_id': '1', 'checkpoint_ns': '', 'checkpoint_id': '1efb3a9d-6578-6de0-801a-ef147ad1c250'}}, tasks=())"
            ]
          },
          "metadata": {},
          "execution_count": 10
        }
      ]
    },
    {
      "cell_type": "code",
      "source": [
        "# Configuration for thread\n",
        "config = {\"configurable\": {\"thread_id\": \"1\"}}\n",
        "\n",
        "# Start a conversation\n",
        "input_message = HumanMessage(content=\"I like painting pictures.\")\n",
        "output = graph.invoke({\"messages\": [input_message]}, config)\n",
        "for m in output['messages'][-1:]:\n",
        "    m.pretty_print()\n",
        "\n",
        "# Check the persisted state\n",
        "graph_state = graph.get_state(config)\n",
        "graph_state"
      ],
      "metadata": {
        "colab": {
          "base_uri": "https://localhost:8080/"
        },
        "id": "HxWCVPkuZvf-",
        "outputId": "13d0c8df-6cfd-4c44-d1ba-e7c228698a30"
      },
      "execution_count": 11,
      "outputs": [
        {
          "output_type": "stream",
          "name": "stdout",
          "text": [
            "Using summary: The conversation began with introductions, where I learned the user's name is Raheela and her hobby is painting. We then discussed abstract painting, providing a description of the art style, its characteristics (non-representational, emphasis on form and composition, emotional expression, open to interpretation), and different types (geometric, lyrical, gestural, color field).  Following this discussion,  the conversation briefly returned to Raheela's personal details, confirming her name and hobby. Finally, a summary of the conversation was requested and provided.\n",
            "\n",
            "Message count: 8\n",
            "Messages before summarizing: 8\n",
            "Existing summary: The conversation began with introductions, where I learned the user's name is Raheela and her hobby is painting. We then discussed abstract painting, providing a description of the art style, its characteristics (non-representational, emphasis on form and composition, emotional expression, open to interpretation), and different types (geometric, lyrical, gestural, color field).  Following this discussion,  the conversation briefly returned to Raheela's personal details, confirming her name and hobby. Finally, a summary of the conversation was requested and provided.\n",
            "\n",
            "New summary: The conversation began with an initial exchange where the AI incorrectly guessed Raheela's name and hobby.  This was corrected, establishing Raheela's identity and confirming her enjoyment of painting as a hobby.  A detailed discussion followed on abstract painting, covering its definition, key characteristics (non-representational nature, focus on form and composition, emotional expression, and open interpretation), and various styles (geometric, lyrical, gestural, and color field).  After this, the conversation briefly returned to Raheela's personal information, with her explicitly stating her name and interest in painting.  Finally, a summary of the conversation was requested and provided, which is now being extended to include this confirmation of her hobby and the initial incorrect guess.\n",
            "\n",
            "Messages after truncation: 6\n",
            "==================================\u001b[1m Ai Message \u001b[0m==================================\n",
            "\n",
            "That's wonderful, Raheela!  Painting is a fantastic creative outlet.  What kind of pictures do you enjoy painting?\n"
          ]
        },
        {
          "output_type": "execute_result",
          "data": {
            "text/plain": [
              "StateSnapshot(values={'messages': [HumanMessage(content='I like painting pictures.', additional_kwargs={}, response_metadata={}, id='b5a3679a-2ba0-4cf7-876c-2999c4e1d260'), AIMessage(content=\"That's wonderful, Raheela!  Painting is a fantastic creative outlet.  What kind of pictures do you enjoy painting?\\n\", additional_kwargs={}, response_metadata={'prompt_feedback': {'block_reason': 0, 'safety_ratings': []}, 'finish_reason': 'STOP', 'safety_ratings': []}, id='run-e8886abf-3cb9-483f-a511-14e36bc99263-0', usage_metadata={'input_tokens': 559, 'output_tokens': 28, 'total_tokens': 587, 'input_token_details': {'cache_read': 0}})], 'summary': \"The conversation began with an initial exchange where the AI incorrectly guessed Raheela's name and hobby.  This was corrected, establishing Raheela's identity and confirming her enjoyment of painting as a hobby.  A detailed discussion followed on abstract painting, covering its definition, key characteristics (non-representational nature, focus on form and composition, emotional expression, and open interpretation), and various styles (geometric, lyrical, gestural, and color field).  After this, the conversation briefly returned to Raheela's personal information, with her explicitly stating her name and interest in painting.  Finally, a summary of the conversation was requested and provided, which is now being extended to include this confirmation of her hobby and the initial incorrect guess.\\n\"}, next=(), config={'configurable': {'thread_id': '1', 'checkpoint_ns': '', 'checkpoint_id': '1efb3a9d-b4db-6db9-801f-a882ed4c80a3'}}, metadata={'step': 31, 'source': 'loop', 'writes': {'summarize_conversation': {'summary': \"The conversation began with an initial exchange where the AI incorrectly guessed Raheela's name and hobby.  This was corrected, establishing Raheela's identity and confirming her enjoyment of painting as a hobby.  A detailed discussion followed on abstract painting, covering its definition, key characteristics (non-representational nature, focus on form and composition, emotional expression, and open interpretation), and various styles (geometric, lyrical, gestural, and color field).  After this, the conversation briefly returned to Raheela's personal information, with her explicitly stating her name and interest in painting.  Finally, a summary of the conversation was requested and provided, which is now being extended to include this confirmation of her hobby and the initial incorrect guess.\\n\", 'messages': [RemoveMessage(content='', additional_kwargs={}, response_metadata={}, id='fb7b8411-4119-4281-bcdb-3e3370aa1f90'), RemoveMessage(content='', additional_kwargs={}, response_metadata={}, id='run-f69c55fd-be5b-43a2-a891-bef757f936e9-0'), RemoveMessage(content='', additional_kwargs={}, response_metadata={}, id='2b9ace3b-7a38-4e46-ab02-154cb779c5d6'), RemoveMessage(content='', additional_kwargs={}, response_metadata={}, id='run-1d762813-362c-4d55-a29c-94e666bd0eac-0'), RemoveMessage(content='', additional_kwargs={}, response_metadata={}, id='bda3070e-8a4b-4a0a-8220-f794ab2d3cfe'), RemoveMessage(content='', additional_kwargs={}, response_metadata={}, id='run-8e9326ab-c50f-40ad-9d6a-2ac716a01fb1-0')]}}, 'parents': {}, 'thread_id': '1'}, created_at='2024-12-06T08:12:38.192450+00:00', parent_config={'configurable': {'thread_id': '1', 'checkpoint_ns': '', 'checkpoint_id': '1efb3a9d-a787-6def-801e-2b6f1c1483d3'}}, tasks=())"
            ]
          },
          "metadata": {},
          "execution_count": 11
        }
      ]
    },
    {
      "cell_type": "code",
      "source": [
        "# Configuration for thread\n",
        "config = {\"configurable\": {\"thread_id\": \"1\"}}\n",
        "\n",
        "# Start a conversation\n",
        "input_message = HumanMessage(content=\"What's my name and what is my hobby?\")\n",
        "output = graph.invoke({\"messages\": [input_message]}, config)\n",
        "for m in output['messages'][-1:]:\n",
        "    m.pretty_print()\n",
        "\n",
        "# Check the persisted state\n",
        "graph_state = graph.get_state(config)\n",
        "graph_state"
      ],
      "metadata": {
        "colab": {
          "base_uri": "https://localhost:8080/"
        },
        "id": "HxLLjBiBfZAL",
        "outputId": "80134b01-90aa-4b36-ceca-9dfc912e6d21"
      },
      "execution_count": 12,
      "outputs": [
        {
          "output_type": "stream",
          "name": "stdout",
          "text": [
            "Using summary: The conversation began with an initial exchange where the AI incorrectly guessed Raheela's name and hobby.  This was corrected, establishing Raheela's identity and confirming her enjoyment of painting as a hobby.  A detailed discussion followed on abstract painting, covering its definition, key characteristics (non-representational nature, focus on form and composition, emotional expression, and open interpretation), and various styles (geometric, lyrical, gestural, and color field).  After this, the conversation briefly returned to Raheela's personal information, with her explicitly stating her name and interest in painting.  Finally, a summary of the conversation was requested and provided, which is now being extended to include this confirmation of her hobby and the initial incorrect guess.\n",
            "\n",
            "Message count: 4\n",
            "==================================\u001b[1m Ai Message \u001b[0m==================================\n",
            "\n",
            "Your name is Raheela, and your hobby is painting.\n"
          ]
        },
        {
          "output_type": "execute_result",
          "data": {
            "text/plain": [
              "StateSnapshot(values={'messages': [HumanMessage(content='I like painting pictures.', additional_kwargs={}, response_metadata={}, id='b5a3679a-2ba0-4cf7-876c-2999c4e1d260'), AIMessage(content=\"That's wonderful, Raheela!  Painting is a fantastic creative outlet.  What kind of pictures do you enjoy painting?\\n\", additional_kwargs={}, response_metadata={'prompt_feedback': {'block_reason': 0, 'safety_ratings': []}, 'finish_reason': 'STOP', 'safety_ratings': []}, id='run-e8886abf-3cb9-483f-a511-14e36bc99263-0', usage_metadata={'input_tokens': 559, 'output_tokens': 28, 'total_tokens': 587, 'input_token_details': {'cache_read': 0}}), HumanMessage(content=\"What's my name and what is my hobby?\", additional_kwargs={}, response_metadata={}, id='6a7338a4-d470-4ef9-a699-f1504d3fca27'), AIMessage(content='Your name is Raheela, and your hobby is painting.\\n', additional_kwargs={}, response_metadata={'prompt_feedback': {'block_reason': 0, 'safety_ratings': []}, 'finish_reason': 'STOP', 'safety_ratings': []}, id='run-1f53cf95-af80-4e10-b10d-151c863ee15e-0', usage_metadata={'input_tokens': 205, 'output_tokens': 14, 'total_tokens': 219, 'input_token_details': {'cache_read': 0}})], 'summary': \"The conversation began with an initial exchange where the AI incorrectly guessed Raheela's name and hobby.  This was corrected, establishing Raheela's identity and confirming her enjoyment of painting as a hobby.  A detailed discussion followed on abstract painting, covering its definition, key characteristics (non-representational nature, focus on form and composition, emotional expression, and open interpretation), and various styles (geometric, lyrical, gestural, and color field).  After this, the conversation briefly returned to Raheela's personal information, with her explicitly stating her name and interest in painting.  Finally, a summary of the conversation was requested and provided, which is now being extended to include this confirmation of her hobby and the initial incorrect guess.\\n\"}, next=(), config={'configurable': {'thread_id': '1', 'checkpoint_ns': '', 'checkpoint_id': '1efb3a9e-1b3e-6636-8022-9ed8b1c1d343'}}, metadata={'step': 34, 'source': 'loop', 'writes': {'conversation': {'messages': AIMessage(content='Your name is Raheela, and your hobby is painting.\\n', additional_kwargs={}, response_metadata={'finish_reason': 'STOP', 'safety_ratings': [], 'prompt_feedback': {'block_reason': 0, 'safety_ratings': []}}, id='run-1f53cf95-af80-4e10-b10d-151c863ee15e-0', usage_metadata={'input_tokens': 205, 'output_tokens': 14, 'total_tokens': 219, 'input_token_details': {'cache_read': 0}})}}, 'parents': {}, 'thread_id': '1'}, created_at='2024-12-06T08:12:48.928283+00:00', parent_config={'configurable': {'thread_id': '1', 'checkpoint_ns': '', 'checkpoint_id': '1efb3a9e-1733-650d-8021-c2ef2381429b'}}, tasks=())"
            ]
          },
          "metadata": {},
          "execution_count": 12
        }
      ]
    },
    {
      "cell_type": "code",
      "source": [
        "# Configuration for thread\n",
        "config = {\"configurable\": {\"thread_id\": \"1\"}}\n",
        "\n",
        "# Start a conversation\n",
        "input_message = HumanMessage(content=\"Can you describe about abstract paintings?\")\n",
        "output = graph.invoke({\"messages\": [input_message]}, config)\n",
        "for m in output['messages'][-1:]:\n",
        "    m.pretty_print()\n",
        "\n",
        "# Check the persisted state\n",
        "graph_state = graph.get_state(config)\n",
        "graph_state"
      ],
      "metadata": {
        "colab": {
          "base_uri": "https://localhost:8080/"
        },
        "id": "iygDZ-_xhsQW",
        "outputId": "4be5a72d-7756-4739-a43f-f6b08f9fb1a1"
      },
      "execution_count": 13,
      "outputs": [
        {
          "output_type": "stream",
          "name": "stdout",
          "text": [
            "Using summary: The conversation began with an initial exchange where the AI incorrectly guessed Raheela's name and hobby.  This was corrected, establishing Raheela's identity and confirming her enjoyment of painting as a hobby.  A detailed discussion followed on abstract painting, covering its definition, key characteristics (non-representational nature, focus on form and composition, emotional expression, and open interpretation), and various styles (geometric, lyrical, gestural, and color field).  After this, the conversation briefly returned to Raheela's personal information, with her explicitly stating her name and interest in painting.  Finally, a summary of the conversation was requested and provided, which is now being extended to include this confirmation of her hobby and the initial incorrect guess.\n",
            "\n",
            "Message count: 6\n",
            "==================================\u001b[1m Ai Message \u001b[0m==================================\n",
            "\n",
            "Abstract paintings are works of art that don't attempt to represent an accurate depiction of visual reality.  Instead, they focus on expressing ideas and emotions through shapes, colors, forms, and textures.  They're non-representational, meaning you won't find recognizable objects like people, landscapes, or still lifes.\n",
            "\n",
            "Key characteristics of abstract paintings include:\n",
            "\n",
            "* **Non-representational imagery:**  The primary focus is not on depicting something recognizable.\n",
            "* **Emphasis on form and composition:** The arrangement of shapes, colors, and lines is crucial to the overall impact of the piece.  This includes considerations of balance, rhythm, and visual weight.\n",
            "* **Emotional expression:** Abstract art often aims to evoke feelings and moods in the viewer rather than conveying a specific narrative.\n",
            "* **Open interpretation:**  There's no single \"correct\" interpretation of an abstract painting. The meaning is often left open to the viewer's individual experience and perspective.\n",
            "\n",
            "\n",
            "Several styles fall under the umbrella of abstract painting, including:\n",
            "\n",
            "* **Geometric Abstraction:** Uses geometric shapes (squares, circles, triangles) as the primary building blocks of the composition.  Think Piet Mondrian.\n",
            "* **Lyrical Abstraction:**  Emphasizes fluidity, grace, and often incorporates organic forms, suggesting movement and emotion.\n",
            "* **Gestural Abstraction:**  Focuses on the physical act of painting itself, with visible brushstrokes and energetic movements dominating the composition.  Think Jackson Pollock.\n",
            "* **Color Field Painting:**  Emphasizes large areas of flat color, often with subtle variations in tone and hue, creating a sense of atmosphere and tranquility.  Think Mark Rothko.\n",
            "\n",
            "\n",
            "Understanding these characteristics and styles helps appreciate the diverse range of expression within the world of abstract art.  What aspects of abstract painting are you most interested in learning more about?\n"
          ]
        },
        {
          "output_type": "execute_result",
          "data": {
            "text/plain": [
              "StateSnapshot(values={'messages': [HumanMessage(content='I like painting pictures.', additional_kwargs={}, response_metadata={}, id='b5a3679a-2ba0-4cf7-876c-2999c4e1d260'), AIMessage(content=\"That's wonderful, Raheela!  Painting is a fantastic creative outlet.  What kind of pictures do you enjoy painting?\\n\", additional_kwargs={}, response_metadata={'prompt_feedback': {'block_reason': 0, 'safety_ratings': []}, 'finish_reason': 'STOP', 'safety_ratings': []}, id='run-e8886abf-3cb9-483f-a511-14e36bc99263-0', usage_metadata={'input_tokens': 559, 'output_tokens': 28, 'total_tokens': 587, 'input_token_details': {'cache_read': 0}}), HumanMessage(content=\"What's my name and what is my hobby?\", additional_kwargs={}, response_metadata={}, id='6a7338a4-d470-4ef9-a699-f1504d3fca27'), AIMessage(content='Your name is Raheela, and your hobby is painting.\\n', additional_kwargs={}, response_metadata={'prompt_feedback': {'block_reason': 0, 'safety_ratings': []}, 'finish_reason': 'STOP', 'safety_ratings': []}, id='run-1f53cf95-af80-4e10-b10d-151c863ee15e-0', usage_metadata={'input_tokens': 205, 'output_tokens': 14, 'total_tokens': 219, 'input_token_details': {'cache_read': 0}}), HumanMessage(content='Can you describe about abstract paintings?', additional_kwargs={}, response_metadata={}, id='3dcde78d-d27f-4568-bec4-d0674ce342b1'), AIMessage(content='Abstract paintings are works of art that don\\'t attempt to represent an accurate depiction of visual reality.  Instead, they focus on expressing ideas and emotions through shapes, colors, forms, and textures.  They\\'re non-representational, meaning you won\\'t find recognizable objects like people, landscapes, or still lifes.\\n\\nKey characteristics of abstract paintings include:\\n\\n* **Non-representational imagery:**  The primary focus is not on depicting something recognizable.\\n* **Emphasis on form and composition:** The arrangement of shapes, colors, and lines is crucial to the overall impact of the piece.  This includes considerations of balance, rhythm, and visual weight.\\n* **Emotional expression:** Abstract art often aims to evoke feelings and moods in the viewer rather than conveying a specific narrative.\\n* **Open interpretation:**  There\\'s no single \"correct\" interpretation of an abstract painting. The meaning is often left open to the viewer\\'s individual experience and perspective.\\n\\n\\nSeveral styles fall under the umbrella of abstract painting, including:\\n\\n* **Geometric Abstraction:** Uses geometric shapes (squares, circles, triangles) as the primary building blocks of the composition.  Think Piet Mondrian.\\n* **Lyrical Abstraction:**  Emphasizes fluidity, grace, and often incorporates organic forms, suggesting movement and emotion.\\n* **Gestural Abstraction:**  Focuses on the physical act of painting itself, with visible brushstrokes and energetic movements dominating the composition.  Think Jackson Pollock.\\n* **Color Field Painting:**  Emphasizes large areas of flat color, often with subtle variations in tone and hue, creating a sense of atmosphere and tranquility.  Think Mark Rothko.\\n\\n\\nUnderstanding these characteristics and styles helps appreciate the diverse range of expression within the world of abstract art.  What aspects of abstract painting are you most interested in learning more about?\\n', additional_kwargs={}, response_metadata={'prompt_feedback': {'block_reason': 0, 'safety_ratings': []}, 'finish_reason': 'STOP', 'safety_ratings': []}, id='run-ae17a120-773d-4c3d-89d0-2387fc8ee1f9-0', usage_metadata={'input_tokens': 228, 'output_tokens': 377, 'total_tokens': 605, 'input_token_details': {'cache_read': 0}})], 'summary': \"The conversation began with an initial exchange where the AI incorrectly guessed Raheela's name and hobby.  This was corrected, establishing Raheela's identity and confirming her enjoyment of painting as a hobby.  A detailed discussion followed on abstract painting, covering its definition, key characteristics (non-representational nature, focus on form and composition, emotional expression, and open interpretation), and various styles (geometric, lyrical, gestural, and color field).  After this, the conversation briefly returned to Raheela's personal information, with her explicitly stating her name and interest in painting.  Finally, a summary of the conversation was requested and provided, which is now being extended to include this confirmation of her hobby and the initial incorrect guess.\\n\"}, next=(), config={'configurable': {'thread_id': '1', 'checkpoint_ns': '', 'checkpoint_id': '1efb3a9e-7373-613e-8025-aa5a35177541'}}, metadata={'step': 37, 'source': 'loop', 'writes': {'conversation': {'messages': AIMessage(content='Abstract paintings are works of art that don\\'t attempt to represent an accurate depiction of visual reality.  Instead, they focus on expressing ideas and emotions through shapes, colors, forms, and textures.  They\\'re non-representational, meaning you won\\'t find recognizable objects like people, landscapes, or still lifes.\\n\\nKey characteristics of abstract paintings include:\\n\\n* **Non-representational imagery:**  The primary focus is not on depicting something recognizable.\\n* **Emphasis on form and composition:** The arrangement of shapes, colors, and lines is crucial to the overall impact of the piece.  This includes considerations of balance, rhythm, and visual weight.\\n* **Emotional expression:** Abstract art often aims to evoke feelings and moods in the viewer rather than conveying a specific narrative.\\n* **Open interpretation:**  There\\'s no single \"correct\" interpretation of an abstract painting. The meaning is often left open to the viewer\\'s individual experience and perspective.\\n\\n\\nSeveral styles fall under the umbrella of abstract painting, including:\\n\\n* **Geometric Abstraction:** Uses geometric shapes (squares, circles, triangles) as the primary building blocks of the composition.  Think Piet Mondrian.\\n* **Lyrical Abstraction:**  Emphasizes fluidity, grace, and often incorporates organic forms, suggesting movement and emotion.\\n* **Gestural Abstraction:**  Focuses on the physical act of painting itself, with visible brushstrokes and energetic movements dominating the composition.  Think Jackson Pollock.\\n* **Color Field Painting:**  Emphasizes large areas of flat color, often with subtle variations in tone and hue, creating a sense of atmosphere and tranquility.  Think Mark Rothko.\\n\\n\\nUnderstanding these characteristics and styles helps appreciate the diverse range of expression within the world of abstract art.  What aspects of abstract painting are you most interested in learning more about?\\n', additional_kwargs={}, response_metadata={'finish_reason': 'STOP', 'safety_ratings': [], 'prompt_feedback': {'block_reason': 0, 'safety_ratings': []}}, id='run-ae17a120-773d-4c3d-89d0-2387fc8ee1f9-0', usage_metadata={'input_tokens': 228, 'output_tokens': 377, 'total_tokens': 605, 'input_token_details': {'cache_read': 0}})}}, 'parents': {}, 'thread_id': '1'}, created_at='2024-12-06T08:12:58.177319+00:00', parent_config={'configurable': {'thread_id': '1', 'checkpoint_ns': '', 'checkpoint_id': '1efb3a9e-5695-6c49-8024-50d0eba76b1d'}}, tasks=())"
            ]
          },
          "metadata": {},
          "execution_count": 13
        }
      ]
    },
    {
      "cell_type": "markdown",
      "source": [],
      "metadata": {
        "id": "gFqFzWDrWnt5"
      }
    },
    {
      "cell_type": "code",
      "source": [
        "# Retrieve state using thread ID\n",
        "config = {\"configurable\": {\"thread_id\": \"1\"}}\n",
        "graph_state = graph.get_state(config)\n",
        "graph_state"
      ],
      "metadata": {
        "colab": {
          "base_uri": "https://localhost:8080/"
        },
        "id": "Cmwlf-TFYQqH",
        "outputId": "bc173c2a-adf7-4bbf-877a-8fe566428b51"
      },
      "execution_count": 30,
      "outputs": [
        {
          "output_type": "execute_result",
          "data": {
            "text/plain": [
              "StateSnapshot(values={'messages': [HumanMessage(content=\"What's my name and what is my hobby?\", additional_kwargs={}, response_metadata={}, id='fb7b8411-4119-4281-bcdb-3e3370aa1f90'), AIMessage(content='Your name is Raheela, and your hobby is painting.\\n', additional_kwargs={}, response_metadata={'prompt_feedback': {'block_reason': 0, 'safety_ratings': []}, 'finish_reason': 'STOP', 'safety_ratings': []}, id='run-f69c55fd-be5b-43a2-a891-bef757f936e9-0', usage_metadata={'input_tokens': 580, 'output_tokens': 14, 'total_tokens': 594, 'input_token_details': {'cache_read': 0}}), HumanMessage(content='Can you describe about abstract paintings?', additional_kwargs={}, response_metadata={}, id='2b9ace3b-7a38-4e46-ab02-154cb779c5d6'), AIMessage(content='Abstract painting is a genre of art that doesn\\'t attempt to represent an accurate depiction of visual reality. Instead, it focuses on expressing ideas and emotions through shapes, colors, forms, and textures.  There\\'s no single \"look\" to abstract art; it\\'s incredibly diverse.\\n\\nHere are some key characteristics:\\n\\n* **Non-representational:**  Unlike realistic or representational art, abstract art doesn\\'t aim to depict recognizable objects or scenes.  It moves away from literal representation.\\n* **Emphasis on Form and Composition:** The arrangement of shapes, colors, and lines on the canvas is crucial.  The composition itself becomes the subject matter.\\n* **Emotional Expression:** Abstract art often aims to evoke feelings and emotions in the viewer, rather than illustrating a specific narrative.  The colors and forms used can convey a wide range of moods and sensations.\\n* **Open to Interpretation:**  There\\'s no single \"correct\" interpretation of an abstract painting. The meaning is often left up to the individual viewer\\'s experience and perspective.\\n\\n\\nDifferent types of abstract painting include:\\n\\n* **Geometric Abstraction:** Uses geometric shapes like squares, circles, and triangles as the primary elements.  Think clean lines and precise forms.\\n* **Lyrical Abstraction:**  More fluid and expressive, often using softer lines and colors to create a sense of movement and emotion.\\n* **Gestural Abstraction:** Emphasizes the artist\\'s physical gestures and movements in the creation of the artwork.  Brushstrokes are often visible and expressive.\\n* **Color Field Painting:** Focuses on the interplay of large areas of color, often with minimal shapes or lines.  The emphasis is on the effect of color itself.\\n\\n\\nIn short, abstract painting is a powerful and versatile art form that offers endless possibilities for creative expression and interpretation.\\n', additional_kwargs={}, response_metadata={'prompt_feedback': {'block_reason': 0, 'safety_ratings': []}, 'finish_reason': 'STOP', 'safety_ratings': []}, id='run-1d762813-362c-4d55-a29c-94e666bd0eac-0', usage_metadata={'input_tokens': 151, 'output_tokens': 374, 'total_tokens': 525, 'input_token_details': {'cache_read': 0}})], 'summary': \"The conversation began with introductions, where I learned the user's name is Raheela and her hobby is painting. We then discussed abstract painting, providing a description of the art style, its characteristics (non-representational, emphasis on form and composition, emotional expression, open to interpretation), and different types (geometric, lyrical, gestural, color field).  Following this discussion,  the conversation briefly returned to Raheela's personal details, confirming her name and hobby. Finally, a summary of the conversation was requested and provided.\\n\"}, next=(), config={'configurable': {'thread_id': '1', 'checkpoint_ns': '', 'checkpoint_id': '1efb3a7e-08ed-670e-8018-c7d0431f4ceb'}}, metadata={'step': 24, 'source': 'loop', 'writes': {'conversation': {'messages': AIMessage(content='Abstract painting is a genre of art that doesn\\'t attempt to represent an accurate depiction of visual reality. Instead, it focuses on expressing ideas and emotions through shapes, colors, forms, and textures.  There\\'s no single \"look\" to abstract art; it\\'s incredibly diverse.\\n\\nHere are some key characteristics:\\n\\n* **Non-representational:**  Unlike realistic or representational art, abstract art doesn\\'t aim to depict recognizable objects or scenes.  It moves away from literal representation.\\n* **Emphasis on Form and Composition:** The arrangement of shapes, colors, and lines on the canvas is crucial.  The composition itself becomes the subject matter.\\n* **Emotional Expression:** Abstract art often aims to evoke feelings and emotions in the viewer, rather than illustrating a specific narrative.  The colors and forms used can convey a wide range of moods and sensations.\\n* **Open to Interpretation:**  There\\'s no single \"correct\" interpretation of an abstract painting. The meaning is often left up to the individual viewer\\'s experience and perspective.\\n\\n\\nDifferent types of abstract painting include:\\n\\n* **Geometric Abstraction:** Uses geometric shapes like squares, circles, and triangles as the primary elements.  Think clean lines and precise forms.\\n* **Lyrical Abstraction:**  More fluid and expressive, often using softer lines and colors to create a sense of movement and emotion.\\n* **Gestural Abstraction:** Emphasizes the artist\\'s physical gestures and movements in the creation of the artwork.  Brushstrokes are often visible and expressive.\\n* **Color Field Painting:** Focuses on the interplay of large areas of color, often with minimal shapes or lines.  The emphasis is on the effect of color itself.\\n\\n\\nIn short, abstract painting is a powerful and versatile art form that offers endless possibilities for creative expression and interpretation.\\n', additional_kwargs={}, response_metadata={'finish_reason': 'STOP', 'safety_ratings': [], 'prompt_feedback': {'block_reason': 0, 'safety_ratings': []}}, id='run-1d762813-362c-4d55-a29c-94e666bd0eac-0', usage_metadata={'input_tokens': 151, 'output_tokens': 374, 'total_tokens': 525, 'input_token_details': {'cache_read': 0}})}}, 'parents': {}, 'thread_id': '1'}, created_at='2024-12-06T07:58:28.014221+00:00', parent_config={'configurable': {'thread_id': '1', 'checkpoint_ns': '', 'checkpoint_id': '1efb3a7d-ee98-621f-8017-e33a568a7951'}}, tasks=())"
            ]
          },
          "metadata": {},
          "execution_count": 30
        }
      ]
    },
    {
      "cell_type": "code",
      "source": [
        "# Retrive chat history : step1 get all messages key (rm note check)\n",
        "# get all messages\n",
        "config = {\"configurable\": {\"thread_id\": \"1\"}}\n",
        "messages = graph.get_state(config).values.get(\"messages\", \"\")\n",
        "graph_state"
      ],
      "metadata": {
        "colab": {
          "base_uri": "https://localhost:8080/"
        },
        "id": "vBTxdrGH94XN",
        "outputId": "a541c110-7881-4317-c125-585c374a602c"
      },
      "execution_count": 14,
      "outputs": [
        {
          "output_type": "execute_result",
          "data": {
            "text/plain": [
              "StateSnapshot(values={'messages': [HumanMessage(content='I like painting pictures.', additional_kwargs={}, response_metadata={}, id='b5a3679a-2ba0-4cf7-876c-2999c4e1d260'), AIMessage(content=\"That's wonderful, Raheela!  Painting is a fantastic creative outlet.  What kind of pictures do you enjoy painting?\\n\", additional_kwargs={}, response_metadata={'prompt_feedback': {'block_reason': 0, 'safety_ratings': []}, 'finish_reason': 'STOP', 'safety_ratings': []}, id='run-e8886abf-3cb9-483f-a511-14e36bc99263-0', usage_metadata={'input_tokens': 559, 'output_tokens': 28, 'total_tokens': 587, 'input_token_details': {'cache_read': 0}}), HumanMessage(content=\"What's my name and what is my hobby?\", additional_kwargs={}, response_metadata={}, id='6a7338a4-d470-4ef9-a699-f1504d3fca27'), AIMessage(content='Your name is Raheela, and your hobby is painting.\\n', additional_kwargs={}, response_metadata={'prompt_feedback': {'block_reason': 0, 'safety_ratings': []}, 'finish_reason': 'STOP', 'safety_ratings': []}, id='run-1f53cf95-af80-4e10-b10d-151c863ee15e-0', usage_metadata={'input_tokens': 205, 'output_tokens': 14, 'total_tokens': 219, 'input_token_details': {'cache_read': 0}}), HumanMessage(content='Can you describe about abstract paintings?', additional_kwargs={}, response_metadata={}, id='3dcde78d-d27f-4568-bec4-d0674ce342b1'), AIMessage(content='Abstract paintings are works of art that don\\'t attempt to represent an accurate depiction of visual reality.  Instead, they focus on expressing ideas and emotions through shapes, colors, forms, and textures.  They\\'re non-representational, meaning you won\\'t find recognizable objects like people, landscapes, or still lifes.\\n\\nKey characteristics of abstract paintings include:\\n\\n* **Non-representational imagery:**  The primary focus is not on depicting something recognizable.\\n* **Emphasis on form and composition:** The arrangement of shapes, colors, and lines is crucial to the overall impact of the piece.  This includes considerations of balance, rhythm, and visual weight.\\n* **Emotional expression:** Abstract art often aims to evoke feelings and moods in the viewer rather than conveying a specific narrative.\\n* **Open interpretation:**  There\\'s no single \"correct\" interpretation of an abstract painting. The meaning is often left open to the viewer\\'s individual experience and perspective.\\n\\n\\nSeveral styles fall under the umbrella of abstract painting, including:\\n\\n* **Geometric Abstraction:** Uses geometric shapes (squares, circles, triangles) as the primary building blocks of the composition.  Think Piet Mondrian.\\n* **Lyrical Abstraction:**  Emphasizes fluidity, grace, and often incorporates organic forms, suggesting movement and emotion.\\n* **Gestural Abstraction:**  Focuses on the physical act of painting itself, with visible brushstrokes and energetic movements dominating the composition.  Think Jackson Pollock.\\n* **Color Field Painting:**  Emphasizes large areas of flat color, often with subtle variations in tone and hue, creating a sense of atmosphere and tranquility.  Think Mark Rothko.\\n\\n\\nUnderstanding these characteristics and styles helps appreciate the diverse range of expression within the world of abstract art.  What aspects of abstract painting are you most interested in learning more about?\\n', additional_kwargs={}, response_metadata={'prompt_feedback': {'block_reason': 0, 'safety_ratings': []}, 'finish_reason': 'STOP', 'safety_ratings': []}, id='run-ae17a120-773d-4c3d-89d0-2387fc8ee1f9-0', usage_metadata={'input_tokens': 228, 'output_tokens': 377, 'total_tokens': 605, 'input_token_details': {'cache_read': 0}})], 'summary': \"The conversation began with an initial exchange where the AI incorrectly guessed Raheela's name and hobby.  This was corrected, establishing Raheela's identity and confirming her enjoyment of painting as a hobby.  A detailed discussion followed on abstract painting, covering its definition, key characteristics (non-representational nature, focus on form and composition, emotional expression, and open interpretation), and various styles (geometric, lyrical, gestural, and color field).  After this, the conversation briefly returned to Raheela's personal information, with her explicitly stating her name and interest in painting.  Finally, a summary of the conversation was requested and provided, which is now being extended to include this confirmation of her hobby and the initial incorrect guess.\\n\"}, next=(), config={'configurable': {'thread_id': '1', 'checkpoint_ns': '', 'checkpoint_id': '1efb3a9e-7373-613e-8025-aa5a35177541'}}, metadata={'step': 37, 'source': 'loop', 'writes': {'conversation': {'messages': AIMessage(content='Abstract paintings are works of art that don\\'t attempt to represent an accurate depiction of visual reality.  Instead, they focus on expressing ideas and emotions through shapes, colors, forms, and textures.  They\\'re non-representational, meaning you won\\'t find recognizable objects like people, landscapes, or still lifes.\\n\\nKey characteristics of abstract paintings include:\\n\\n* **Non-representational imagery:**  The primary focus is not on depicting something recognizable.\\n* **Emphasis on form and composition:** The arrangement of shapes, colors, and lines is crucial to the overall impact of the piece.  This includes considerations of balance, rhythm, and visual weight.\\n* **Emotional expression:** Abstract art often aims to evoke feelings and moods in the viewer rather than conveying a specific narrative.\\n* **Open interpretation:**  There\\'s no single \"correct\" interpretation of an abstract painting. The meaning is often left open to the viewer\\'s individual experience and perspective.\\n\\n\\nSeveral styles fall under the umbrella of abstract painting, including:\\n\\n* **Geometric Abstraction:** Uses geometric shapes (squares, circles, triangles) as the primary building blocks of the composition.  Think Piet Mondrian.\\n* **Lyrical Abstraction:**  Emphasizes fluidity, grace, and often incorporates organic forms, suggesting movement and emotion.\\n* **Gestural Abstraction:**  Focuses on the physical act of painting itself, with visible brushstrokes and energetic movements dominating the composition.  Think Jackson Pollock.\\n* **Color Field Painting:**  Emphasizes large areas of flat color, often with subtle variations in tone and hue, creating a sense of atmosphere and tranquility.  Think Mark Rothko.\\n\\n\\nUnderstanding these characteristics and styles helps appreciate the diverse range of expression within the world of abstract art.  What aspects of abstract painting are you most interested in learning more about?\\n', additional_kwargs={}, response_metadata={'finish_reason': 'STOP', 'safety_ratings': [], 'prompt_feedback': {'block_reason': 0, 'safety_ratings': []}}, id='run-ae17a120-773d-4c3d-89d0-2387fc8ee1f9-0', usage_metadata={'input_tokens': 228, 'output_tokens': 377, 'total_tokens': 605, 'input_token_details': {'cache_read': 0}})}}, 'parents': {}, 'thread_id': '1'}, created_at='2024-12-06T08:12:58.177319+00:00', parent_config={'configurable': {'thread_id': '1', 'checkpoint_ns': '', 'checkpoint_id': '1efb3a9e-5695-6c49-8024-50d0eba76b1d'}}, tasks=())"
            ]
          },
          "metadata": {},
          "execution_count": 14
        }
      ]
    },
    {
      "cell_type": "code",
      "source": [
        "# get number of messages\n",
        "config = {\"configurable\": {\"thread_id\": \"1\"}}\n",
        "messages = graph.get_state(config).values.get(\"messages\", \"\")\n",
        "len(messages)"
      ],
      "metadata": {
        "colab": {
          "base_uri": "https://localhost:8080/"
        },
        "id": "BFSa8ZN5-_hL",
        "outputId": "9d59929e-35dd-41f5-e30e-f149466c51de"
      },
      "execution_count": 15,
      "outputs": [
        {
          "output_type": "execute_result",
          "data": {
            "text/plain": [
              "6"
            ]
          },
          "metadata": {},
          "execution_count": 15
        }
      ]
    },
    {
      "cell_type": "code",
      "source": [
        "# check stream  step2 do streaming (rm note check)\n",
        "# Configuration for thread\n",
        "config = {\"configurable\": {\"thread_id\": \"1\"}}\n",
        "\n",
        "# Start a conversation\n",
        "input_message = HumanMessage(content=\"I like painting pictures.\")\n",
        "output = graph.stream({\"messages\": [input_message]}, config)\n",
        "# for m in output['messages'][-1:]:\n",
        "#     m.pretty_print()\n",
        "\n",
        "# Check the persisted state\n",
        "graph_state = graph.get_state(config)\n",
        "graph_state"
      ],
      "metadata": {
        "colab": {
          "base_uri": "https://localhost:8080/"
        },
        "id": "AnsMP9uiAEVU",
        "outputId": "dbbc3642-ee1c-4a73-fede-cea9b61ce7be"
      },
      "execution_count": 16,
      "outputs": [
        {
          "output_type": "execute_result",
          "data": {
            "text/plain": [
              "StateSnapshot(values={'messages': [HumanMessage(content='I like painting pictures.', additional_kwargs={}, response_metadata={}, id='b5a3679a-2ba0-4cf7-876c-2999c4e1d260'), AIMessage(content=\"That's wonderful, Raheela!  Painting is a fantastic creative outlet.  What kind of pictures do you enjoy painting?\\n\", additional_kwargs={}, response_metadata={'prompt_feedback': {'block_reason': 0, 'safety_ratings': []}, 'finish_reason': 'STOP', 'safety_ratings': []}, id='run-e8886abf-3cb9-483f-a511-14e36bc99263-0', usage_metadata={'input_tokens': 559, 'output_tokens': 28, 'total_tokens': 587, 'input_token_details': {'cache_read': 0}}), HumanMessage(content=\"What's my name and what is my hobby?\", additional_kwargs={}, response_metadata={}, id='6a7338a4-d470-4ef9-a699-f1504d3fca27'), AIMessage(content='Your name is Raheela, and your hobby is painting.\\n', additional_kwargs={}, response_metadata={'prompt_feedback': {'block_reason': 0, 'safety_ratings': []}, 'finish_reason': 'STOP', 'safety_ratings': []}, id='run-1f53cf95-af80-4e10-b10d-151c863ee15e-0', usage_metadata={'input_tokens': 205, 'output_tokens': 14, 'total_tokens': 219, 'input_token_details': {'cache_read': 0}}), HumanMessage(content='Can you describe about abstract paintings?', additional_kwargs={}, response_metadata={}, id='3dcde78d-d27f-4568-bec4-d0674ce342b1'), AIMessage(content='Abstract paintings are works of art that don\\'t attempt to represent an accurate depiction of visual reality.  Instead, they focus on expressing ideas and emotions through shapes, colors, forms, and textures.  They\\'re non-representational, meaning you won\\'t find recognizable objects like people, landscapes, or still lifes.\\n\\nKey characteristics of abstract paintings include:\\n\\n* **Non-representational imagery:**  The primary focus is not on depicting something recognizable.\\n* **Emphasis on form and composition:** The arrangement of shapes, colors, and lines is crucial to the overall impact of the piece.  This includes considerations of balance, rhythm, and visual weight.\\n* **Emotional expression:** Abstract art often aims to evoke feelings and moods in the viewer rather than conveying a specific narrative.\\n* **Open interpretation:**  There\\'s no single \"correct\" interpretation of an abstract painting. The meaning is often left open to the viewer\\'s individual experience and perspective.\\n\\n\\nSeveral styles fall under the umbrella of abstract painting, including:\\n\\n* **Geometric Abstraction:** Uses geometric shapes (squares, circles, triangles) as the primary building blocks of the composition.  Think Piet Mondrian.\\n* **Lyrical Abstraction:**  Emphasizes fluidity, grace, and often incorporates organic forms, suggesting movement and emotion.\\n* **Gestural Abstraction:**  Focuses on the physical act of painting itself, with visible brushstrokes and energetic movements dominating the composition.  Think Jackson Pollock.\\n* **Color Field Painting:**  Emphasizes large areas of flat color, often with subtle variations in tone and hue, creating a sense of atmosphere and tranquility.  Think Mark Rothko.\\n\\n\\nUnderstanding these characteristics and styles helps appreciate the diverse range of expression within the world of abstract art.  What aspects of abstract painting are you most interested in learning more about?\\n', additional_kwargs={}, response_metadata={'prompt_feedback': {'block_reason': 0, 'safety_ratings': []}, 'finish_reason': 'STOP', 'safety_ratings': []}, id='run-ae17a120-773d-4c3d-89d0-2387fc8ee1f9-0', usage_metadata={'input_tokens': 228, 'output_tokens': 377, 'total_tokens': 605, 'input_token_details': {'cache_read': 0}})], 'summary': \"The conversation began with an initial exchange where the AI incorrectly guessed Raheela's name and hobby.  This was corrected, establishing Raheela's identity and confirming her enjoyment of painting as a hobby.  A detailed discussion followed on abstract painting, covering its definition, key characteristics (non-representational nature, focus on form and composition, emotional expression, and open interpretation), and various styles (geometric, lyrical, gestural, and color field).  After this, the conversation briefly returned to Raheela's personal information, with her explicitly stating her name and interest in painting.  Finally, a summary of the conversation was requested and provided, which is now being extended to include this confirmation of her hobby and the initial incorrect guess.\\n\"}, next=(), config={'configurable': {'thread_id': '1', 'checkpoint_ns': '', 'checkpoint_id': '1efb3a9e-7373-613e-8025-aa5a35177541'}}, metadata={'step': 37, 'source': 'loop', 'writes': {'conversation': {'messages': AIMessage(content='Abstract paintings are works of art that don\\'t attempt to represent an accurate depiction of visual reality.  Instead, they focus on expressing ideas and emotions through shapes, colors, forms, and textures.  They\\'re non-representational, meaning you won\\'t find recognizable objects like people, landscapes, or still lifes.\\n\\nKey characteristics of abstract paintings include:\\n\\n* **Non-representational imagery:**  The primary focus is not on depicting something recognizable.\\n* **Emphasis on form and composition:** The arrangement of shapes, colors, and lines is crucial to the overall impact of the piece.  This includes considerations of balance, rhythm, and visual weight.\\n* **Emotional expression:** Abstract art often aims to evoke feelings and moods in the viewer rather than conveying a specific narrative.\\n* **Open interpretation:**  There\\'s no single \"correct\" interpretation of an abstract painting. The meaning is often left open to the viewer\\'s individual experience and perspective.\\n\\n\\nSeveral styles fall under the umbrella of abstract painting, including:\\n\\n* **Geometric Abstraction:** Uses geometric shapes (squares, circles, triangles) as the primary building blocks of the composition.  Think Piet Mondrian.\\n* **Lyrical Abstraction:**  Emphasizes fluidity, grace, and often incorporates organic forms, suggesting movement and emotion.\\n* **Gestural Abstraction:**  Focuses on the physical act of painting itself, with visible brushstrokes and energetic movements dominating the composition.  Think Jackson Pollock.\\n* **Color Field Painting:**  Emphasizes large areas of flat color, often with subtle variations in tone and hue, creating a sense of atmosphere and tranquility.  Think Mark Rothko.\\n\\n\\nUnderstanding these characteristics and styles helps appreciate the diverse range of expression within the world of abstract art.  What aspects of abstract painting are you most interested in learning more about?\\n', additional_kwargs={}, response_metadata={'finish_reason': 'STOP', 'safety_ratings': [], 'prompt_feedback': {'block_reason': 0, 'safety_ratings': []}}, id='run-ae17a120-773d-4c3d-89d0-2387fc8ee1f9-0', usage_metadata={'input_tokens': 228, 'output_tokens': 377, 'total_tokens': 605, 'input_token_details': {'cache_read': 0}})}}, 'parents': {}, 'thread_id': '1'}, created_at='2024-12-06T08:12:58.177319+00:00', parent_config={'configurable': {'thread_id': '1', 'checkpoint_ns': '', 'checkpoint_id': '1efb3a9e-5695-6c49-8024-50d0eba76b1d'}}, tasks=())"
            ]
          },
          "metadata": {},
          "execution_count": 16
        }
      ]
    },
    {
      "cell_type": "markdown",
      "source": [
        "**Module 2 :**  6.2_chatbot_external_memory_with_postgres.ipynb (Revision)\n",
        "\n",
        "**Module 3 :** 1_streaming-interruption.ipynb\n",
        "\n",
        "[Class09:LangGraph:Streaming in LangGraph, LangGraph Studio, How to run LangGraph Studio on Windows - 28 Nov 2024](https://www.youtube.com/watch?v=Vonh9hUgnW4&list=PL0vKVrkG4hWoHDg46N85-9NDhmOaPWEwA&index=10)\n",
        "\n",
        "`.stream` and `.astream` are sync and async methods for streaming back results.\n",
        "\n",
        "\n",
        "* `values`: This streams the full state of the graph after each node is called.\n",
        "* `updates`: This streams updates to the state of the graph after each node is called.\n",
        "\n",
        "Let's look at `stream_mode=\"updates\"`.\n",
        "\n",
        "Because we stream with `updates`, we only see updates to the state after node in the graph is run.\n",
        "\n",
        "Each `chunk` is a dict with `node_name` as the key and the updated state as the value."
      ],
      "metadata": {
        "id": "T2ALDz0WGhiK"
      }
    },
    {
      "cell_type": "code",
      "source": [
        "pool.close()"
      ],
      "metadata": {
        "id": "d_YbgTBs89_o"
      },
      "execution_count": 17,
      "outputs": []
    },
    {
      "cell_type": "markdown",
      "source": [
        "### Persisting state\n",
        "\n",
        "Using database like Postgres means state is persisted!\n",
        "\n",
        "For example, we can re-start the notebook kernel and see that we can still load from Postgres DB on disk.\n"
      ],
      "metadata": {
        "id": "Io-K7MCWinYF"
      }
    }
  ]
}