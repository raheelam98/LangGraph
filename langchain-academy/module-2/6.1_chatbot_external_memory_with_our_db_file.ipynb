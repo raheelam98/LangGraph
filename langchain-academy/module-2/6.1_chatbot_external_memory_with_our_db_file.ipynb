{
  "cells": [
    {
      "cell_type": "markdown",
      "source": [
        "**Module 2 :** 6.0_chatbot_external_memory,\n",
        " 6.1_chatbot_external_memory_with_our_db_file.ipynb, 6.2_chatbot_external_memory_with_postgres.ipynb\n",
        "\n",
        "[Class08:LangGraph: External Memory with External DB, Introduction to Agentic RAG - Nov 23, 2024](https://www.youtube.com/watch?v=ooU238RcOdo)\n"
      ],
      "metadata": {
        "id": "V-9grQX-1aIe"
      },
      "id": "V-9grQX-1aIe"
    },
    {
      "cell_type": "markdown",
      "source": [
        "**rm notes**\n",
        "\n",
        "\n",
        "\n",
        "In the old functionality, the script only shows the default messages and does not append new messages after disconnecting from the environment. To save our new data into a script file and persist it, we need to update the script. We can then save the updated file to the drive or download it to our system, and use the new appended file as required.\n",
        "\n",
        "To append our newly updated data into a file and either save it to the drive or our system, we have three use cases:\n",
        "\n",
        "Save a newly updated file with its name and designation either to the system or drive, and then proceed with further functionality from it.\n",
        "\n",
        "**use case**\n",
        "1. Fetching a Database File from a GitHub URL\n",
        "2. Uploading a Database File from Your Local System\n",
        "3. Accessing a Database File from Google Drive\n",
        "\n"
      ],
      "metadata": {
        "id": "JOwMwCOw7dbL"
      },
      "id": "JOwMwCOw7dbL"
    },
    {
      "cell_type": "markdown",
      "source": [
        "\n",
        "**Delete all but the 2 most recent messages**\n",
        "\n",
        "```\n",
        " delete_messages = [RemoveMessage(id=m.id) for m in state[\"messages\"][:-2]]\n",
        "```\n",
        "\n",
        "**Define a graph**\n",
        "\n",
        "```\n",
        "from langgraph.graph import StateGraph\n",
        "from langgraph.graph.state import CompiledStateGraph\n",
        "\n",
        "workflow: StateGraph = StateGraph(State)\n",
        "graph: CompiledStateGraph = workflow.compile()\n",
        "\n",
        "```\n",
        "\n",
        "**Create a thread**\n",
        "```\n",
        "from langchain_core.messages import SystemMessage, HumanMessage, RemoveMessage\n",
        "\n",
        "config = {\"configurable\": {\"thread_id\": \"2\"}}\n",
        "```\n",
        "\n",
        "**Start conversation**\n",
        "\n",
        "```\n",
        "input_message = HumanMessage(content=\"I am Raheela, my designation is Director\")\n",
        "output = graph.invoke({\"messages\": [input_message]}, config)\n",
        "for m in output['messages'][-1:]:\n",
        "    m.pretty_print()\n",
        "```\n",
        "\n",
        "**Retrieve state using thread ID** **(Snapshot)**\n",
        "\n",
        "\n",
        "\n",
        "```\n",
        "config = {\"configurable\": {\"thread_id\": \"1\"}}\n",
        "graph_state = graph.get_state(config)\n",
        "graph_state\n",
        "```\n",
        "\n",
        "\n",
        "**len(messages) :- number of messages**\n",
        "\n",
        "```\n",
        "config = {\"configurable\": {\"thread_id\": \"1\"}}\n",
        "messages = graph.get_state(config).values.get(\"messages\")\n",
        "len(messages)\n",
        "```\n",
        "\n",
        "**Get Summary**\n",
        "\n",
        "```\n",
        "graph_state = graph.get_state(config).values.get(\"summary\",\"\")\n",
        "graph_state\n",
        "```"
      ],
      "metadata": {
        "id": "YCY-38DIGcb0"
      },
      "id": "YCY-38DIGcb0"
    },
    {
      "cell_type": "markdown",
      "id": "af6c7afe-1037-41ab-98e4-494692e47402",
      "metadata": {
        "id": "af6c7afe-1037-41ab-98e4-494692e47402"
      },
      "source": [
        "# Chatbot with message summarization & external DB memory\n",
        "\n",
        "## Review\n",
        "\n",
        "We've covered how to customize graph state schema and reducer.\n",
        "\n",
        "We've also shown a number of tricks for trimming or filtering messages in graph state.\n",
        "\n",
        "We've used these concepts in a Chatbot with memory that produces a running summary of the conversation.\n",
        "\n",
        "## Goals\n",
        "\n",
        "But, what if we want our Chatbot to have memory that persists indefinitely?\n",
        "\n",
        "Now, we'll introduce some more advanced checkpointers that support external databases.\n",
        "\n",
        "Here, we'll show how to use [Sqlite as a checkpointer](https://langchain-ai.github.io/langgraph/concepts/low_level/#checkpointer), but other checkpointers, such as [Postgres](https://langchain-ai.github.io/langgraph/how-tos/persistence_postgres/) are available!"
      ]
    },
    {
      "cell_type": "markdown",
      "id": "b38746af",
      "metadata": {
        "id": "b38746af"
      },
      "source": [
        "## Use Cases for Database File Management:\n",
        "1. Fetching a Database File from a GitHub URL\n",
        "2. Uploading a Database File from Your Local System\n",
        "3. Accessing a Database File from Google Drive"
      ]
    },
    {
      "cell_type": "code",
      "execution_count": null,
      "id": "85ed78d9-6ca2-45ac-96a9-52e341ec519d",
      "metadata": {
        "id": "85ed78d9-6ca2-45ac-96a9-52e341ec519d"
      },
      "outputs": [],
      "source": [
        "%%capture --no-stderr\n",
        "%pip install --quiet -U langgraph-checkpoint-sqlite langchain_core langgraph langchain_google_genai"
      ]
    },
    {
      "cell_type": "code",
      "execution_count": null,
      "id": "2e10c4d4",
      "metadata": {
        "id": "2e10c4d4"
      },
      "outputs": [],
      "source": [
        "from google.colab import userdata\n",
        "GEMINI_API_KEY = userdata.get('GEMINI_API_KEY')"
      ]
    },
    {
      "cell_type": "code",
      "execution_count": null,
      "id": "6a002315",
      "metadata": {
        "id": "6a002315"
      },
      "outputs": [],
      "source": [
        "import os\n",
        "os.environ[\"LANGCHAIN_API_KEY\"] = userdata.get('LANGCHAIN_API_KEY')\n",
        "os.environ[\"LANGCHAIN_TRACING_V2\"] = \"true\"\n",
        "os.environ[\"LANGCHAIN_PROJECT\"] = \"langchain-academy\""
      ]
    },
    {
      "cell_type": "markdown",
      "id": "b40d25c0-e9b5-4854-bf07-3cc3ff07122e",
      "metadata": {
        "id": "b40d25c0-e9b5-4854-bf07-3cc3ff07122e"
      },
      "source": [
        "## Sqlite\n",
        "\n",
        "A good starting point here is the [SqliteSaver checkpointer](https://langchain-ai.github.io/langgraph/concepts/low_level/#checkpointer).\n",
        "\n",
        "Sqlite is a [small, fast, highly popular](https://x.com/karpathy/status/1819490455664685297) SQL database.\n",
        "\n",
        "If we supply `\":memory:\"` it creates an in-memory Sqlite database."
      ]
    },
    {
      "cell_type": "code",
      "execution_count": null,
      "id": "fae15402-17ae-4e89-8ecf-4c89e08b22fe",
      "metadata": {
        "id": "fae15402-17ae-4e89-8ecf-4c89e08b22fe"
      },
      "outputs": [],
      "source": [
        "import sqlite3\n",
        "# In memory - temporary database is created, not on-disk database\n",
        "conn = sqlite3.connect(\":memory:\", check_same_thread = False) #check_same_thread = False | allowing multiple threads to share and use the same SQLite database connection. By default it is True"
      ]
    },
    {
      "cell_type": "markdown",
      "id": "c2bf53ec-6d4a-42ce-8183-344795eed403",
      "metadata": {
        "id": "c2bf53ec-6d4a-42ce-8183-344795eed403"
      },
      "source": [
        "## Default Behavior:\n",
        "\n",
        "When you run the code for the first time, it will automatically fetch a new example.db file for you.\n",
        "But, if we supply a db path, then it will create a database for us!:"
      ]
    },
    {
      "cell_type": "code",
      "execution_count": null,
      "id": "58339167-920c-4994-a0a7-0a9c5d4f7cf7",
      "metadata": {
        "id": "58339167-920c-4994-a0a7-0a9c5d4f7cf7",
        "outputId": "4ef405b8-3847-4dfc-d97a-16c09cfa9e11",
        "colab": {
          "base_uri": "https://localhost:8080/"
        }
      },
      "outputs": [
        {
          "output_type": "stream",
          "name": "stdout",
          "text": [
            "--2024-12-06 02:52:32--  https://github.com/langchain-ai/langchain-academy/raw/main/module-2/state_db/example.db\n",
            "Resolving github.com (github.com)... 140.82.114.3\n",
            "Connecting to github.com (github.com)|140.82.114.3|:443... connected.\n",
            "HTTP request sent, awaiting response... 302 Found\n",
            "Location: https://raw.githubusercontent.com/langchain-ai/langchain-academy/main/module-2/state_db/example.db [following]\n",
            "--2024-12-06 02:52:32--  https://raw.githubusercontent.com/langchain-ai/langchain-academy/main/module-2/state_db/example.db\n",
            "Resolving raw.githubusercontent.com (raw.githubusercontent.com)... 185.199.110.133, 185.199.109.133, 185.199.111.133, ...\n",
            "Connecting to raw.githubusercontent.com (raw.githubusercontent.com)|185.199.110.133|:443... connected.\n",
            "HTTP request sent, awaiting response... 200 OK\n",
            "Length: 110592 (108K) [application/octet-stream]\n",
            "Saving to: ‘state_db/example.db’\n",
            "\n",
            "example.db          100%[===================>] 108.00K  --.-KB/s    in 0.01s   \n",
            "\n",
            "2024-12-06 02:52:33 (8.03 MB/s) - ‘state_db/example.db’ saved [110592/110592]\n",
            "\n"
          ]
        }
      ],
      "source": [
        "import sqlite3\n",
        "# pull file if it doesn't exist and connect to local db\n",
        "\n",
        "!mkdir -p state_db && [ ! -f state_db/example.db ] && wget -P state_db https://github.com/langchain-ai/langchain-academy/raw/main/module-2/state_db/example.db\n",
        "\n",
        "db_path = \"state_db/example.db\"\n",
        "conn = sqlite3.connect(db_path, check_same_thread=False)"
      ]
    },
    {
      "cell_type": "markdown",
      "id": "d-3TxBOlSQsc",
      "metadata": {
        "id": "d-3TxBOlSQsc"
      },
      "source": [
        "## Mount with Google Drive\n",
        "\n",
        "**3. Accessing a Database File from Google Drive**\n"
      ]
    },
    {
      "cell_type": "code",
      "execution_count": null,
      "id": "5qxV1SIdSN3q",
      "metadata": {
        "colab": {
          "base_uri": "https://localhost:8080/"
        },
        "id": "5qxV1SIdSN3q",
        "outputId": "eeb8ca3f-55f5-4e9d-af51-99772aaee880"
      },
      "outputs": [
        {
          "output_type": "stream",
          "name": "stdout",
          "text": [
            "Mounted at /content/drive\n"
          ]
        }
      ],
      "source": [
        "# connect with google drive\n",
        "from google.colab import drive\n",
        "drive.mount('/content/drive')"
      ]
    },
    {
      "cell_type": "markdown",
      "id": "r3ndkSuyVQWE",
      "metadata": {
        "id": "r3ndkSuyVQWE"
      },
      "source": [
        "connection is establish"
      ]
    },
    {
      "cell_type": "markdown",
      "source": [
        "**rm note**\n",
        "\n",
        "The first time you create the file and then  to save it to the drive, it gives an error because the file is not yet created."
      ],
      "metadata": {
        "id": "0jaVJ-R05XV6"
      },
      "id": "0jaVJ-R05XV6"
    },
    {
      "cell_type": "code",
      "execution_count": null,
      "id": "njrumCAhRjwE",
      "metadata": {
        "id": "njrumCAhRjwE",
        "colab": {
          "base_uri": "https://localhost:8080/",
          "height": 180
        },
        "outputId": "0261a98c-0f9f-4b94-cea0-79e529b0e3f4"
      },
      "outputs": [
        {
          "output_type": "error",
          "ename": "OperationalError",
          "evalue": "unable to open database file",
          "traceback": [
            "\u001b[0;31m---------------------------------------------------------------------------\u001b[0m",
            "\u001b[0;31mOperationalError\u001b[0m                          Traceback (most recent call last)",
            "\u001b[0;32m<ipython-input-9-9a10072eef92>\u001b[0m in \u001b[0;36m<cell line: 3>\u001b[0;34m()\u001b[0m\n\u001b[1;32m      1\u001b[0m \u001b[0;32mimport\u001b[0m \u001b[0msqlite3\u001b[0m\u001b[0;34m\u001b[0m\u001b[0;34m\u001b[0m\u001b[0m\n\u001b[1;32m      2\u001b[0m \u001b[0mfile_path\u001b[0m \u001b[0;34m=\u001b[0m \u001b[0;34m'/content/drive/My Drive/state_db/example.db'\u001b[0m\u001b[0;34m\u001b[0m\u001b[0;34m\u001b[0m\u001b[0m\n\u001b[0;32m----> 3\u001b[0;31m \u001b[0mconn\u001b[0m \u001b[0;34m=\u001b[0m \u001b[0msqlite3\u001b[0m\u001b[0;34m.\u001b[0m\u001b[0mconnect\u001b[0m\u001b[0;34m(\u001b[0m\u001b[0mfile_path\u001b[0m\u001b[0;34m)\u001b[0m\u001b[0;34m\u001b[0m\u001b[0;34m\u001b[0m\u001b[0m\n\u001b[0m",
            "\u001b[0;31mOperationalError\u001b[0m: unable to open database file"
          ]
        }
      ],
      "source": [
        "import sqlite3\n",
        "file_path = '/content/drive/My Drive/state_db/example.db'\n",
        "conn = sqlite3.connect(file_path)"
      ]
    },
    {
      "cell_type": "markdown",
      "id": "QwfuVtOi3FVl",
      "metadata": {
        "id": "QwfuVtOi3FVl"
      },
      "source": [
        "### When you want to pass your DB file:\n",
        "You need example.db as well as example.db-wal file to retrieve your previous data.\n",
        "\n",
        "Sqlite uses these 3 files:\n",
        "\n",
        "\n",
        "1.   example.db\n",
        "2.   example.db-wal\n",
        "3.   example.db-shm\n",
        "\n",
        "### How SQLite Uses These Files\n",
        "1. example.db:\n",
        "  This is the main database file where committed data is stored.\n",
        "\n",
        "2. example.db-wal:\n",
        "  If SQLite is in WAL mode, this file temporarily holds changes that\n",
        "  have not been checkpointed (written to example.db).\n",
        "  SQLite automatically reads from this file when you connect to the database.\n",
        "\n",
        "3. example.db-shm:\n",
        "  This file is used for shared memory when multiple connections are accessing the same database.\n",
        "  It is a temporary file and does not affect persistence.\n",
        "\n"
      ]
    },
    {
      "cell_type": "markdown",
      "id": "ExhbqtDfH-6D",
      "metadata": {
        "id": "ExhbqtDfH-6D"
      },
      "source": [
        "### Why you need to save example.db-wal file along with example.db file?\n",
        "\n",
        "1. **Uncommitted Changes Are Stored in `example.db-wal`**:\n",
        "   - In WAL mode, SQLite writes all changes to the `example.db-wal` file instead of directly modifying the main `example.db` file.\n",
        "   - These changes are only merged (checkpointed) into `example.db` when a checkpoint operation occurs.\n",
        "\n",
        "   If you only copy or use the `example.db` file without the `example.db-wal`, **any uncommitted changes in the WAL file will be lost.**\n",
        "\n",
        "2. **Ensures Data Consistency**:\n",
        "   - If you transfer the database (`example.db`) to another system without the `example.db-wal`, the database may appear incomplete or inconsistent if there are pending writes stored in the WAL file.\n",
        "\n",
        "3. **Concurrent Access**:\n",
        "   - The WAL file allows multiple processes to read from the database while another process writes to it, without blocking each other. If this feature is in use, the `example.db-wal` file is essential for proper functionality.\n",
        "\n"
      ]
    },
    {
      "cell_type": "code",
      "execution_count": null,
      "id": "4sPiAKFq3EQT",
      "metadata": {
        "colab": {
          "base_uri": "https://localhost:8080/",
          "height": 73
        },
        "id": "4sPiAKFq3EQT",
        "outputId": "d6918f65-f896-4c0b-d954-4d3ebf0bfb84"
      },
      "outputs": [
        {
          "data": {
            "text/html": [
              "\n",
              "     <input type=\"file\" id=\"files-a2b6d09c-b4b8-43eb-aa82-fb0458c2c3be\" name=\"files[]\" multiple disabled\n",
              "        style=\"border:none\" />\n",
              "     <output id=\"result-a2b6d09c-b4b8-43eb-aa82-fb0458c2c3be\">\n",
              "      Upload widget is only available when the cell has been executed in the\n",
              "      current browser session. Please rerun this cell to enable.\n",
              "      </output>\n",
              "      <script>// Copyright 2017 Google LLC\n",
              "//\n",
              "// Licensed under the Apache License, Version 2.0 (the \"License\");\n",
              "// you may not use this file except in compliance with the License.\n",
              "// You may obtain a copy of the License at\n",
              "//\n",
              "//      http://www.apache.org/licenses/LICENSE-2.0\n",
              "//\n",
              "// Unless required by applicable law or agreed to in writing, software\n",
              "// distributed under the License is distributed on an \"AS IS\" BASIS,\n",
              "// WITHOUT WARRANTIES OR CONDITIONS OF ANY KIND, either express or implied.\n",
              "// See the License for the specific language governing permissions and\n",
              "// limitations under the License.\n",
              "\n",
              "/**\n",
              " * @fileoverview Helpers for google.colab Python module.\n",
              " */\n",
              "(function(scope) {\n",
              "function span(text, styleAttributes = {}) {\n",
              "  const element = document.createElement('span');\n",
              "  element.textContent = text;\n",
              "  for (const key of Object.keys(styleAttributes)) {\n",
              "    element.style[key] = styleAttributes[key];\n",
              "  }\n",
              "  return element;\n",
              "}\n",
              "\n",
              "// Max number of bytes which will be uploaded at a time.\n",
              "const MAX_PAYLOAD_SIZE = 100 * 1024;\n",
              "\n",
              "function _uploadFiles(inputId, outputId) {\n",
              "  const steps = uploadFilesStep(inputId, outputId);\n",
              "  const outputElement = document.getElementById(outputId);\n",
              "  // Cache steps on the outputElement to make it available for the next call\n",
              "  // to uploadFilesContinue from Python.\n",
              "  outputElement.steps = steps;\n",
              "\n",
              "  return _uploadFilesContinue(outputId);\n",
              "}\n",
              "\n",
              "// This is roughly an async generator (not supported in the browser yet),\n",
              "// where there are multiple asynchronous steps and the Python side is going\n",
              "// to poll for completion of each step.\n",
              "// This uses a Promise to block the python side on completion of each step,\n",
              "// then passes the result of the previous step as the input to the next step.\n",
              "function _uploadFilesContinue(outputId) {\n",
              "  const outputElement = document.getElementById(outputId);\n",
              "  const steps = outputElement.steps;\n",
              "\n",
              "  const next = steps.next(outputElement.lastPromiseValue);\n",
              "  return Promise.resolve(next.value.promise).then((value) => {\n",
              "    // Cache the last promise value to make it available to the next\n",
              "    // step of the generator.\n",
              "    outputElement.lastPromiseValue = value;\n",
              "    return next.value.response;\n",
              "  });\n",
              "}\n",
              "\n",
              "/**\n",
              " * Generator function which is called between each async step of the upload\n",
              " * process.\n",
              " * @param {string} inputId Element ID of the input file picker element.\n",
              " * @param {string} outputId Element ID of the output display.\n",
              " * @return {!Iterable<!Object>} Iterable of next steps.\n",
              " */\n",
              "function* uploadFilesStep(inputId, outputId) {\n",
              "  const inputElement = document.getElementById(inputId);\n",
              "  inputElement.disabled = false;\n",
              "\n",
              "  const outputElement = document.getElementById(outputId);\n",
              "  outputElement.innerHTML = '';\n",
              "\n",
              "  const pickedPromise = new Promise((resolve) => {\n",
              "    inputElement.addEventListener('change', (e) => {\n",
              "      resolve(e.target.files);\n",
              "    });\n",
              "  });\n",
              "\n",
              "  const cancel = document.createElement('button');\n",
              "  inputElement.parentElement.appendChild(cancel);\n",
              "  cancel.textContent = 'Cancel upload';\n",
              "  const cancelPromise = new Promise((resolve) => {\n",
              "    cancel.onclick = () => {\n",
              "      resolve(null);\n",
              "    };\n",
              "  });\n",
              "\n",
              "  // Wait for the user to pick the files.\n",
              "  const files = yield {\n",
              "    promise: Promise.race([pickedPromise, cancelPromise]),\n",
              "    response: {\n",
              "      action: 'starting',\n",
              "    }\n",
              "  };\n",
              "\n",
              "  cancel.remove();\n",
              "\n",
              "  // Disable the input element since further picks are not allowed.\n",
              "  inputElement.disabled = true;\n",
              "\n",
              "  if (!files) {\n",
              "    return {\n",
              "      response: {\n",
              "        action: 'complete',\n",
              "      }\n",
              "    };\n",
              "  }\n",
              "\n",
              "  for (const file of files) {\n",
              "    const li = document.createElement('li');\n",
              "    li.append(span(file.name, {fontWeight: 'bold'}));\n",
              "    li.append(span(\n",
              "        `(${file.type || 'n/a'}) - ${file.size} bytes, ` +\n",
              "        `last modified: ${\n",
              "            file.lastModifiedDate ? file.lastModifiedDate.toLocaleDateString() :\n",
              "                                    'n/a'} - `));\n",
              "    const percent = span('0% done');\n",
              "    li.appendChild(percent);\n",
              "\n",
              "    outputElement.appendChild(li);\n",
              "\n",
              "    const fileDataPromise = new Promise((resolve) => {\n",
              "      const reader = new FileReader();\n",
              "      reader.onload = (e) => {\n",
              "        resolve(e.target.result);\n",
              "      };\n",
              "      reader.readAsArrayBuffer(file);\n",
              "    });\n",
              "    // Wait for the data to be ready.\n",
              "    let fileData = yield {\n",
              "      promise: fileDataPromise,\n",
              "      response: {\n",
              "        action: 'continue',\n",
              "      }\n",
              "    };\n",
              "\n",
              "    // Use a chunked sending to avoid message size limits. See b/62115660.\n",
              "    let position = 0;\n",
              "    do {\n",
              "      const length = Math.min(fileData.byteLength - position, MAX_PAYLOAD_SIZE);\n",
              "      const chunk = new Uint8Array(fileData, position, length);\n",
              "      position += length;\n",
              "\n",
              "      const base64 = btoa(String.fromCharCode.apply(null, chunk));\n",
              "      yield {\n",
              "        response: {\n",
              "          action: 'append',\n",
              "          file: file.name,\n",
              "          data: base64,\n",
              "        },\n",
              "      };\n",
              "\n",
              "      let percentDone = fileData.byteLength === 0 ?\n",
              "          100 :\n",
              "          Math.round((position / fileData.byteLength) * 100);\n",
              "      percent.textContent = `${percentDone}% done`;\n",
              "\n",
              "    } while (position < fileData.byteLength);\n",
              "  }\n",
              "\n",
              "  // All done.\n",
              "  yield {\n",
              "    response: {\n",
              "      action: 'complete',\n",
              "    }\n",
              "  };\n",
              "}\n",
              "\n",
              "scope.google = scope.google || {};\n",
              "scope.google.colab = scope.google.colab || {};\n",
              "scope.google.colab._files = {\n",
              "  _uploadFiles,\n",
              "  _uploadFilesContinue,\n",
              "};\n",
              "})(self);\n",
              "</script> "
            ],
            "text/plain": [
              "<IPython.core.display.HTML object>"
            ]
          },
          "metadata": {},
          "output_type": "display_data"
        },
        {
          "name": "stdout",
          "output_type": "stream",
          "text": [
            "Saving example.db to example.db\n"
          ]
        }
      ],
      "source": [
        "#Follow step if you already have previous database file\n",
        "#uplaod example.db file from your system\n",
        "from google.colab import files\n",
        "uploaded = files.upload()\n"
      ]
    },
    {
      "cell_type": "code",
      "execution_count": null,
      "id": "5YzkFJceChRK",
      "metadata": {
        "colab": {
          "base_uri": "https://localhost:8080/",
          "height": 73
        },
        "id": "5YzkFJceChRK",
        "outputId": "83ca0846-e63a-4a3c-c616-c117d49af6ee"
      },
      "outputs": [
        {
          "data": {
            "text/html": [
              "\n",
              "     <input type=\"file\" id=\"files-2d19fc14-12da-4457-a70f-ad32d1af39c0\" name=\"files[]\" multiple disabled\n",
              "        style=\"border:none\" />\n",
              "     <output id=\"result-2d19fc14-12da-4457-a70f-ad32d1af39c0\">\n",
              "      Upload widget is only available when the cell has been executed in the\n",
              "      current browser session. Please rerun this cell to enable.\n",
              "      </output>\n",
              "      <script>// Copyright 2017 Google LLC\n",
              "//\n",
              "// Licensed under the Apache License, Version 2.0 (the \"License\");\n",
              "// you may not use this file except in compliance with the License.\n",
              "// You may obtain a copy of the License at\n",
              "//\n",
              "//      http://www.apache.org/licenses/LICENSE-2.0\n",
              "//\n",
              "// Unless required by applicable law or agreed to in writing, software\n",
              "// distributed under the License is distributed on an \"AS IS\" BASIS,\n",
              "// WITHOUT WARRANTIES OR CONDITIONS OF ANY KIND, either express or implied.\n",
              "// See the License for the specific language governing permissions and\n",
              "// limitations under the License.\n",
              "\n",
              "/**\n",
              " * @fileoverview Helpers for google.colab Python module.\n",
              " */\n",
              "(function(scope) {\n",
              "function span(text, styleAttributes = {}) {\n",
              "  const element = document.createElement('span');\n",
              "  element.textContent = text;\n",
              "  for (const key of Object.keys(styleAttributes)) {\n",
              "    element.style[key] = styleAttributes[key];\n",
              "  }\n",
              "  return element;\n",
              "}\n",
              "\n",
              "// Max number of bytes which will be uploaded at a time.\n",
              "const MAX_PAYLOAD_SIZE = 100 * 1024;\n",
              "\n",
              "function _uploadFiles(inputId, outputId) {\n",
              "  const steps = uploadFilesStep(inputId, outputId);\n",
              "  const outputElement = document.getElementById(outputId);\n",
              "  // Cache steps on the outputElement to make it available for the next call\n",
              "  // to uploadFilesContinue from Python.\n",
              "  outputElement.steps = steps;\n",
              "\n",
              "  return _uploadFilesContinue(outputId);\n",
              "}\n",
              "\n",
              "// This is roughly an async generator (not supported in the browser yet),\n",
              "// where there are multiple asynchronous steps and the Python side is going\n",
              "// to poll for completion of each step.\n",
              "// This uses a Promise to block the python side on completion of each step,\n",
              "// then passes the result of the previous step as the input to the next step.\n",
              "function _uploadFilesContinue(outputId) {\n",
              "  const outputElement = document.getElementById(outputId);\n",
              "  const steps = outputElement.steps;\n",
              "\n",
              "  const next = steps.next(outputElement.lastPromiseValue);\n",
              "  return Promise.resolve(next.value.promise).then((value) => {\n",
              "    // Cache the last promise value to make it available to the next\n",
              "    // step of the generator.\n",
              "    outputElement.lastPromiseValue = value;\n",
              "    return next.value.response;\n",
              "  });\n",
              "}\n",
              "\n",
              "/**\n",
              " * Generator function which is called between each async step of the upload\n",
              " * process.\n",
              " * @param {string} inputId Element ID of the input file picker element.\n",
              " * @param {string} outputId Element ID of the output display.\n",
              " * @return {!Iterable<!Object>} Iterable of next steps.\n",
              " */\n",
              "function* uploadFilesStep(inputId, outputId) {\n",
              "  const inputElement = document.getElementById(inputId);\n",
              "  inputElement.disabled = false;\n",
              "\n",
              "  const outputElement = document.getElementById(outputId);\n",
              "  outputElement.innerHTML = '';\n",
              "\n",
              "  const pickedPromise = new Promise((resolve) => {\n",
              "    inputElement.addEventListener('change', (e) => {\n",
              "      resolve(e.target.files);\n",
              "    });\n",
              "  });\n",
              "\n",
              "  const cancel = document.createElement('button');\n",
              "  inputElement.parentElement.appendChild(cancel);\n",
              "  cancel.textContent = 'Cancel upload';\n",
              "  const cancelPromise = new Promise((resolve) => {\n",
              "    cancel.onclick = () => {\n",
              "      resolve(null);\n",
              "    };\n",
              "  });\n",
              "\n",
              "  // Wait for the user to pick the files.\n",
              "  const files = yield {\n",
              "    promise: Promise.race([pickedPromise, cancelPromise]),\n",
              "    response: {\n",
              "      action: 'starting',\n",
              "    }\n",
              "  };\n",
              "\n",
              "  cancel.remove();\n",
              "\n",
              "  // Disable the input element since further picks are not allowed.\n",
              "  inputElement.disabled = true;\n",
              "\n",
              "  if (!files) {\n",
              "    return {\n",
              "      response: {\n",
              "        action: 'complete',\n",
              "      }\n",
              "    };\n",
              "  }\n",
              "\n",
              "  for (const file of files) {\n",
              "    const li = document.createElement('li');\n",
              "    li.append(span(file.name, {fontWeight: 'bold'}));\n",
              "    li.append(span(\n",
              "        `(${file.type || 'n/a'}) - ${file.size} bytes, ` +\n",
              "        `last modified: ${\n",
              "            file.lastModifiedDate ? file.lastModifiedDate.toLocaleDateString() :\n",
              "                                    'n/a'} - `));\n",
              "    const percent = span('0% done');\n",
              "    li.appendChild(percent);\n",
              "\n",
              "    outputElement.appendChild(li);\n",
              "\n",
              "    const fileDataPromise = new Promise((resolve) => {\n",
              "      const reader = new FileReader();\n",
              "      reader.onload = (e) => {\n",
              "        resolve(e.target.result);\n",
              "      };\n",
              "      reader.readAsArrayBuffer(file);\n",
              "    });\n",
              "    // Wait for the data to be ready.\n",
              "    let fileData = yield {\n",
              "      promise: fileDataPromise,\n",
              "      response: {\n",
              "        action: 'continue',\n",
              "      }\n",
              "    };\n",
              "\n",
              "    // Use a chunked sending to avoid message size limits. See b/62115660.\n",
              "    let position = 0;\n",
              "    do {\n",
              "      const length = Math.min(fileData.byteLength - position, MAX_PAYLOAD_SIZE);\n",
              "      const chunk = new Uint8Array(fileData, position, length);\n",
              "      position += length;\n",
              "\n",
              "      const base64 = btoa(String.fromCharCode.apply(null, chunk));\n",
              "      yield {\n",
              "        response: {\n",
              "          action: 'append',\n",
              "          file: file.name,\n",
              "          data: base64,\n",
              "        },\n",
              "      };\n",
              "\n",
              "      let percentDone = fileData.byteLength === 0 ?\n",
              "          100 :\n",
              "          Math.round((position / fileData.byteLength) * 100);\n",
              "      percent.textContent = `${percentDone}% done`;\n",
              "\n",
              "    } while (position < fileData.byteLength);\n",
              "  }\n",
              "\n",
              "  // All done.\n",
              "  yield {\n",
              "    response: {\n",
              "      action: 'complete',\n",
              "    }\n",
              "  };\n",
              "}\n",
              "\n",
              "scope.google = scope.google || {};\n",
              "scope.google.colab = scope.google.colab || {};\n",
              "scope.google.colab._files = {\n",
              "  _uploadFiles,\n",
              "  _uploadFilesContinue,\n",
              "};\n",
              "})(self);\n",
              "</script> "
            ],
            "text/plain": [
              "<IPython.core.display.HTML object>"
            ]
          },
          "metadata": {},
          "output_type": "display_data"
        },
        {
          "name": "stdout",
          "output_type": "stream",
          "text": [
            "Saving example.db-wal to example.db-wal\n"
          ]
        }
      ],
      "source": [
        "#Follow step if you already have previous database file\n",
        "#upload example.db-wal file from your system\n",
        "uploaded = files.upload()\n"
      ]
    },
    {
      "cell_type": "code",
      "execution_count": null,
      "id": "6y777yseDojh",
      "metadata": {
        "colab": {
          "base_uri": "https://localhost:8080/"
        },
        "id": "6y777yseDojh",
        "outputId": "6f744ee6-6ee4-4b14-d4ff-6422d3e0783f"
      },
      "outputs": [
        {
          "name": "stdout",
          "output_type": "stream",
          "text": [
            "WAL file moved successfully.\n",
            "Connected to database: state_db/example.db\n"
          ]
        }
      ],
      "source": [
        "#Follow step if you already have previous database file\n",
        "#move both files to state_db folder and establish a connection:\n",
        "\n",
        "import sqlite3\n",
        "import shutil\n",
        "import os\n",
        "\n",
        "# Ensure the state_db directory exists\n",
        "os.makedirs(\"state_db\", exist_ok=True)\n",
        "\n",
        "# Move the uploaded files to the state_db directory\n",
        "shutil.move(\"example.db\", \"state_db/example.db\")\n",
        "if os.path.exists(\"example.db-wal\"):  # Check if WAL file exists\n",
        "    shutil.move(\"example.db-wal\", \"state_db/example.db-wal\")\n",
        "    print(\"WAL file moved successfully.\")\n",
        "else:\n",
        "    print(\"No WAL file found. Proceeding with example.db only.\")\n",
        "\n",
        "# Define the path to the main database file\n",
        "db_path = \"state_db/example.db\"\n",
        "\n",
        "# Connect to the SQLite database\n",
        "try:\n",
        "    conn = sqlite3.connect(db_path, check_same_thread=False)\n",
        "    print(f\"Connected to database: {db_path}\")\n",
        "except sqlite3.OperationalError as e:\n",
        "    print(f\"Error connecting to the database: {e}\")\n"
      ]
    },
    {
      "cell_type": "code",
      "execution_count": null,
      "id": "3c7736b6-a750-48f8-a838-8e7616b12250",
      "metadata": {
        "id": "3c7736b6-a750-48f8-a838-8e7616b12250"
      },
      "outputs": [],
      "source": [
        "#conect to the above created connection (rm note)\n",
        "# Here is our checkpointer\n",
        "from langgraph.checkpoint.sqlite import SqliteSaver\n",
        "memory: SqliteSaver = SqliteSaver(conn)"
      ]
    },
    {
      "cell_type": "markdown",
      "id": "9d8cb629-213f-4b87-965e-19b812c42da1",
      "metadata": {
        "id": "9d8cb629-213f-4b87-965e-19b812c42da1"
      },
      "source": [
        "Let's re-define our chatbot.\n",
        "\n",
        "**rm note ** with some extra messages"
      ]
    },
    {
      "cell_type": "code",
      "execution_count": null,
      "id": "dc414e29-2078-41a0-887c-af1a6a3d72c0",
      "metadata": {
        "id": "dc414e29-2078-41a0-887c-af1a6a3d72c0"
      },
      "outputs": [],
      "source": [
        "from langchain_google_genai import ChatGoogleGenerativeAI\n",
        "from langchain_core.messages import SystemMessage, HumanMessage, RemoveMessage\n",
        "\n",
        "from langgraph.graph import END\n",
        "from langgraph.graph import MessagesState\n",
        "\n",
        "model: ChatGoogleGenerativeAI = ChatGoogleGenerativeAI(model = \"gemini-1.5-flash\", api_key =  GEMINI_API_KEY)\n",
        "\n",
        "class State(MessagesState):\n",
        "    summary: str\n",
        "\n",
        "# Define the logic to call the model\n",
        "def call_model(state: State) -> State:\n",
        "\n",
        "    # Get summary if it exists\n",
        "    summary = state.get(\"summary\", \"\")\n",
        "    print(f\"Using summary: {summary}\")\n",
        "\n",
        "    # If there is summary, then we add it\n",
        "    if summary:\n",
        "\n",
        "        # Add summary to system message\n",
        "        system_message = f\"Summary of conversation earlier: {summary}\"\n",
        "\n",
        "        # Append summary to any newer messages\n",
        "        messages = [SystemMessage(content=system_message)] + state[\"messages\"]\n",
        "\n",
        "    else:\n",
        "        messages = state[\"messages\"]\n",
        "\n",
        "    response = model.invoke(messages)\n",
        "    return {\"messages\": response}\n",
        "\n",
        "def summarize_conversation(state: State) -> State:\n",
        "    print(f\"Messages before summarizing: {len(state['messages'])}\")\n",
        "    # First, we get any existing summary\n",
        "    summary = state.get(\"summary\", \"\")\n",
        "    print(f\"Existing summary: {summary}\")\n",
        "\n",
        "    # Create our summarization prompt\n",
        "    if summary:\n",
        "\n",
        "        # A summary already exists\n",
        "        summary_message = (\n",
        "            f\"This is summary of the conversation to date: {summary}\\n\\n\"\n",
        "            \"Extend the summary by taking into account the new messages above:\"\n",
        "        )\n",
        "\n",
        "    else:\n",
        "        summary_message = \"Create a summary of the conversation above:\"\n",
        "\n",
        "\n",
        "    # Add prompt to our history\n",
        "    messages = state[\"messages\"] + [HumanMessage(content=summary_message)]\n",
        "    response = model.invoke(messages)\n",
        "    # Summarization logic\n",
        "    print(f\"New summary: {response.content}\")\n",
        "\n",
        "    # Delete all but the 2 most recent messages\n",
        "    delete_messages = [RemoveMessage(id=m.id) for m in state[\"messages\"][:-2]]\n",
        "\n",
        "    print(f\"Messages after truncation: {len(delete_messages)}\")\n",
        "    return {\"summary\": response.content, \"messages\": delete_messages}\n",
        "\n",
        "# Determine whether to end or summarize the conversation\n",
        "def should_continue(state: State) -> State:\n",
        "\n",
        "    \"\"\"Return the next node to execute.\"\"\"\n",
        "\n",
        "    messages = state[\"messages\"]\n",
        "    print(f\"Message count: {len(messages)}\")\n",
        "    # If there are more than six messages, then we summarize the conversation\n",
        "    if len(messages) > 6:\n",
        "        return \"summarize_conversation\"\n",
        "\n",
        "    # Otherwise we can just end\n",
        "    return END"
      ]
    },
    {
      "cell_type": "markdown",
      "id": "41c13c0b-a383-4f73-9cc1-63f0eed8f190",
      "metadata": {
        "id": "41c13c0b-a383-4f73-9cc1-63f0eed8f190"
      },
      "source": [
        "Now, we just re-compile with our sqlite checkpointer."
      ]
    },
    {
      "cell_type": "code",
      "execution_count": null,
      "id": "e867fd95-91eb-4ce1-82fc-bb72d611a96d",
      "metadata": {
        "colab": {
          "base_uri": "https://localhost:8080/",
          "height": 350
        },
        "id": "e867fd95-91eb-4ce1-82fc-bb72d611a96d",
        "outputId": "3bfb203c-16f2-49c3-919d-02c92a024fad"
      },
      "outputs": [
        {
          "output_type": "display_data",
          "data": {
            "image/png": "[encoded data removed]",
            "text/plain": [
              "<IPython.core.display.Image object>"
            ]
          },
          "metadata": {}
        }
      ],
      "source": [
        "from IPython.display import Image, display\n",
        "from langgraph.graph import StateGraph, START\n",
        "from langgraph.graph.state import CompiledStateGraph\n",
        "\n",
        "# Define a new graph\n",
        "workflow: StateGraph = StateGraph(State)\n",
        "workflow.add_node(\"conversation\", call_model)\n",
        "workflow.add_node(summarize_conversation)\n",
        "\n",
        "# Set the entrypoint as conversation\n",
        "workflow.add_edge(START, \"conversation\")\n",
        "workflow.add_conditional_edges(\"conversation\", should_continue)\n",
        "workflow.add_edge(\"summarize_conversation\", END)\n",
        "\n",
        "# Compile\n",
        "graph: CompiledStateGraph = workflow.compile(checkpointer=memory)\n",
        "display(Image(graph.get_graph().draw_mermaid_png()))"
      ]
    },
    {
      "cell_type": "markdown",
      "id": "8769db99-3938-45e6-a594-56beb18d6c45",
      "metadata": {
        "id": "8769db99-3938-45e6-a594-56beb18d6c45"
      },
      "source": [
        "Now, we can invoke the graph several times."
      ]
    },
    {
      "cell_type": "code",
      "execution_count": null,
      "id": "0f4094a0-d240-4be8-903a-7d9f605bdc5c",
      "metadata": {
        "colab": {
          "base_uri": "https://localhost:8080/"
        },
        "id": "0f4094a0-d240-4be8-903a-7d9f605bdc5c",
        "outputId": "339fcd3b-8b07-4562-b0a9-a69a5fce837f"
      },
      "outputs": [
        {
          "output_type": "stream",
          "name": "stderr",
          "text": [
            "WARNING:langsmith.client:Failed to multipart ingest runs: langsmith.utils.LangSmithError: Failed to POST https://api.smith.langchain.com/runs/multipart in LangSmith API. HTTPError('403 Client Error: Forbidden for url: https://api.smith.langchain.com/runs/multipart', '{\"detail\":\"Forbidden\"}')\n"
          ]
        },
        {
          "output_type": "stream",
          "name": "stdout",
          "text": [
            "Using summary: Here's an extended summary of the conversation:\n",
            "\n",
            "Lance introduced himself twice, expressing his fondness for the San Francisco 49ers. The AI assistant acknowledged his name and offered to discuss various aspects of the team.  However, instead of engaging with the offered topics about the 49ers, Lance abruptly shifted the conversation to cricket, expressing an interest in learning about the sport.  The conversation then transitioned to a description of cricket, including its various formats (Test Matches, ODIs, and T20), highlighting the differences in length and pace of play. The AI assistant offered to delve deeper into specific aspects of cricket based on Lance's preferences, demonstrating adaptability in responding to the change of topic.  The conversation, while initially focused on American football, ultimately showcased a shift to a different sport and a willingness from both participants to explore new topics.\n",
            "\n",
            "Message count: 6\n",
            "==================================\u001b[1m Ai Message \u001b[0m==================================\n",
            "\n",
            "Okay, let's explore cricket!  Since you've asked for information generally, I'll provide a broad overview.  To get a more focused explanation, please tell me what aspects of cricket interest you most (e.g., the rules, famous players, a specific format, etc.).\n",
            "\n",
            "**Cricket in a Nutshell:**\n",
            "\n",
            "Cricket is a bat-and-ball game played between two teams of eleven players each.  The objective is to score more runs than the opposing team.  Here's a simplified breakdown:\n",
            "\n",
            "* **The Pitch:** A rectangular area of carefully prepared grass, 22 yards long.\n",
            "* **The Wicket:**  Three wooden stumps with two small bails balanced on top, at each end of the pitch.  This is what the bowler aims to hit.\n",
            "* **The Batsman:**  Tries to hit the ball bowled by the opposing team's bowler.\n",
            "* **The Bowler:**  Throws (bowls) the ball at the batsman, aiming to hit the wicket or get the batsman out in other ways.\n",
            "* **The Fielders:** The rest of the team positions themselves around the field to catch the ball hit by the batsman.\n",
            "* **Scoring Runs:**  Runs are scored by hitting the ball and running between the wickets, or by hitting the ball to the boundary (edge of the field).  A boundary hit can score four or six runs depending on how it's hit.\n",
            "* **Getting a Batsman Out:** There are several ways a batsman can be dismissed (e.g., bowled, caught, leg before wicket (LBW), run out).\n",
            "\n",
            "**Different Formats:**  Cricket has different formats:\n",
            "\n",
            "* **Test Matches:**  Five-day matches, the longest and most traditional format.\n",
            "* **One Day Internationals (ODIs):**  Each team has 50 overs (an over is six legal deliveries).\n",
            "* **Twenty20 (T20):**  Each team has 20 overs, the shortest and fastest-paced format.\n",
            "\n",
            "This is a very basic overview. To understand cricket fully, you'd need to delve deeper into the rules, strategies, and the history of the game.  Let me know what specific aspects you'd like to learn more about!\n"
          ]
        },
        {
          "output_type": "stream",
          "name": "stderr",
          "text": [
            "WARNING:langsmith.client:Failed to multipart ingest runs: langsmith.utils.LangSmithError: Failed to POST https://api.smith.langchain.com/runs/multipart in LangSmith API. HTTPError('403 Client Error: Forbidden for url: https://api.smith.langchain.com/runs/multipart', '{\"detail\":\"Forbidden\"}')\n"
          ]
        }
      ],
      "source": [
        "# Create a thread\n",
        "config = {\"configurable\": {\"thread_id\": \"1\"}}\n",
        "\n",
        "# Start conversation\n",
        "input_message = HumanMessage(content=\"I would like to know about circket.\")\n",
        "output = graph.invoke({\"messages\": [input_message]}, config)\n",
        "for m in output['messages'][-1:]:\n",
        "    m.pretty_print()\n"
      ]
    },
    {
      "cell_type": "code",
      "source": [
        "# Create a thread\n",
        "config = {\"configurable\": {\"thread_id\": \"2\"}}\n",
        "\n",
        "# Start conversation\n",
        "input_message = HumanMessage(content=\"I am Raheela, my designation is Director\")\n",
        "output = graph.invoke({\"messages\": [input_message]}, config)\n",
        "for m in output['messages'][-1:]:\n",
        "    m.pretty_print()\n"
      ],
      "metadata": {
        "id": "I0SIs8MDAGQs",
        "outputId": "887808c6-299c-49e5-a203-03942e86caf7",
        "colab": {
          "base_uri": "https://localhost:8080/"
        }
      },
      "id": "I0SIs8MDAGQs",
      "execution_count": null,
      "outputs": [
        {
          "output_type": "stream",
          "name": "stderr",
          "text": [
            "WARNING:langsmith.client:Failed to multipart ingest runs: langsmith.utils.LangSmithError: Failed to POST https://api.smith.langchain.com/runs/multipart in LangSmith API. HTTPError('403 Client Error: Forbidden for url: https://api.smith.langchain.com/runs/multipart', '{\"detail\":\"Forbidden\"}')\n"
          ]
        },
        {
          "output_type": "stream",
          "name": "stdout",
          "text": [
            "Using summary: \n",
            "Message count: 2\n",
            "==================================\u001b[1m Ai Message \u001b[0m==================================\n",
            "\n",
            "Okay, Raheela, Director.  Is there anything I can help you with?\n"
          ]
        },
        {
          "output_type": "stream",
          "name": "stderr",
          "text": [
            "WARNING:langsmith.client:Failed to multipart ingest runs: langsmith.utils.LangSmithError: Failed to POST https://api.smith.langchain.com/runs/multipart in LangSmith API. HTTPError('403 Client Error: Forbidden for url: https://api.smith.langchain.com/runs/multipart', '{\"detail\":\"Forbidden\"}')\n"
          ]
        }
      ]
    },
    {
      "cell_type": "markdown",
      "id": "c0f3e842-4497-45e2-a924-69672a9bcb33",
      "metadata": {
        "id": "c0f3e842-4497-45e2-a924-69672a9bcb33"
      },
      "source": [
        "Let's confirm that our state is saved locally."
      ]
    },
    {
      "cell_type": "code",
      "execution_count": null,
      "id": "cZoLBwonOMGa",
      "metadata": {
        "colab": {
          "base_uri": "https://localhost:8080/"
        },
        "id": "cZoLBwonOMGa",
        "outputId": "d8d66db1-f702-4ca2-bab8-96abf73d2aa4"
      },
      "outputs": [
        {
          "output_type": "stream",
          "name": "stderr",
          "text": [
            "WARNING:langsmith.client:Failed to multipart ingest runs: langsmith.utils.LangSmithError: Failed to POST https://api.smith.langchain.com/runs/multipart in LangSmith API. HTTPError('403 Client Error: Forbidden for url: https://api.smith.langchain.com/runs/multipart', '{\"detail\":\"Forbidden\"}')\n"
          ]
        },
        {
          "output_type": "stream",
          "name": "stdout",
          "text": [
            "Using summary: The conversation began with Lance introducing himself twice, expressing his enthusiasm for the San Francisco 49ers.  The AI assistant acknowledged his name and offered to discuss the team. However, Lance quickly changed the subject to cricket, demonstrating a spontaneous shift in interest.  The AI then provided a comprehensive overview of cricket, explaining its rules, scoring system, and different formats (Test Matches, ODIs, and T20).  The AI’s responses were consistently adaptable, shifting from American football to cricket and providing detailed information upon request.  Following the explanation of cricket, the conversation took an unexpected turn when Lance, seemingly forgetting the prior conversation, again inquired about the sport. This repetition highlights a potential disconnect or lapse in memory on Lance's part.  Finally, the conversation concluded with Lance asking the AI for his name, to which the AI responded that it had no access to personal information not explicitly provided during the current interaction, underscoring the AI's limitations regarding personal data and memory of past interactions.  The overall conversation showcases a dynamic exchange of information across different topics, highlighting both the AI's adaptability and the user's fluctuating interests and apparent memory lapses.\n",
            "\n",
            "Message count: 4\n",
            "==================================\u001b[1m Ai Message \u001b[0m==================================\n",
            "\n",
            "I do not know your name.  I have no memory of past conversations and only know what you tell me in our current interaction.\n"
          ]
        }
      ],
      "source": [
        "input_message = HumanMessage(content=\"what's my name?\")\n",
        "output = graph.invoke({\"messages\": [input_message]}, config)\n",
        "for m in output['messages'][-1:]:\n",
        "    m.pretty_print()\n"
      ]
    },
    {
      "cell_type": "code",
      "execution_count": null,
      "id": "oL7okbdYORfH",
      "metadata": {
        "colab": {
          "base_uri": "https://localhost:8080/"
        },
        "id": "oL7okbdYORfH",
        "outputId": "909dd78f-0bb5-42b4-e93f-e8c48f966951"
      },
      "outputs": [
        {
          "output_type": "stream",
          "name": "stderr",
          "text": [
            "WARNING:langsmith.client:Failed to multipart ingest runs: langsmith.utils.LangSmithError: Failed to POST https://api.smith.langchain.com/runs/multipart in LangSmith API. HTTPError('403 Client Error: Forbidden for url: https://api.smith.langchain.com/runs/multipart', '{\"detail\":\"Forbidden\"}')\n"
          ]
        },
        {
          "output_type": "stream",
          "name": "stdout",
          "text": [
            "Using summary: \n",
            "Message count: 6\n",
            "==================================\u001b[1m Ai Message \u001b[0m==================================\n",
            "\n",
            "That's great!  Go Niners!\n"
          ]
        },
        {
          "output_type": "stream",
          "name": "stderr",
          "text": [
            "WARNING:langsmith.client:Failed to multipart ingest runs: langsmith.utils.LangSmithError: Failed to POST https://api.smith.langchain.com/runs/multipart in LangSmith API. HTTPError('403 Client Error: Forbidden for url: https://api.smith.langchain.com/runs/multipart', '{\"detail\":\"Forbidden\"}')\n"
          ]
        }
      ],
      "source": [
        "input_message = HumanMessage(content=\"i like the 49ers!\")\n",
        "output = graph.invoke({\"messages\": [input_message]}, config)\n",
        "for m in output['messages'][-1:]:\n",
        "    m.pretty_print()"
      ]
    },
    {
      "cell_type": "code",
      "execution_count": null,
      "id": "d2ab158a-5a82-417a-8841-730a4cc18ea7",
      "metadata": {
        "colab": {
          "base_uri": "https://localhost:8080/"
        },
        "id": "d2ab158a-5a82-417a-8841-730a4cc18ea7",
        "outputId": "8c71fbc5-f517-44a1-dbef-177e90c19fd6"
      },
      "outputs": [
        {
          "output_type": "execute_result",
          "data": {
            "text/plain": [
              "StateSnapshot(values={'messages': [HumanMessage(content='I would like to know about circket.', additional_kwargs={}, response_metadata={}, id='f4f39c23-29b7-4bed-bb61-fa4bad4b91a7'), AIMessage(content=\"Cricket is a bat-and-ball game played between two teams of eleven players on a field at the centre of which is a 22-yard pitch with a wicket at each end.  The game is played with a hard ball, and the aim is to score more runs than the opposing team.  There are several formats of cricket:\\n\\n* **Test Matches:**  These are the longest format, lasting five days.  They're known for their tactical depth and often result in drawn matches.\\n\\n* **One Day Internationals (ODIs):**  Each team has 50 overs (an over is a set of six legal deliveries bowled by a single bowler).  This is a faster-paced format than Test matches.\\n\\n* **Twenty20 (T20):** This is the shortest and fastest-growing format, with each team having only 20 overs.  It's known for its explosive hitting and shorter matches.\\n\\nWhat specifically about cricket interests you?  Perhaps you'd like to know about the rules, famous players, different formats, or a particular team or country's cricket history?  Let me know what you'd like to explore!\\n\", additional_kwargs={}, response_metadata={'prompt_feedback': {'block_reason': 0, 'safety_ratings': []}, 'finish_reason': 'STOP', 'safety_ratings': []}, id='run-1c6270a1-2819-42d6-b62c-dea1c76d3ca0-0', usage_metadata={'input_tokens': 353, 'output_tokens': 246, 'total_tokens': 599, 'input_token_details': {'cache_read': 0}}), HumanMessage(content='I would like to know about circket.', additional_kwargs={}, response_metadata={}, id='1dfc7040-e8b3-4b68-9a87-5059f2d989e5'), AIMessage(content='Ah, you\\'re interested in cricket!  To give you a good overview, let\\'s break it down:\\n\\n**The Basics:**  Cricket is a bat-and-ball game played between two teams of eleven players.  The game takes place on a field with a 22-yard pitch in the center, and a wicket at each end.  The wicket is defended by a batsman, and the bowler tries to hit the wicket with the ball to get the batsman out.\\n\\n**Scoring Runs:**  Batsmen score runs by hitting the ball bowled at them and running between the wickets, or by hitting boundaries (hitting the ball to the edge of the field).  Different types of shots earn different numbers of runs.\\n\\n**Getting a Batsman Out:** There are various ways a batsman can be dismissed (out), including being bowled (the ball hits the wicket), caught (a fielder catches the ball after the batsman hits it), leg before wicket (LBW - the ball would have hit the wicket, but the batsman\\'s leg was in the way), and run out (a fielder hits the wicket with the ball while a batsman is running between the wickets).\\n\\n**Different Formats:**  As mentioned before, there are three main formats:\\n\\n* **Test Matches (5 days):**  The longest and most traditional format, emphasizing technique and stamina.\\n* **One Day Internationals (ODIs) (50 overs per team):** A shorter, faster-paced version.\\n* **Twenty20 (T20) (20 overs per team):** The shortest and most explosive format, filled with sixes and fours.\\n\\n**Key Players and Terminology:**  Cricket has a rich vocabulary, and many key roles within the team.  Understanding terms like \"bowler,\" \"batsman,\" \"wicket-keeper,\" \"fielder,\" \"umpire,\" and \"captain\" is essential to following the game.  Famous players vary by country and era, but there are many legendary figures in the sport.\\n\\nTo help me tailor the information to your interests, tell me:\\n\\n* **What aspect of cricket appeals to you most?** (e.g., the rules, the strategy, specific players, a particular format)\\n* **What is your current level of knowledge about cricket?** (e.g., beginner, intermediate, advanced)\\n\\nThe more detail you provide, the better I can answer your questions.\\n', additional_kwargs={}, response_metadata={'prompt_feedback': {'block_reason': 0, 'safety_ratings': []}, 'finish_reason': 'STOP', 'safety_ratings': []}, id='run-382a7a75-2746-404f-927a-ffbdd62c1b44-0', usage_metadata={'input_tokens': 447, 'output_tokens': 498, 'total_tokens': 945, 'input_token_details': {'cache_read': 0}}), HumanMessage(content='I would like to know about circket.', additional_kwargs={}, response_metadata={}, id='f40ce7ba-c9bb-4f4d-95a7-054cb1d1a220'), AIMessage(content=\"Okay, let's explore cricket!  Since you've asked for information generally, I'll provide a broad overview.  To get a more focused explanation, please tell me what aspects of cricket interest you most (e.g., the rules, famous players, a specific format, etc.).\\n\\n**Cricket in a Nutshell:**\\n\\nCricket is a bat-and-ball game played between two teams of eleven players each.  The objective is to score more runs than the opposing team.  Here's a simplified breakdown:\\n\\n* **The Pitch:** A rectangular area of carefully prepared grass, 22 yards long.\\n* **The Wicket:**  Three wooden stumps with two small bails balanced on top, at each end of the pitch.  This is what the bowler aims to hit.\\n* **The Batsman:**  Tries to hit the ball bowled by the opposing team's bowler.\\n* **The Bowler:**  Throws (bowls) the ball at the batsman, aiming to hit the wicket or get the batsman out in other ways.\\n* **The Fielders:** The rest of the team positions themselves around the field to catch the ball hit by the batsman.\\n* **Scoring Runs:**  Runs are scored by hitting the ball and running between the wickets, or by hitting the ball to the boundary (edge of the field).  A boundary hit can score four or six runs depending on how it's hit.\\n* **Getting a Batsman Out:** There are several ways a batsman can be dismissed (e.g., bowled, caught, leg before wicket (LBW), run out).\\n\\n**Different Formats:**  Cricket has different formats:\\n\\n* **Test Matches:**  Five-day matches, the longest and most traditional format.\\n* **One Day Internationals (ODIs):**  Each team has 50 overs (an over is six legal deliveries).\\n* **Twenty20 (T20):**  Each team has 20 overs, the shortest and fastest-paced format.\\n\\nThis is a very basic overview. To understand cricket fully, you'd need to delve deeper into the rules, strategies, and the history of the game.  Let me know what specific aspects you'd like to learn more about!\\n\", additional_kwargs={}, response_metadata={'prompt_feedback': {'block_reason': 0, 'safety_ratings': []}, 'finish_reason': 'STOP', 'safety_ratings': []}, id='run-9391c7da-af3a-444d-9ae2-84cfb9661b47-0', usage_metadata={'input_tokens': 956, 'output_tokens': 473, 'total_tokens': 1429, 'input_token_details': {'cache_read': 0}})], 'summary': \"Here's an extended summary of the conversation:\\n\\nLance introduced himself twice, expressing his fondness for the San Francisco 49ers. The AI assistant acknowledged his name and offered to discuss various aspects of the team.  However, instead of engaging with the offered topics about the 49ers, Lance abruptly shifted the conversation to cricket, expressing an interest in learning about the sport.  The conversation then transitioned to a description of cricket, including its various formats (Test Matches, ODIs, and T20), highlighting the differences in length and pace of play. The AI assistant offered to delve deeper into specific aspects of cricket based on Lance's preferences, demonstrating adaptability in responding to the change of topic.  The conversation, while initially focused on American football, ultimately showcased a shift to a different sport and a willingness from both participants to explore new topics.\\n\"}, next=(), config={'configurable': {'thread_id': '1', 'checkpoint_ns': '', 'checkpoint_id': '1efb3819-334b-6cb9-801b-6af0793c133a'}}, metadata={'source': 'loop', 'writes': {'conversation': {'messages': AIMessage(content=\"Okay, let's explore cricket!  Since you've asked for information generally, I'll provide a broad overview.  To get a more focused explanation, please tell me what aspects of cricket interest you most (e.g., the rules, famous players, a specific format, etc.).\\n\\n**Cricket in a Nutshell:**\\n\\nCricket is a bat-and-ball game played between two teams of eleven players each.  The objective is to score more runs than the opposing team.  Here's a simplified breakdown:\\n\\n* **The Pitch:** A rectangular area of carefully prepared grass, 22 yards long.\\n* **The Wicket:**  Three wooden stumps with two small bails balanced on top, at each end of the pitch.  This is what the bowler aims to hit.\\n* **The Batsman:**  Tries to hit the ball bowled by the opposing team's bowler.\\n* **The Bowler:**  Throws (bowls) the ball at the batsman, aiming to hit the wicket or get the batsman out in other ways.\\n* **The Fielders:** The rest of the team positions themselves around the field to catch the ball hit by the batsman.\\n* **Scoring Runs:**  Runs are scored by hitting the ball and running between the wickets, or by hitting the ball to the boundary (edge of the field).  A boundary hit can score four or six runs depending on how it's hit.\\n* **Getting a Batsman Out:** There are several ways a batsman can be dismissed (e.g., bowled, caught, leg before wicket (LBW), run out).\\n\\n**Different Formats:**  Cricket has different formats:\\n\\n* **Test Matches:**  Five-day matches, the longest and most traditional format.\\n* **One Day Internationals (ODIs):**  Each team has 50 overs (an over is six legal deliveries).\\n* **Twenty20 (T20):**  Each team has 20 overs, the shortest and fastest-paced format.\\n\\nThis is a very basic overview. To understand cricket fully, you'd need to delve deeper into the rules, strategies, and the history of the game.  Let me know what specific aspects you'd like to learn more about!\\n\", additional_kwargs={}, response_metadata={'prompt_feedback': {'block_reason': 0, 'safety_ratings': []}, 'finish_reason': 'STOP', 'safety_ratings': []}, id='run-9391c7da-af3a-444d-9ae2-84cfb9661b47-0', usage_metadata={'input_tokens': 956, 'output_tokens': 473, 'total_tokens': 1429, 'input_token_details': {'cache_read': 0}})}}, 'thread_id': '1', 'step': 27, 'parents': {}}, created_at='2024-12-06T03:24:17.363451+00:00', parent_config={'configurable': {'thread_id': '1', 'checkpoint_ns': '', 'checkpoint_id': '1efb3819-0e28-63ef-801a-e9f98d5cd8e2'}}, tasks=())"
            ]
          },
          "metadata": {},
          "execution_count": 19
        }
      ],
      "source": [
        "config = {\"configurable\": {\"thread_id\": \"1\"}}\n",
        "graph_state = graph.get_state(config)\n",
        "graph_state"
      ]
    },
    {
      "cell_type": "code",
      "execution_count": null,
      "id": "Qekd1ttftUoj",
      "metadata": {
        "colab": {
          "base_uri": "https://localhost:8080/"
        },
        "id": "Qekd1ttftUoj",
        "outputId": "7279cd34-5a4c-435a-e474-1fb1a64dccf5"
      },
      "outputs": [
        {
          "output_type": "execute_result",
          "data": {
            "text/plain": [
              "4"
            ]
          },
          "metadata": {},
          "execution_count": 22
        }
      ],
      "source": [
        "config = {\"configurable\": {\"thread_id\": \"1\"}}\n",
        "messages = graph.get_state(config).values.get(\"messages\")\n",
        "len(messages)"
      ]
    },
    {
      "cell_type": "code",
      "execution_count": null,
      "id": "de-rftSAKYqD",
      "metadata": {
        "colab": {
          "base_uri": "https://localhost:8080/",
          "height": 196
        },
        "id": "de-rftSAKYqD",
        "outputId": "724fc377-3789-43d6-d288-d71c873e6c25"
      },
      "outputs": [
        {
          "output_type": "execute_result",
          "data": {
            "text/plain": [
              "\"The conversation began with Lance introducing himself twice, expressing his enthusiasm for the San Francisco 49ers.  The AI assistant acknowledged his name and offered to discuss the team. However, Lance quickly changed the subject to cricket, demonstrating a spontaneous shift in interest.  The AI then provided a comprehensive overview of cricket, explaining its rules, scoring system, and different formats (Test Matches, ODIs, and T20).  The AI’s responses were consistently adaptable, shifting from American football to cricket and providing detailed information upon request.  Following the explanation of cricket, the conversation took an unexpected turn when Lance, seemingly forgetting the prior conversation, again inquired about the sport. This repetition highlights a potential disconnect or lapse in memory on Lance's part.  Finally, the conversation concluded with Lance asking the AI for his name, to which the AI responded that it had no access to personal information not explicitly provided during the current interaction, underscoring the AI's limitations regarding personal data and memory of past interactions.  The overall conversation showcases a dynamic exchange of information across different topics, highlighting both the AI's adaptability and the user's fluctuating interests and apparent memory lapses.\\n\""
            ],
            "application/vnd.google.colaboratory.intrinsic+json": {
              "type": "string"
            }
          },
          "metadata": {},
          "execution_count": 23
        }
      ],
      "source": [
        "graph_state = graph.get_state(config).values.get(\"summary\",\"\")\n",
        "graph_state"
      ]
    },
    {
      "cell_type": "markdown",
      "source": [
        "**download file**"
      ],
      "metadata": {
        "id": "3K5VhkAQDXOY"
      },
      "id": "3K5VhkAQDXOY"
    },
    {
      "cell_type": "code",
      "execution_count": null,
      "id": "BRgmis1C8S7e",
      "metadata": {
        "colab": {
          "base_uri": "https://localhost:8080/"
        },
        "id": "BRgmis1C8S7e",
        "outputId": "08e0dfea-5882-4f35-878e-8a80179604ed"
      },
      "outputs": [
        {
          "output_type": "stream",
          "name": "stdout",
          "text": [
            "example.db  example.db-shm  example.db-wal\n"
          ]
        }
      ],
      "source": [
        "# see the how many file we have, important one is example.db, example.db\n",
        "!ls state_db\n"
      ]
    },
    {
      "cell_type": "markdown",
      "source": [
        "**rm notes**\n",
        "\n",
        "why we require  example.db-shm"
      ],
      "metadata": {
        "id": "wht9lUMhEAGS"
      },
      "id": "wht9lUMhEAGS"
    },
    {
      "cell_type": "markdown",
      "id": "XdbM-0ReTQja",
      "metadata": {
        "id": "XdbM-0ReTQja"
      },
      "source": [
        "Download required db files"
      ]
    },
    {
      "cell_type": "code",
      "execution_count": null,
      "id": "V1CcFo3H2WWL",
      "metadata": {
        "colab": {
          "base_uri": "https://localhost:8080/",
          "height": 17
        },
        "id": "V1CcFo3H2WWL",
        "outputId": "f53a65c4-89ed-46a1-d28c-85e761c2c180"
      },
      "outputs": [
        {
          "output_type": "display_data",
          "data": {
            "text/plain": [
              "<IPython.core.display.Javascript object>"
            ],
            "application/javascript": [
              "\n",
              "    async function download(id, filename, size) {\n",
              "      if (!google.colab.kernel.accessAllowed) {\n",
              "        return;\n",
              "      }\n",
              "      const div = document.createElement('div');\n",
              "      const label = document.createElement('label');\n",
              "      label.textContent = `Downloading \"${filename}\": `;\n",
              "      div.appendChild(label);\n",
              "      const progress = document.createElement('progress');\n",
              "      progress.max = size;\n",
              "      div.appendChild(progress);\n",
              "      document.body.appendChild(div);\n",
              "\n",
              "      const buffers = [];\n",
              "      let downloaded = 0;\n",
              "\n",
              "      const channel = await google.colab.kernel.comms.open(id);\n",
              "      // Send a message to notify the kernel that we're ready.\n",
              "      channel.send({})\n",
              "\n",
              "      for await (const message of channel.messages) {\n",
              "        // Send a message to notify the kernel that we're ready.\n",
              "        channel.send({})\n",
              "        if (message.buffers) {\n",
              "          for (const buffer of message.buffers) {\n",
              "            buffers.push(buffer);\n",
              "            downloaded += buffer.byteLength;\n",
              "            progress.value = downloaded;\n",
              "          }\n",
              "        }\n",
              "      }\n",
              "      const blob = new Blob(buffers, {type: 'application/binary'});\n",
              "      const a = document.createElement('a');\n",
              "      a.href = window.URL.createObjectURL(blob);\n",
              "      a.download = filename;\n",
              "      div.appendChild(a);\n",
              "      a.click();\n",
              "      div.remove();\n",
              "    }\n",
              "  "
            ]
          },
          "metadata": {}
        },
        {
          "output_type": "display_data",
          "data": {
            "text/plain": [
              "<IPython.core.display.Javascript object>"
            ],
            "application/javascript": [
              "download(\"download_00eacdfe-3a1f-4b20-ac3c-23a5313a3453\", \"example.db\", 110592)"
            ]
          },
          "metadata": {}
        },
        {
          "output_type": "display_data",
          "data": {
            "text/plain": [
              "<IPython.core.display.Javascript object>"
            ],
            "application/javascript": [
              "\n",
              "    async function download(id, filename, size) {\n",
              "      if (!google.colab.kernel.accessAllowed) {\n",
              "        return;\n",
              "      }\n",
              "      const div = document.createElement('div');\n",
              "      const label = document.createElement('label');\n",
              "      label.textContent = `Downloading \"${filename}\": `;\n",
              "      div.appendChild(label);\n",
              "      const progress = document.createElement('progress');\n",
              "      progress.max = size;\n",
              "      div.appendChild(progress);\n",
              "      document.body.appendChild(div);\n",
              "\n",
              "      const buffers = [];\n",
              "      let downloaded = 0;\n",
              "\n",
              "      const channel = await google.colab.kernel.comms.open(id);\n",
              "      // Send a message to notify the kernel that we're ready.\n",
              "      channel.send({})\n",
              "\n",
              "      for await (const message of channel.messages) {\n",
              "        // Send a message to notify the kernel that we're ready.\n",
              "        channel.send({})\n",
              "        if (message.buffers) {\n",
              "          for (const buffer of message.buffers) {\n",
              "            buffers.push(buffer);\n",
              "            downloaded += buffer.byteLength;\n",
              "            progress.value = downloaded;\n",
              "          }\n",
              "        }\n",
              "      }\n",
              "      const blob = new Blob(buffers, {type: 'application/binary'});\n",
              "      const a = document.createElement('a');\n",
              "      a.href = window.URL.createObjectURL(blob);\n",
              "      a.download = filename;\n",
              "      div.appendChild(a);\n",
              "      a.click();\n",
              "      div.remove();\n",
              "    }\n",
              "  "
            ]
          },
          "metadata": {}
        },
        {
          "output_type": "display_data",
          "data": {
            "text/plain": [
              "<IPython.core.display.Javascript object>"
            ],
            "application/javascript": [
              "download(\"download_479f5c92-f8cc-44e6-ac8d-f9db4493784e\", \"example.db-wal\", 679832)"
            ]
          },
          "metadata": {}
        }
      ],
      "source": [
        "from google.colab import files\n",
        "files.download('state_db/example.db')\n",
        "files.download('state_db/example.db-wal')\n"
      ]
    },
    {
      "cell_type": "markdown",
      "id": "1e21152d-ed9c-408d-b7d5-f634c9ce81e2",
      "metadata": {
        "id": "1e21152d-ed9c-408d-b7d5-f634c9ce81e2"
      },
      "source": [
        "### Persisting state\n",
        "\n",
        "Using database like Sqlite means state is persisted!\n",
        "\n",
        "For example, we can re-start the notebook kernel and see that we can still load from Sqlite DB on disk.\n"
      ]
    },
    {
      "cell_type": "markdown",
      "id": "8466e418-1a46-4cdb-a51a-6ae14281bb85",
      "metadata": {
        "id": "8466e418-1a46-4cdb-a51a-6ae14281bb85"
      },
      "source": [
        "## LangGraph Studio\n",
        "\n",
        "--\n",
        "\n",
        "**⚠️ DISCLAIMER**\n",
        "\n",
        "*Running Studio currently requires a Mac. If you are not using a Mac, then skip this step.*\n",
        "\n",
        "--\n",
        "\n",
        "Now that we better understand external memory, recall that the LangGraph API packages your code and provides you with with built-in persistence.\n",
        "\n",
        "And the API is the back-end for Studio!\n",
        "\n",
        "Load the `chatbot` in the UI, which uses `module2-/studio/chatbot.py` set in `module2-/studio/langgraph.json`."
      ]
    },
    {
      "cell_type": "markdown",
      "id": "c4916d8b",
      "metadata": {
        "id": "c4916d8b"
      },
      "source": []
    }
  ],
  "metadata": {
    "accelerator": "GPU",
    "colab": {
      "gpuType": "T4",
      "provenance": []
    },
    "kernelspec": {
      "display_name": "Python 3",
      "name": "python3"
    },
    "language_info": {
      "codemirror_mode": {
        "name": "ipython",
        "version": 3
      },
      "file_extension": ".py",
      "mimetype": "text/x-python",
      "name": "python",
      "nbconvert_exporter": "python",
      "pygments_lexer": "ipython3",
      "version": "3.12.6"
    }
  },
  "nbformat": 4,
  "nbformat_minor": 5
}