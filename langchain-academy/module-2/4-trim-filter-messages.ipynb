{
  "cells": [
    {
      "cell_type": "markdown",
      "id": "fb0ebaf1",
      "metadata": {
        "id": "fb0ebaf1"
      },
      "source": [
        "[![Open in Colab](https://colab.research.google.com/assets/colab-badge.svg)](https://colab.research.google.com/github/langchain-ai/langchain-academy/blob/main/module-2/trim-filter-messages.ipynb) [![Open in LangChain Academy](https://cdn.prod.website-files.com/65b8cd72835ceeacd4449a53/66e9eba12c7b7688aa3dbb5e_LCA-badge-green.svg)](https://academy.langchain.com/courses/take/intro-to-langgraph/lessons/58239435-lesson-4-trim-and-filter-messages)"
      ]
    },
    {
      "cell_type": "markdown",
      "source": [
        "**Module 2 -  4-trim-filter-messages - Lesson 4**\n",
        "\n",
        "[Class-06: LangGraph - Multiple Schemas, Filter & Trim Messages, and Introduction to RAG - Nov 21, 2024](https://www.youtube.com/watch?v=rBPZwQ7jlBo&list=PL0vKVrkG4hWoHDg46N85-9NDhmOaPWEwA&index=7)"
      ],
      "metadata": {
        "id": "Ck-WGGmjdO0a"
      },
      "id": "Ck-WGGmjdO0a"
    },
    {
      "cell_type": "markdown",
      "id": "c52ea2f9-03ff-4647-b782-46867ebed04e",
      "metadata": {
        "id": "c52ea2f9-03ff-4647-b782-46867ebed04e"
      },
      "source": [
        "# Filtering and trimming messages\n",
        "\n",
        "## Review\n",
        "\n",
        "Now, we have a deeper understanding of a few things:\n",
        "\n",
        "* How to customize the graph state schema\n",
        "* How to define custom state reducers\n",
        "* How to use multiple graph state schemas\n",
        "\n",
        "## Goals\n",
        "\n",
        "Now, we can start using these concepts with models in LangGraph!\n",
        "\n",
        "In the next few sessions, we'll build towards a chatbot that has long-term memory.\n",
        "\n",
        "Because our chatbot will use messages, let's first talk a bit more about advanced ways to work with messages in graph state."
      ]
    },
    {
      "cell_type": "code",
      "execution_count": 2,
      "id": "d5197aba-5d46-421b-ae3b-4e3034edcfda",
      "metadata": {
        "id": "d5197aba-5d46-421b-ae3b-4e3034edcfda"
      },
      "outputs": [],
      "source": [
        "%%capture --no-stderr\n",
        "%pip install --quiet -U langchain_core langgraph langchain_google_genai"
      ]
    },
    {
      "cell_type": "code",
      "source": [
        "# API Keys\n",
        "# Get the GEMINI API key from user data\n",
        "from google.colab import userdata\n",
        "gemini_api_key = userdata.get('GEMINI_API_KEY')"
      ],
      "metadata": {
        "id": "Y6BIG7hzOBE9"
      },
      "id": "Y6BIG7hzOBE9",
      "execution_count": 3,
      "outputs": []
    },
    {
      "cell_type": "markdown",
      "id": "8b64d8d3-e4ac-4961-bdc0-688825eb5864",
      "metadata": {
        "id": "8b64d8d3-e4ac-4961-bdc0-688825eb5864"
      },
      "source": [
        "We'll use [LangSmith](https://docs.smith.langchain.com/) for [tracing](https://docs.smith.langchain.com/concepts/tracing).\n",
        "\n",
        "We'll log to a project, `langchain-academy`."
      ]
    },
    {
      "cell_type": "code",
      "execution_count": 4,
      "id": "dd020c79",
      "metadata": {
        "id": "dd020c79"
      },
      "outputs": [],
      "source": [
        "import os\n",
        "\n",
        "os.environ[\"LANGCHAIN_API_KEY\"] = userdata.get('LANGCHAIN_API_KEY')\n",
        "os.environ[\"LANGCHAIN_TRACING_V2\"] = \"true\"\n",
        "os.environ[\"LANGCHAIN_PROJECT\"] = \"langchain-academy\""
      ]
    },
    {
      "cell_type": "markdown",
      "id": "72f3fc90-58b6-4f7f-897e-dddf6ae532c7",
      "metadata": {
        "id": "72f3fc90-58b6-4f7f-897e-dddf6ae532c7"
      },
      "source": [
        "## Messages as state\n",
        "\n",
        "First, let's define some messages."
      ]
    },
    {
      "cell_type": "code",
      "execution_count": 7,
      "id": "cf11a463-e27a-4a05-b41d-64882e38edca",
      "metadata": {
        "id": "cf11a463-e27a-4a05-b41d-64882e38edca",
        "outputId": "f1bb1d50-4122-45a0-d70f-10a1f265e51c",
        "colab": {
          "base_uri": "https://localhost:8080/"
        }
      },
      "outputs": [
        {
          "output_type": "stream",
          "name": "stdout",
          "text": [
            "==================================\u001b[1m Ai Message \u001b[0m==================================\n",
            "Name: Jamal\n",
            "\n",
            "So you said you were researching Skardu, Pakistan?\n",
            "================================\u001b[1m Human Message \u001b[0m=================================\n",
            "Name: Raheela\n",
            "\n",
            "Yes, I know about Shigar Valley, hot springs , . But what others should I learn about?\n"
          ]
        }
      ],
      "source": [
        "from pprint import pprint\n",
        "from langchain_core.messages import AIMessage, HumanMessage, ToolMessage\n",
        "messages = [AIMessage(f\"So you said you were researching Skardu, Pakistan?\", name=\"Jamal\")]\n",
        "messages.append(HumanMessage(f\"Yes, I know about Shigar Valley, hot springs , . But what others should I learn about?\", name=\"Raheela\"))\n",
        "\n",
        "for m in messages:\n",
        "    m.pretty_print()"
      ]
    },
    {
      "cell_type": "markdown",
      "id": "b814adcb-6bf9-4b75-be11-e59f933fbd0c",
      "metadata": {
        "id": "b814adcb-6bf9-4b75-be11-e59f933fbd0c"
      },
      "source": [
        "Recall we can pass them to a chat model."
      ]
    },
    {
      "cell_type": "code",
      "source": [
        "# Initialize the ChatGoogleGenerativeAI with the Gemini model\n",
        "\n",
        "from langchain_google_genai import ChatGoogleGenerativeAI\n",
        "\n",
        "llm = ChatGoogleGenerativeAI(\n",
        "    model=\"gemini-1.5-flash\",  # Specify the model to use\n",
        "    max_retries=2,\n",
        "    api_key=gemini_api_key    # Provide the Google API key for authentication\n",
        ")"
      ],
      "metadata": {
        "id": "_8smNklhSz6j"
      },
      "id": "_8smNklhSz6j",
      "execution_count": 5,
      "outputs": []
    },
    {
      "cell_type": "code",
      "execution_count": 8,
      "id": "4712e288-e622-48a2-ad3f-a52f65f3ab08",
      "metadata": {
        "id": "4712e288-e622-48a2-ad3f-a52f65f3ab08",
        "outputId": "2a79bacb-cacd-46cf-f94c-cd77c1ae6662",
        "colab": {
          "base_uri": "https://localhost:8080/"
        }
      },
      "outputs": [
        {
          "output_type": "execute_result",
          "data": {
            "text/plain": [
              "AIMessage(content=\"Skardu and its surrounding areas offer much more than just Shigar Valley and hot springs! To enrich your research, consider exploring these aspects:\\n\\n**Regarding Nature & Geography:**\\n\\n* **Shangrila Lake:** A stunningly beautiful lake, often compared to a hidden paradise.  Learn about its formation, the surrounding landscape, and any activities available there (boating, etc.).\\n* **Katpana Desert:**  A unique cold desert landscape, a surprising contrast to the region's mountainous terrain. Research its geology, flora, and fauna.\\n* **Deosai Plains:**  While possibly a bit far from Skardu itself, Deosai is a crucial part of the region's natural beauty and a major attraction. Research its biodiversity, the best time to visit, and the unique wildlife found there (snow leopards, markhor, etc.).\\n* **K2 Base Camp Trek:** Though a significant undertaking, the proximity of K2, the second-highest mountain in the world, makes Skardu a popular starting point for treks. Research the various routes, difficulty levels, and necessary preparations.\\n* **Baltoro Glacier:** One of the longest glaciers outside the polar regions, its size and beauty are impressive.  Learn about its features and its importance in the region's ecology.\\n\\n**Regarding Culture & History:**\\n\\n* **Skardu Fort:**  Learn about its history, architecture, and significance as a landmark.\\n* **Local Culture and Traditions:** Research the Balti culture, their unique customs, clothing, and traditions.  Consider looking into their music, dances, and festivals.\\n* **Ancient Ruins and Historical Sites:** Explore if there are any lesser-known historical sites or ruins in the surrounding areas.\\n* **Local Crafts and Handicrafts:**  Research the types of handicrafts produced in the region, like textiles, wood carvings, or metalwork.\\n\\n\\n**Regarding Practicalities for Visitors:**\\n\\n* **Best time to visit:**  Skardu's weather varies greatly throughout the year. Research the ideal time to visit based on your interests (trekking, sightseeing, etc.).\\n* **Accessibility and Transportation:**  Learn about how to get to Skardu (flights, roads), the local transportation options, and any potential challenges.\\n* **Accommodation:**  Research the range of accommodation options available, from budget-friendly guesthouses to more luxurious hotels.\\n\\n\\nBy exploring these areas, you'll gain a much more comprehensive understanding of Skardu beyond its well-known attractions. Remember to use reputable sources for your research, and enjoy learning about this fascinating region!\\n\", additional_kwargs={}, response_metadata={'prompt_feedback': {'block_reason': 0, 'safety_ratings': []}, 'finish_reason': 'STOP', 'safety_ratings': []}, id='run-14ad3d90-146d-4997-8aaa-cc63cd68cf98-0', usage_metadata={'input_tokens': 34, 'output_tokens': 530, 'total_tokens': 564, 'input_token_details': {'cache_read': 0}})"
            ]
          },
          "metadata": {},
          "execution_count": 8
        }
      ],
      "source": [
        "\n",
        "llm.invoke(messages)"
      ]
    },
    {
      "cell_type": "markdown",
      "id": "fbd1dab8-0af8-4621-8264-ce65065f76ec",
      "metadata": {
        "id": "fbd1dab8-0af8-4621-8264-ce65065f76ec"
      },
      "source": [
        "We can run our chat model in a simple graph with `MessagesState`."
      ]
    },
    {
      "cell_type": "code",
      "execution_count": 10,
      "id": "bbd8c39c-633b-4176-9cc6-8318e42bb5dd",
      "metadata": {
        "id": "bbd8c39c-633b-4176-9cc6-8318e42bb5dd",
        "outputId": "7180e813-c1db-4b7a-8b73-0c225bfe5e7a",
        "colab": {
          "base_uri": "https://localhost:8080/",
          "height": 251
        }
      },
      "outputs": [
        {
          "output_type": "display_data",
          "data": {
            "image/png": "[encoded data removed]",
            "text/plain": [
              "<IPython.core.display.Image object>"
            ]
          },
          "metadata": {}
        }
      ],
      "source": [
        "from IPython.display import Image, display\n",
        "from langgraph.graph import MessagesState\n",
        "from langgraph.graph import StateGraph, START, END\n",
        "\n",
        "# Node\n",
        "def chat_model_node(state: MessagesState):\n",
        "    return {\"messages\": llm.invoke(state[\"messages\"])}\n",
        "\n",
        "# Build graph\n",
        "builder = StateGraph(MessagesState)\n",
        "\n",
        "builder.add_node(\"chat_model\", chat_model_node)\n",
        "\n",
        "builder.add_edge(START, \"chat_model\")\n",
        "builder.add_edge(\"chat_model\", END)\n",
        "\n",
        "graph = builder.compile()\n",
        "\n",
        "# View\n",
        "display(Image(graph.get_graph().draw_mermaid_png()))"
      ]
    },
    {
      "cell_type": "code",
      "execution_count": 11,
      "id": "3a5a3e4a-ccfd-4d14-81f1-f0de6e11a1e4",
      "metadata": {
        "id": "3a5a3e4a-ccfd-4d14-81f1-f0de6e11a1e4",
        "outputId": "f3e5ccc0-81ad-4695-fc0f-e18abb91f613",
        "colab": {
          "base_uri": "https://localhost:8080/"
        }
      },
      "outputs": [
        {
          "output_type": "stream",
          "name": "stdout",
          "text": [
            "==================================\u001b[1m Ai Message \u001b[0m==================================\n",
            "Name: Jamal\n",
            "\n",
            "So you said you were researching Skardu, Pakistan?\n",
            "================================\u001b[1m Human Message \u001b[0m=================================\n",
            "Name: Raheela\n",
            "\n",
            "Yes, I know about Shigar Valley, hot springs , . But what others should I learn about?\n",
            "==================================\u001b[1m Ai Message \u001b[0m==================================\n",
            "\n",
            "Skardu and its surrounding areas offer much more than Shigar Valley and hot springs! To give you a well-rounded picture, consider researching these aspects:\n",
            "\n",
            "**Nature & Landscape:**\n",
            "\n",
            "* **Deosai Plains:**  Often called the \"Roof of the World,\" Deosai is a high-altitude plateau with stunning landscapes, diverse flora and fauna (including endangered species), and opportunities for trekking and camping.  It's a must-see if you're visiting the region.\n",
            "* **Shangrila Resort:** A beautiful resort area nestled in a valley, offering scenic views and a tranquil atmosphere.\n",
            "* **Katpana Desert:** A unique cold desert landscape, a stark contrast to the lush valleys. It's a fascinating place to explore the diverse geography of the region.\n",
            "* **Lakes:**  Besides the lakes in Shigar Valley, research other lakes in the area like Sheosar Lake (near Deosai) and Upper Kachura Lake (also known as Shangrila Lake).\n",
            "* **Mountains:** Skardu is surrounded by the mighty Karakoram Range, offering breathtaking views of towering peaks. Research specific mountains visible from Skardu or those accessible for trekking.\n",
            "\n",
            "\n",
            "**Culture & History:**\n",
            "\n",
            "* **Baltit Fort (Hunza):** While technically not in Skardu, it's a relatively short trip away and a significant historical site worth visiting.  It's a beautiful example of Karakoram architecture.\n",
            "* **Local Culture:**  Learn about the Balti culture, their traditions, clothing, and way of life.  This will enrich your experience and allow for better interaction with the locals.\n",
            "* **Ancient Ruins and Sites:**  Explore if there are any ancient settlements or ruins in the Skardu region that you might be interested in visiting.\n",
            "\n",
            "\n",
            "**Activities:**\n",
            "\n",
            "* **Trekking:**  Numerous trekking opportunities exist, ranging from easy day hikes to challenging multi-day treks in Deosai and other areas.\n",
            "* **Camping:**  Camping under the stars in Deosai or near the lakes is a popular activity.\n",
            "* **Fishing:**  Some lakes offer fishing opportunities.\n",
            "* **Jeep Safaris:** Explore the rugged terrain through jeep safaris, especially in Deosai and the surrounding areas.\n",
            "\n",
            "\n",
            "**Practical Information:**\n",
            "\n",
            "* **Best time to visit:**  Research the best time to visit considering weather conditions and accessibility to different areas.  Deosai, for example, is only accessible during the summer months.\n",
            "* **Accommodation:**  Research accommodation options in Skardu, ranging from budget-friendly guesthouses to more luxurious hotels.\n",
            "* **Transportation:**  Understand the transportation options available to get to Skardu and to move around the region.\n",
            "\n",
            "\n",
            "By researching these aspects, you'll gain a much more comprehensive understanding of Skardu and plan a more enriching and memorable trip. Remember to check for any travel advisories or restrictions before you go.\n"
          ]
        }
      ],
      "source": [
        "output = graph.invoke({'messages': messages})\n",
        "for m in output['messages']:\n",
        "    m.pretty_print()"
      ]
    },
    {
      "cell_type": "markdown",
      "source": [
        "**rm notes**\n",
        "\n",
        "[ Streaming ](https://langchain-ai.github.io/langgraph/concepts/streaming/#streaming-graph-outputs-stream-and-astream)\n",
        "\n",
        "**Streaming LLM tokens and events (`.astream_events`)**\n",
        "\n",
        "The **`.astream_events()`** method streams events in real-time as they occur within nodes, making it useful for tracking LLM token updates. It helps monitor and view these events during the graph's execution."
      ],
      "metadata": {
        "id": "YiAMu-PmalQR"
      },
      "id": "YiAMu-PmalQR"
    },
    {
      "cell_type": "markdown",
      "source": [
        "[RemoveMessage](https://python.langchain.com/api_reference/core/messages/langchain_core.messages.modifier.RemoveMessage.html)\n",
        "\n",
        "RemoveMessage()\n",
        "\n",
        "* id – The ID of the message to remove.\n",
        "\n",
        "* kwargs – Additional fields to pass to the message."
      ],
      "metadata": {
        "id": "ptedAdKIQquD"
      },
      "id": "ptedAdKIQquD"
    },
    {
      "cell_type": "code",
      "source": [
        "async for m in graph.astream_events({'messages': messages}, version=\"v2\"): # The version argument is now correctly passed as a keyword argument.\n",
        "      print(m)\n",
        "      print(\"\\n--------------\\n\")\n",
        "\n",
        "      # on_chain_start : start of a node's ececusion\n",
        "      # on_chain_end : incdicates the completion of nodes's execusion\n",
        "      # on_chain_stream : represent intermediate data or progress updates during a node's ececustion"
      ],
      "metadata": {
        "id": "6M8fuQRUYHHj",
        "outputId": "ff5324d0-3e8e-4821-cead-c448408dd9fb",
        "colab": {
          "base_uri": "https://localhost:8080/"
        }
      },
      "id": "6M8fuQRUYHHj",
      "execution_count": 12,
      "outputs": [
        {
          "output_type": "stream",
          "name": "stdout",
          "text": [
            "{'event': 'on_chain_start', 'data': {'input': {'messages': [AIMessage(content='So you said you were researching Skardu, Pakistan?', additional_kwargs={}, response_metadata={}, name='Jamal', id='363c2ba1-907b-4f3f-b969-64598f5ec962'), HumanMessage(content='Yes, I know about Shigar Valley, hot springs , . But what others should I learn about?', additional_kwargs={}, response_metadata={}, name='Raheela', id='b7fa65ae-5512-4223-8217-51fe72fdca0d')]}}, 'name': 'LangGraph', 'tags': [], 'run_id': 'acaafe2f-8276-471f-9e72-354c2acd2524', 'metadata': {}, 'parent_ids': []}\n",
            "\n",
            "--------------\n",
            "\n",
            "{'event': 'on_chain_start', 'data': {'input': {'messages': [AIMessage(content='So you said you were researching Skardu, Pakistan?', additional_kwargs={}, response_metadata={}, name='Jamal', id='363c2ba1-907b-4f3f-b969-64598f5ec962'), HumanMessage(content='Yes, I know about Shigar Valley, hot springs , . But what others should I learn about?', additional_kwargs={}, response_metadata={}, name='Raheela', id='b7fa65ae-5512-4223-8217-51fe72fdca0d')]}}, 'name': '__start__', 'tags': ['graph:step:0', 'langsmith:hidden', 'langsmith:hidden'], 'run_id': '91423084-02ab-43c9-a9e2-059368c7631e', 'metadata': {'langgraph_step': 0, 'langgraph_node': '__start__', 'langgraph_triggers': ['__start__'], 'langgraph_path': ('__pregel_pull', '__start__'), 'langgraph_checkpoint_ns': '__start__:36964b20-79cb-d7da-1612-37727a32c49c'}, 'parent_ids': ['acaafe2f-8276-471f-9e72-354c2acd2524']}\n",
            "\n",
            "--------------\n",
            "\n",
            "{'event': 'on_chain_end', 'data': {'output': {'messages': [AIMessage(content='So you said you were researching Skardu, Pakistan?', additional_kwargs={}, response_metadata={}, name='Jamal', id='363c2ba1-907b-4f3f-b969-64598f5ec962'), HumanMessage(content='Yes, I know about Shigar Valley, hot springs , . But what others should I learn about?', additional_kwargs={}, response_metadata={}, name='Raheela', id='b7fa65ae-5512-4223-8217-51fe72fdca0d')]}, 'input': {'messages': [AIMessage(content='So you said you were researching Skardu, Pakistan?', additional_kwargs={}, response_metadata={}, name='Jamal', id='363c2ba1-907b-4f3f-b969-64598f5ec962'), HumanMessage(content='Yes, I know about Shigar Valley, hot springs , . But what others should I learn about?', additional_kwargs={}, response_metadata={}, name='Raheela', id='b7fa65ae-5512-4223-8217-51fe72fdca0d')]}}, 'run_id': '91423084-02ab-43c9-a9e2-059368c7631e', 'name': '__start__', 'tags': ['graph:step:0', 'langsmith:hidden', 'langsmith:hidden'], 'metadata': {'langgraph_step': 0, 'langgraph_node': '__start__', 'langgraph_triggers': ['__start__'], 'langgraph_path': ('__pregel_pull', '__start__'), 'langgraph_checkpoint_ns': '__start__:36964b20-79cb-d7da-1612-37727a32c49c'}, 'parent_ids': ['acaafe2f-8276-471f-9e72-354c2acd2524']}\n",
            "\n",
            "--------------\n",
            "\n",
            "{'event': 'on_chain_start', 'data': {'input': {'messages': [AIMessage(content='So you said you were researching Skardu, Pakistan?', additional_kwargs={}, response_metadata={}, name='Jamal', id='363c2ba1-907b-4f3f-b969-64598f5ec962'), HumanMessage(content='Yes, I know about Shigar Valley, hot springs , . But what others should I learn about?', additional_kwargs={}, response_metadata={}, name='Raheela', id='b7fa65ae-5512-4223-8217-51fe72fdca0d')]}}, 'name': 'chat_model', 'tags': ['graph:step:1'], 'run_id': 'd5436bb5-a730-4d27-89c8-a257b6f2e839', 'metadata': {'langgraph_step': 1, 'langgraph_node': 'chat_model', 'langgraph_triggers': ['start:chat_model'], 'langgraph_path': ('__pregel_pull', 'chat_model'), 'langgraph_checkpoint_ns': 'chat_model:1334c963-11ce-31ae-6923-61e21fdb9864'}, 'parent_ids': ['acaafe2f-8276-471f-9e72-354c2acd2524']}\n",
            "\n",
            "--------------\n",
            "\n",
            "{'event': 'on_chain_start', 'data': {'input': {'messages': AIMessage(content=\"Skardu offers much more than Shigar Valley and its hot springs! To give you a well-rounded picture, consider researching these aspects:\\n\\n**Nature & Landscapes:**\\n\\n* **Shangrila Lake:** A stunningly beautiful lake, often compared to a hidden paradise.  Learn about its formation, surrounding scenery, and accessibility.\\n* **Katpana Desert:**  A surprisingly arid desert landscape in the high altitude, a unique contrast to the region's overall mountainous character.  Research its geological formation and unique flora and fauna.\\n* **Deosai Plains:** While not technically *in* Skardu, it's very close and a must-see. Learn about its high-altitude meadows, wildlife (especially the endangered snow leopard), and the best time to visit.\\n* **Various Trekking Routes:**  Skardu is a trekking paradise. Research trails based on your fitness level and desired difficulty.  Look into treks to Concordia, Baltoro Glacier, or other less-known but equally rewarding options.\\n* **Glaciers:** Besides Baltoro, research other glaciers in the region and their significance.\\n\\n**Culture & History:**\\n\\n* **Skardu Fort (Kharpocho Fort):** Learn about its history, architecture, and its role in the region's past.\\n* **Local Culture & Traditions:**  Research the Balti culture, their unique language, clothing, food, and customs.\\n* **Ancient Buddhist Sites:**  There may be remnants of ancient Buddhist history in the area; research if any are accessible to visitors.\\n* **Local Crafts & Handicrafts:** Find out about traditional crafts like woodwork, pottery, or textiles produced in the region.\\n\\n**Practical Information:**\\n\\n* **Best time to visit:** Skardu's weather can be extreme. Research the ideal time to visit based on your preferences and planned activities.\\n* **Accessibility & Transportation:** How to get to Skardu (flights, roads, etc.) and how to move around within the region.\\n* **Accommodation:** Research your accommodation options ranging from budget-friendly guesthouses to more luxurious options.\\n* **Permits & Regulations:**  Find out about any permits required for trekking or visiting specific areas.\\n\\nBy researching these points, you'll gain a much more comprehensive understanding of Skardu beyond the well-known attractions. Remember to use reputable sources and cross-reference information to ensure accuracy.  Enjoy your research and your future trip!\\n\", additional_kwargs={}, response_metadata={'prompt_feedback': {'block_reason': 0, 'safety_ratings': []}, 'finish_reason': 'STOP', 'safety_ratings': []}, id='run-4f55913e-334b-48a8-9ef8-005812eb438b-0', usage_metadata={'input_tokens': 34, 'output_tokens': 500, 'total_tokens': 534, 'input_token_details': {'cache_read': 0}})}}, 'name': '_write', 'tags': ['seq:step:2', 'langsmith:hidden'], 'run_id': 'dc29f572-95a3-4350-8239-97502146df2e', 'metadata': {'langgraph_step': 1, 'langgraph_node': 'chat_model', 'langgraph_triggers': ['start:chat_model'], 'langgraph_path': ('__pregel_pull', 'chat_model'), 'langgraph_checkpoint_ns': 'chat_model:1334c963-11ce-31ae-6923-61e21fdb9864'}, 'parent_ids': ['acaafe2f-8276-471f-9e72-354c2acd2524', 'd5436bb5-a730-4d27-89c8-a257b6f2e839']}\n",
            "\n",
            "--------------\n",
            "\n",
            "{'event': 'on_chain_end', 'data': {'output': {'messages': AIMessage(content=\"Skardu offers much more than Shigar Valley and its hot springs! To give you a well-rounded picture, consider researching these aspects:\\n\\n**Nature & Landscapes:**\\n\\n* **Shangrila Lake:** A stunningly beautiful lake, often compared to a hidden paradise.  Learn about its formation, surrounding scenery, and accessibility.\\n* **Katpana Desert:**  A surprisingly arid desert landscape in the high altitude, a unique contrast to the region's overall mountainous character.  Research its geological formation and unique flora and fauna.\\n* **Deosai Plains:** While not technically *in* Skardu, it's very close and a must-see. Learn about its high-altitude meadows, wildlife (especially the endangered snow leopard), and the best time to visit.\\n* **Various Trekking Routes:**  Skardu is a trekking paradise. Research trails based on your fitness level and desired difficulty.  Look into treks to Concordia, Baltoro Glacier, or other less-known but equally rewarding options.\\n* **Glaciers:** Besides Baltoro, research other glaciers in the region and their significance.\\n\\n**Culture & History:**\\n\\n* **Skardu Fort (Kharpocho Fort):** Learn about its history, architecture, and its role in the region's past.\\n* **Local Culture & Traditions:**  Research the Balti culture, their unique language, clothing, food, and customs.\\n* **Ancient Buddhist Sites:**  There may be remnants of ancient Buddhist history in the area; research if any are accessible to visitors.\\n* **Local Crafts & Handicrafts:** Find out about traditional crafts like woodwork, pottery, or textiles produced in the region.\\n\\n**Practical Information:**\\n\\n* **Best time to visit:** Skardu's weather can be extreme. Research the ideal time to visit based on your preferences and planned activities.\\n* **Accessibility & Transportation:** How to get to Skardu (flights, roads, etc.) and how to move around within the region.\\n* **Accommodation:** Research your accommodation options ranging from budget-friendly guesthouses to more luxurious options.\\n* **Permits & Regulations:**  Find out about any permits required for trekking or visiting specific areas.\\n\\nBy researching these points, you'll gain a much more comprehensive understanding of Skardu beyond the well-known attractions. Remember to use reputable sources and cross-reference information to ensure accuracy.  Enjoy your research and your future trip!\\n\", additional_kwargs={}, response_metadata={'prompt_feedback': {'block_reason': 0, 'safety_ratings': []}, 'finish_reason': 'STOP', 'safety_ratings': []}, id='run-4f55913e-334b-48a8-9ef8-005812eb438b-0', usage_metadata={'input_tokens': 34, 'output_tokens': 500, 'total_tokens': 534, 'input_token_details': {'cache_read': 0}})}, 'input': {'messages': AIMessage(content=\"Skardu offers much more than Shigar Valley and its hot springs! To give you a well-rounded picture, consider researching these aspects:\\n\\n**Nature & Landscapes:**\\n\\n* **Shangrila Lake:** A stunningly beautiful lake, often compared to a hidden paradise.  Learn about its formation, surrounding scenery, and accessibility.\\n* **Katpana Desert:**  A surprisingly arid desert landscape in the high altitude, a unique contrast to the region's overall mountainous character.  Research its geological formation and unique flora and fauna.\\n* **Deosai Plains:** While not technically *in* Skardu, it's very close and a must-see. Learn about its high-altitude meadows, wildlife (especially the endangered snow leopard), and the best time to visit.\\n* **Various Trekking Routes:**  Skardu is a trekking paradise. Research trails based on your fitness level and desired difficulty.  Look into treks to Concordia, Baltoro Glacier, or other less-known but equally rewarding options.\\n* **Glaciers:** Besides Baltoro, research other glaciers in the region and their significance.\\n\\n**Culture & History:**\\n\\n* **Skardu Fort (Kharpocho Fort):** Learn about its history, architecture, and its role in the region's past.\\n* **Local Culture & Traditions:**  Research the Balti culture, their unique language, clothing, food, and customs.\\n* **Ancient Buddhist Sites:**  There may be remnants of ancient Buddhist history in the area; research if any are accessible to visitors.\\n* **Local Crafts & Handicrafts:** Find out about traditional crafts like woodwork, pottery, or textiles produced in the region.\\n\\n**Practical Information:**\\n\\n* **Best time to visit:** Skardu's weather can be extreme. Research the ideal time to visit based on your preferences and planned activities.\\n* **Accessibility & Transportation:** How to get to Skardu (flights, roads, etc.) and how to move around within the region.\\n* **Accommodation:** Research your accommodation options ranging from budget-friendly guesthouses to more luxurious options.\\n* **Permits & Regulations:**  Find out about any permits required for trekking or visiting specific areas.\\n\\nBy researching these points, you'll gain a much more comprehensive understanding of Skardu beyond the well-known attractions. Remember to use reputable sources and cross-reference information to ensure accuracy.  Enjoy your research and your future trip!\\n\", additional_kwargs={}, response_metadata={'prompt_feedback': {'block_reason': 0, 'safety_ratings': []}, 'finish_reason': 'STOP', 'safety_ratings': []}, id='run-4f55913e-334b-48a8-9ef8-005812eb438b-0', usage_metadata={'input_tokens': 34, 'output_tokens': 500, 'total_tokens': 534, 'input_token_details': {'cache_read': 0}})}}, 'run_id': 'dc29f572-95a3-4350-8239-97502146df2e', 'name': '_write', 'tags': ['seq:step:2', 'langsmith:hidden'], 'metadata': {'langgraph_step': 1, 'langgraph_node': 'chat_model', 'langgraph_triggers': ['start:chat_model'], 'langgraph_path': ('__pregel_pull', 'chat_model'), 'langgraph_checkpoint_ns': 'chat_model:1334c963-11ce-31ae-6923-61e21fdb9864'}, 'parent_ids': ['acaafe2f-8276-471f-9e72-354c2acd2524', 'd5436bb5-a730-4d27-89c8-a257b6f2e839']}\n",
            "\n",
            "--------------\n",
            "\n",
            "{'event': 'on_chain_stream', 'run_id': 'd5436bb5-a730-4d27-89c8-a257b6f2e839', 'name': 'chat_model', 'tags': ['graph:step:1'], 'metadata': {'langgraph_step': 1, 'langgraph_node': 'chat_model', 'langgraph_triggers': ['start:chat_model'], 'langgraph_path': ('__pregel_pull', 'chat_model'), 'langgraph_checkpoint_ns': 'chat_model:1334c963-11ce-31ae-6923-61e21fdb9864'}, 'data': {'chunk': {'messages': AIMessage(content=\"Skardu offers much more than Shigar Valley and its hot springs! To give you a well-rounded picture, consider researching these aspects:\\n\\n**Nature & Landscapes:**\\n\\n* **Shangrila Lake:** A stunningly beautiful lake, often compared to a hidden paradise.  Learn about its formation, surrounding scenery, and accessibility.\\n* **Katpana Desert:**  A surprisingly arid desert landscape in the high altitude, a unique contrast to the region's overall mountainous character.  Research its geological formation and unique flora and fauna.\\n* **Deosai Plains:** While not technically *in* Skardu, it's very close and a must-see. Learn about its high-altitude meadows, wildlife (especially the endangered snow leopard), and the best time to visit.\\n* **Various Trekking Routes:**  Skardu is a trekking paradise. Research trails based on your fitness level and desired difficulty.  Look into treks to Concordia, Baltoro Glacier, or other less-known but equally rewarding options.\\n* **Glaciers:** Besides Baltoro, research other glaciers in the region and their significance.\\n\\n**Culture & History:**\\n\\n* **Skardu Fort (Kharpocho Fort):** Learn about its history, architecture, and its role in the region's past.\\n* **Local Culture & Traditions:**  Research the Balti culture, their unique language, clothing, food, and customs.\\n* **Ancient Buddhist Sites:**  There may be remnants of ancient Buddhist history in the area; research if any are accessible to visitors.\\n* **Local Crafts & Handicrafts:** Find out about traditional crafts like woodwork, pottery, or textiles produced in the region.\\n\\n**Practical Information:**\\n\\n* **Best time to visit:** Skardu's weather can be extreme. Research the ideal time to visit based on your preferences and planned activities.\\n* **Accessibility & Transportation:** How to get to Skardu (flights, roads, etc.) and how to move around within the region.\\n* **Accommodation:** Research your accommodation options ranging from budget-friendly guesthouses to more luxurious options.\\n* **Permits & Regulations:**  Find out about any permits required for trekking or visiting specific areas.\\n\\nBy researching these points, you'll gain a much more comprehensive understanding of Skardu beyond the well-known attractions. Remember to use reputable sources and cross-reference information to ensure accuracy.  Enjoy your research and your future trip!\\n\", additional_kwargs={}, response_metadata={'prompt_feedback': {'block_reason': 0, 'safety_ratings': []}, 'finish_reason': 'STOP', 'safety_ratings': []}, id='run-4f55913e-334b-48a8-9ef8-005812eb438b-0', usage_metadata={'input_tokens': 34, 'output_tokens': 500, 'total_tokens': 534, 'input_token_details': {'cache_read': 0}})}}, 'parent_ids': ['acaafe2f-8276-471f-9e72-354c2acd2524']}\n",
            "\n",
            "--------------\n",
            "\n",
            "{'event': 'on_chain_end', 'data': {'output': {'messages': AIMessage(content=\"Skardu offers much more than Shigar Valley and its hot springs! To give you a well-rounded picture, consider researching these aspects:\\n\\n**Nature & Landscapes:**\\n\\n* **Shangrila Lake:** A stunningly beautiful lake, often compared to a hidden paradise.  Learn about its formation, surrounding scenery, and accessibility.\\n* **Katpana Desert:**  A surprisingly arid desert landscape in the high altitude, a unique contrast to the region's overall mountainous character.  Research its geological formation and unique flora and fauna.\\n* **Deosai Plains:** While not technically *in* Skardu, it's very close and a must-see. Learn about its high-altitude meadows, wildlife (especially the endangered snow leopard), and the best time to visit.\\n* **Various Trekking Routes:**  Skardu is a trekking paradise. Research trails based on your fitness level and desired difficulty.  Look into treks to Concordia, Baltoro Glacier, or other less-known but equally rewarding options.\\n* **Glaciers:** Besides Baltoro, research other glaciers in the region and their significance.\\n\\n**Culture & History:**\\n\\n* **Skardu Fort (Kharpocho Fort):** Learn about its history, architecture, and its role in the region's past.\\n* **Local Culture & Traditions:**  Research the Balti culture, their unique language, clothing, food, and customs.\\n* **Ancient Buddhist Sites:**  There may be remnants of ancient Buddhist history in the area; research if any are accessible to visitors.\\n* **Local Crafts & Handicrafts:** Find out about traditional crafts like woodwork, pottery, or textiles produced in the region.\\n\\n**Practical Information:**\\n\\n* **Best time to visit:** Skardu's weather can be extreme. Research the ideal time to visit based on your preferences and planned activities.\\n* **Accessibility & Transportation:** How to get to Skardu (flights, roads, etc.) and how to move around within the region.\\n* **Accommodation:** Research your accommodation options ranging from budget-friendly guesthouses to more luxurious options.\\n* **Permits & Regulations:**  Find out about any permits required for trekking or visiting specific areas.\\n\\nBy researching these points, you'll gain a much more comprehensive understanding of Skardu beyond the well-known attractions. Remember to use reputable sources and cross-reference information to ensure accuracy.  Enjoy your research and your future trip!\\n\", additional_kwargs={}, response_metadata={'prompt_feedback': {'block_reason': 0, 'safety_ratings': []}, 'finish_reason': 'STOP', 'safety_ratings': []}, id='run-4f55913e-334b-48a8-9ef8-005812eb438b-0', usage_metadata={'input_tokens': 34, 'output_tokens': 500, 'total_tokens': 534, 'input_token_details': {'cache_read': 0}})}, 'input': {'messages': [AIMessage(content='So you said you were researching Skardu, Pakistan?', additional_kwargs={}, response_metadata={}, name='Jamal', id='363c2ba1-907b-4f3f-b969-64598f5ec962'), HumanMessage(content='Yes, I know about Shigar Valley, hot springs , . But what others should I learn about?', additional_kwargs={}, response_metadata={}, name='Raheela', id='b7fa65ae-5512-4223-8217-51fe72fdca0d')]}}, 'run_id': 'd5436bb5-a730-4d27-89c8-a257b6f2e839', 'name': 'chat_model', 'tags': ['graph:step:1'], 'metadata': {'langgraph_step': 1, 'langgraph_node': 'chat_model', 'langgraph_triggers': ['start:chat_model'], 'langgraph_path': ('__pregel_pull', 'chat_model'), 'langgraph_checkpoint_ns': 'chat_model:1334c963-11ce-31ae-6923-61e21fdb9864'}, 'parent_ids': ['acaafe2f-8276-471f-9e72-354c2acd2524']}\n",
            "\n",
            "--------------\n",
            "\n",
            "{'event': 'on_chain_stream', 'run_id': 'acaafe2f-8276-471f-9e72-354c2acd2524', 'name': 'LangGraph', 'tags': [], 'metadata': {}, 'data': {'chunk': {'chat_model': {'messages': AIMessage(content=\"Skardu offers much more than Shigar Valley and its hot springs! To give you a well-rounded picture, consider researching these aspects:\\n\\n**Nature & Landscapes:**\\n\\n* **Shangrila Lake:** A stunningly beautiful lake, often compared to a hidden paradise.  Learn about its formation, surrounding scenery, and accessibility.\\n* **Katpana Desert:**  A surprisingly arid desert landscape in the high altitude, a unique contrast to the region's overall mountainous character.  Research its geological formation and unique flora and fauna.\\n* **Deosai Plains:** While not technically *in* Skardu, it's very close and a must-see. Learn about its high-altitude meadows, wildlife (especially the endangered snow leopard), and the best time to visit.\\n* **Various Trekking Routes:**  Skardu is a trekking paradise. Research trails based on your fitness level and desired difficulty.  Look into treks to Concordia, Baltoro Glacier, or other less-known but equally rewarding options.\\n* **Glaciers:** Besides Baltoro, research other glaciers in the region and their significance.\\n\\n**Culture & History:**\\n\\n* **Skardu Fort (Kharpocho Fort):** Learn about its history, architecture, and its role in the region's past.\\n* **Local Culture & Traditions:**  Research the Balti culture, their unique language, clothing, food, and customs.\\n* **Ancient Buddhist Sites:**  There may be remnants of ancient Buddhist history in the area; research if any are accessible to visitors.\\n* **Local Crafts & Handicrafts:** Find out about traditional crafts like woodwork, pottery, or textiles produced in the region.\\n\\n**Practical Information:**\\n\\n* **Best time to visit:** Skardu's weather can be extreme. Research the ideal time to visit based on your preferences and planned activities.\\n* **Accessibility & Transportation:** How to get to Skardu (flights, roads, etc.) and how to move around within the region.\\n* **Accommodation:** Research your accommodation options ranging from budget-friendly guesthouses to more luxurious options.\\n* **Permits & Regulations:**  Find out about any permits required for trekking or visiting specific areas.\\n\\nBy researching these points, you'll gain a much more comprehensive understanding of Skardu beyond the well-known attractions. Remember to use reputable sources and cross-reference information to ensure accuracy.  Enjoy your research and your future trip!\\n\", additional_kwargs={}, response_metadata={'prompt_feedback': {'block_reason': 0, 'safety_ratings': []}, 'finish_reason': 'STOP', 'safety_ratings': []}, id='run-4f55913e-334b-48a8-9ef8-005812eb438b-0', usage_metadata={'input_tokens': 34, 'output_tokens': 500, 'total_tokens': 534, 'input_token_details': {'cache_read': 0}})}}}, 'parent_ids': []}\n",
            "\n",
            "--------------\n",
            "\n",
            "{'event': 'on_chain_end', 'data': {'output': {'messages': [AIMessage(content='So you said you were researching Skardu, Pakistan?', additional_kwargs={}, response_metadata={}, name='Jamal', id='363c2ba1-907b-4f3f-b969-64598f5ec962'), HumanMessage(content='Yes, I know about Shigar Valley, hot springs , . But what others should I learn about?', additional_kwargs={}, response_metadata={}, name='Raheela', id='b7fa65ae-5512-4223-8217-51fe72fdca0d'), AIMessage(content=\"Skardu offers much more than Shigar Valley and its hot springs! To give you a well-rounded picture, consider researching these aspects:\\n\\n**Nature & Landscapes:**\\n\\n* **Shangrila Lake:** A stunningly beautiful lake, often compared to a hidden paradise.  Learn about its formation, surrounding scenery, and accessibility.\\n* **Katpana Desert:**  A surprisingly arid desert landscape in the high altitude, a unique contrast to the region's overall mountainous character.  Research its geological formation and unique flora and fauna.\\n* **Deosai Plains:** While not technically *in* Skardu, it's very close and a must-see. Learn about its high-altitude meadows, wildlife (especially the endangered snow leopard), and the best time to visit.\\n* **Various Trekking Routes:**  Skardu is a trekking paradise. Research trails based on your fitness level and desired difficulty.  Look into treks to Concordia, Baltoro Glacier, or other less-known but equally rewarding options.\\n* **Glaciers:** Besides Baltoro, research other glaciers in the region and their significance.\\n\\n**Culture & History:**\\n\\n* **Skardu Fort (Kharpocho Fort):** Learn about its history, architecture, and its role in the region's past.\\n* **Local Culture & Traditions:**  Research the Balti culture, their unique language, clothing, food, and customs.\\n* **Ancient Buddhist Sites:**  There may be remnants of ancient Buddhist history in the area; research if any are accessible to visitors.\\n* **Local Crafts & Handicrafts:** Find out about traditional crafts like woodwork, pottery, or textiles produced in the region.\\n\\n**Practical Information:**\\n\\n* **Best time to visit:** Skardu's weather can be extreme. Research the ideal time to visit based on your preferences and planned activities.\\n* **Accessibility & Transportation:** How to get to Skardu (flights, roads, etc.) and how to move around within the region.\\n* **Accommodation:** Research your accommodation options ranging from budget-friendly guesthouses to more luxurious options.\\n* **Permits & Regulations:**  Find out about any permits required for trekking or visiting specific areas.\\n\\nBy researching these points, you'll gain a much more comprehensive understanding of Skardu beyond the well-known attractions. Remember to use reputable sources and cross-reference information to ensure accuracy.  Enjoy your research and your future trip!\\n\", additional_kwargs={}, response_metadata={'prompt_feedback': {'block_reason': 0, 'safety_ratings': []}, 'finish_reason': 'STOP', 'safety_ratings': []}, id='run-4f55913e-334b-48a8-9ef8-005812eb438b-0', usage_metadata={'input_tokens': 34, 'output_tokens': 500, 'total_tokens': 534, 'input_token_details': {'cache_read': 0}})]}}, 'run_id': 'acaafe2f-8276-471f-9e72-354c2acd2524', 'name': 'LangGraph', 'tags': [], 'metadata': {}, 'parent_ids': []}\n",
            "\n",
            "--------------\n",
            "\n"
          ]
        }
      ]
    },
    {
      "cell_type": "markdown",
      "id": "34c33e63-1ef4-412d-bb10-6a1b9e5b35a7",
      "metadata": {
        "id": "34c33e63-1ef4-412d-bb10-6a1b9e5b35a7"
      },
      "source": [
        "## Reducer\n",
        "\n",
        "A practical challenge when working with messages is managing long-running conversations.\n",
        "\n",
        "Long-running conversations result in high token usage and latency if we are not careful, because we pass a growing list of messages to the model.\n",
        "\n",
        "We have a few ways to address this.\n",
        "\n",
        "First, recall the trick we saw using `RemoveMessage` and the `add_messages` reducer."
      ]
    },
    {
      "cell_type": "markdown",
      "source": [
        "### Removal\n",
        "\n",
        "`add_messages` also [enables message removal](https://langchain-ai.github.io/langgraph/how-tos/memory/delete-messages/).\n",
        "\n",
        "For this, we simply use [RemoveMessage](https://api.python.langchain.com/en/latest/messages/langchain_core.messages.modifier.RemoveMessage.html) from `langchain_core`."
      ],
      "metadata": {
        "id": "UCQKNqYuUQKd"
      },
      "id": "UCQKNqYuUQKd"
    },
    {
      "cell_type": "markdown",
      "source": [
        "**rm notes**\n",
        "\n",
        "Isolate messages to delete\n",
        "**`delete_messages = [RemoveMessage(id=m.id) for m in messages[:-2]]`**\n",
        "\n",
        "\n",
        "```bash\n",
        "def filter_messages(state: MessagesState):\n",
        "    # Delete all but the 2 most recent messages\n",
        "    delete_messages = [RemoveMessage(id=m.id) for m in state[\"messages\"][:-2]]\n",
        "    return {\"messages\": delete_messages}\n",
        "```\n",
        "\n",
        "Through slicing get last 2 message\n",
        "**`state[\"messages\"][:-2]`**\n",
        "\n",
        "save last 2 messages in messages\n",
        "**`return {\"messages\": delete_messages}`**\n",
        "\n",
        "\n"
      ],
      "metadata": {
        "id": "GGaVbf-ROYs9"
      },
      "id": "GGaVbf-ROYs9"
    },
    {
      "cell_type": "code",
      "execution_count": 13,
      "id": "222c6bc5-bb0e-4a43-80f5-c8ec38d99f3a",
      "metadata": {
        "id": "222c6bc5-bb0e-4a43-80f5-c8ec38d99f3a",
        "outputId": "cecacae6-bb4d-4c55-8577-2c4d61fa632d",
        "colab": {
          "base_uri": "https://localhost:8080/",
          "height": 350
        }
      },
      "outputs": [
        {
          "output_type": "display_data",
          "data": {
            "image/png": "[encoded data removed]",
            "text/plain": [
              "<IPython.core.display.Image object>"
            ]
          },
          "metadata": {}
        }
      ],
      "source": [
        "from langchain_core.messages import RemoveMessage\n",
        "from langgraph.graph import MessagesState\n",
        "\n",
        "# Nodes\n",
        "def filter_messages(state: MessagesState):\n",
        "    # Delete all but the 2 most recent messages\n",
        "    delete_messages = [RemoveMessage(id=m.id) for m in state[\"messages\"][:-2]]\n",
        "    return {\"messages\": delete_messages}\n",
        "\n",
        "def chat_model_node(state: MessagesState):\n",
        "    return {\"messages\": [llm.invoke(state[\"messages\"])]}\n",
        "\n",
        "# Build graph\n",
        "builder = StateGraph(MessagesState)\n",
        "\n",
        "builder.add_node(\"filter\", filter_messages)\n",
        "builder.add_node(\"chat_model\", chat_model_node)\n",
        "\n",
        "builder.add_edge(START, \"filter\")\n",
        "builder.add_edge(\"filter\", \"chat_model\")\n",
        "builder.add_edge(\"chat_model\", END)\n",
        "\n",
        "graph = builder.compile()\n",
        "\n",
        "# View\n",
        "display(Image(graph.get_graph().draw_mermaid_png()))"
      ]
    },
    {
      "cell_type": "code",
      "execution_count": 25,
      "id": "95a7c2cc-54ce-43e7-9a90-abf37827d709",
      "metadata": {
        "id": "95a7c2cc-54ce-43e7-9a90-abf37827d709",
        "outputId": "a61578f8-b3fa-4d62-b339-daeb1dafbffc",
        "colab": {
          "base_uri": "https://localhost:8080/"
        }
      },
      "outputs": [
        {
          "output_type": "stream",
          "name": "stdout",
          "text": [
            "==================================\u001b[1m Ai Message \u001b[0m==================================\n",
            "Name: Jamal\n",
            "\n",
            "So you said you were researching Skardu, Pakistan?\n",
            "================================\u001b[1m Human Message \u001b[0m=================================\n",
            "Name: Raheela\n",
            "\n",
            "Yes, I know about Shigar Valley, hot springs. But what others should I learn about?\n",
            "==================================\u001b[1m Ai Message \u001b[0m==================================\n",
            "\n",
            "Excellent! Shigar Valley and its hot springs are definitely highlights of Skardu. To round out your knowledge, consider learning more about these aspects:\n",
            "\n",
            "**Nature & Scenery:**\n",
            "\n",
            "* **Shangrila Lake:** A stunningly beautiful lake, often photographed and a popular tourist destination.  Learn about its formation, the surrounding landscape, and any activities available there (boating, etc.).\n",
            "* **Katpana Desert:**  A surprisingly arid desert landscape nestled amidst the mountains.  Understand its unique geographical location and how it contrasts with the surrounding region.\n",
            "* **Deosai Plains:** While technically not directly in Skardu (it's accessible from there), Deosai is a must-know. Learn about its high-altitude beauty, the wildlife (especially the endangered snow leopard), and the best time to visit.\n",
            "* **K2 Base Camp Trek:**  While a significant undertaking, Skardu is a common starting point for treks to K2 Base Camp. Understanding the trek's difficulty, duration, and required preparations is valuable, even if you don't plan to do it.\n",
            "* **Specific trekking routes:** Besides K2 Base Camp, research other shorter and easier treks around Skardu.  Many valleys offer stunning views and opportunities for hiking.\n",
            "\n",
            "**Culture & History:**\n",
            "\n",
            "* **Skardu Fort (Kharpocho Fort):** Learn about its history, architecture, and significance in the region.\n",
            "* **Local culture and traditions:** Research the Balti culture, their unique clothing, customs, and festivals.\n",
            "* **Ancient settlements and ruins:** Explore if there are any lesser-known historical sites or ruins near Skardu that you might find interesting.\n",
            "* **Local handicrafts:** What kind of crafts are produced in the region?  Are there opportunities to visit workshops or purchase locally made items?\n",
            "\n",
            "**Practical Information:**\n",
            "\n",
            "* **Best time to visit:** Skardu's weather varies greatly throughout the year.  Understanding the best seasons for specific activities is crucial.\n",
            "* **Accessibility:** How easy is it to reach Skardu? What transportation options are available?\n",
            "* **Accommodation:** What types of lodging are available, ranging from budget-friendly to luxury options?\n",
            "* **Permits and regulations:** Are there any permits required for trekking or visiting specific areas?\n",
            "\n",
            "\n",
            "By exploring these areas, you'll gain a much richer understanding of Skardu beyond just the Shigar Valley and hot springs. Remember to look for reputable sources, travel blogs, and potentially even contact local tourism boards for the most up-to-date information.\n"
          ]
        }
      ],
      "source": [
        "# Message list with a preamble\n",
        "messages = [AIMessage(\"Hi.\", name=\"Jamal\", id=\"1\")]\n",
        "messages.append(HumanMessage(\"Hi.\", name=\"Raheela\", id=\"2\"))\n",
        "messages.append(AIMessage(\"So you said you were researching Skardu, Pakistan?\", name=\"Jamal\", id=\"3\"))\n",
        "messages.append(HumanMessage(\"Yes, I know about Shigar Valley, hot springs. But what others should I learn about?\", name=\"Raheela\", id=\"4\"))\n",
        "\n",
        "# Invoke\n",
        "output = graph.invoke({'messages': messages})\n",
        "for m in output['messages']:\n",
        "    m.pretty_print()"
      ]
    },
    {
      "cell_type": "markdown",
      "id": "f506457d-014b-4fee-a684-e5edfb4b8f0d",
      "metadata": {
        "id": "f506457d-014b-4fee-a684-e5edfb4b8f0d"
      },
      "source": [
        "## Filtering messages\n",
        "\n",
        "If you don't need or want to modify the graph state, you can just filter the messages you pass to the chat model.\n",
        "\n",
        "For example, just pass in a filtered list: `llm.invoke(messages[-1:])` to the model."
      ]
    },
    {
      "cell_type": "code",
      "execution_count": null,
      "id": "22d0b904-7cd6-486b-8948-105bee3d4683",
      "metadata": {
        "id": "22d0b904-7cd6-486b-8948-105bee3d4683",
        "outputId": "9d77e9a1-749e-43cc-e505-260977b7a131"
      },
      "outputs": [
        {
          "data": {
            "image/jpeg": "[encoded data removed]",
            "text/plain": [
              "<IPython.core.display.Image object>"
            ]
          },
          "metadata": {},
          "output_type": "display_data"
        }
      ],
      "source": [
        "# Node\n",
        "def chat_model_node(state: MessagesState):\n",
        "    return {\"messages\": [llm.invoke(state[\"messages\"][-1:])]}\n",
        "\n",
        "# Build graph\n",
        "builder = StateGraph(MessagesState)\n",
        "builder.add_node(\"chat_model\", chat_model_node)\n",
        "builder.add_edge(START, \"chat_model\")\n",
        "builder.add_edge(\"chat_model\", END)\n",
        "graph = builder.compile()\n",
        "\n",
        "# View\n",
        "display(Image(graph.get_graph().draw_mermaid_png()))"
      ]
    },
    {
      "cell_type": "markdown",
      "id": "6f58c6fc-532f-418d-b70a-cfcb3307daf5",
      "metadata": {
        "id": "6f58c6fc-532f-418d-b70a-cfcb3307daf5"
      },
      "source": [
        "Let's take our existing list of messages, append the above LLM response, and append a follow-up question."
      ]
    },
    {
      "cell_type": "code",
      "execution_count": null,
      "id": "16956015-1dbe-4108-89b5-4209b68b51ca",
      "metadata": {
        "id": "16956015-1dbe-4108-89b5-4209b68b51ca"
      },
      "outputs": [],
      "source": [
        "messages.append(output['messages'][-1])\n",
        "messages.append(HumanMessage(f\"Tell me more about Narwhals!\", name=\"Lance\"))"
      ]
    },
    {
      "cell_type": "code",
      "execution_count": null,
      "id": "85563415-c085-46a8-a4ac-155df798c54e",
      "metadata": {
        "id": "85563415-c085-46a8-a4ac-155df798c54e",
        "outputId": "70e72a08-1fd6-4fbf-c8e0-30394047855b"
      },
      "outputs": [
        {
          "name": "stdout",
          "output_type": "stream",
          "text": [
            "==================================\u001b[1m Ai Message \u001b[0m==================================\n",
            "Name: Bot\n",
            "\n",
            "Hi.\n",
            "================================\u001b[1m Human Message \u001b[0m=================================\n",
            "Name: Lance\n",
            "\n",
            "Hi.\n",
            "==================================\u001b[1m Ai Message \u001b[0m==================================\n",
            "Name: Bot\n",
            "\n",
            "So you said you were researching ocean mammals?\n",
            "================================\u001b[1m Human Message \u001b[0m=================================\n",
            "Name: Lance\n",
            "\n",
            "Yes, I know about whales. But what others should I learn about?\n",
            "==================================\u001b[1m Ai Message \u001b[0m==================================\n",
            "\n",
            "That's great that you know about whales! There are many other fascinating ocean mammals you can learn about. Here are a few:\n",
            "\n",
            "1. **Dolphins**: Highly intelligent and social animals, dolphins are known for their playful behavior and sophisticated communication skills. There are many species of dolphins, including the well-known bottlenose dolphin.\n",
            "\n",
            "2. **Porpoises**: Often confused with dolphins, porpoises are smaller and have different body shapes and teeth. They are generally more reclusive and less acrobatic than dolphins.\n",
            "\n",
            "3. **Seals**: Seals are part of the pinniped family, which also includes sea lions and walruses. They have streamlined bodies and flippers, making them excellent swimmers. Common types of seals include harbor seals and elephant seals.\n",
            "\n",
            "4. **Sea Lions**: Similar to seals but with some key differences, sea lions have external ear flaps and can rotate their hind flippers to walk on land. They are also very social and often gather in large groups.\n",
            "\n",
            "5. **Walruses**: Recognizable by their long tusks and whiskers, walruses are large marine mammals that are found in Arctic regions. They use their tusks to help them climb out of the water and to break through ice.\n",
            "\n",
            "6. **Manatees and Dugongs**: These gentle giants are often referred to as sea cows. Manatees are found in the Atlantic Ocean, while dugongs are found in the Indian and Pacific Oceans. They are herbivores and spend most of their time grazing on underwater vegetation.\n",
            "\n",
            "7. **Sea Otters**: Known for their playful behavior and use of tools, sea otters are an important part of the marine ecosystem. They have thick fur to keep them warm in cold waters and are often seen floating on their backs.\n",
            "\n",
            "8. **Polar Bears**: While not exclusively marine, polar bears spend a significant amount of time in the ocean, particularly in Arctic regions. They are excellent swimmers and rely on sea ice to hunt seals, their primary food source.\n",
            "\n",
            "9. **Narwhals**: Often called the \"unicorns of the sea,\" narwhals have a long, spiral tusk that is actually an elongated tooth. They are found in Arctic waters and are known for their deep diving abilities.\n",
            "\n",
            "10. **Orcas (Killer Whales)**: Though they are technically a type of dolphin, orcas are often considered separately due to their size and distinctive black-and-white coloring. They are apex predators and have complex social structures.\n",
            "\n",
            "Each of these ocean mammals has unique behaviors, adaptations, and ecological roles, making them fascinating subjects for study.\n",
            "================================\u001b[1m Human Message \u001b[0m=================================\n",
            "Name: Lance\n",
            "\n",
            "Tell me more about Narwhals!\n"
          ]
        }
      ],
      "source": [
        "for m in messages:\n",
        "    m.pretty_print()"
      ]
    },
    {
      "cell_type": "code",
      "execution_count": null,
      "id": "23349705-a059-47b5-9760-d8f64e687393",
      "metadata": {
        "id": "23349705-a059-47b5-9760-d8f64e687393",
        "outputId": "f734f247-7e85-40d3-8bed-5a6b7dada13f"
      },
      "outputs": [
        {
          "name": "stdout",
          "output_type": "stream",
          "text": [
            "==================================\u001b[1m Ai Message \u001b[0m==================================\n",
            "Name: Bot\n",
            "\n",
            "Hi.\n",
            "================================\u001b[1m Human Message \u001b[0m=================================\n",
            "Name: Lance\n",
            "\n",
            "Hi.\n",
            "==================================\u001b[1m Ai Message \u001b[0m==================================\n",
            "Name: Bot\n",
            "\n",
            "So you said you were researching ocean mammals?\n",
            "================================\u001b[1m Human Message \u001b[0m=================================\n",
            "Name: Lance\n",
            "\n",
            "Yes, I know about whales. But what others should I learn about?\n",
            "==================================\u001b[1m Ai Message \u001b[0m==================================\n",
            "\n",
            "That's great that you know about whales! There are many other fascinating ocean mammals you can learn about. Here are a few:\n",
            "\n",
            "1. **Dolphins**: Highly intelligent and social animals, dolphins are known for their playful behavior and sophisticated communication skills. There are many species of dolphins, including the well-known bottlenose dolphin.\n",
            "\n",
            "2. **Porpoises**: Often confused with dolphins, porpoises are smaller and have different body shapes and teeth. They are generally more reclusive and less acrobatic than dolphins.\n",
            "\n",
            "3. **Seals**: Seals are part of the pinniped family, which also includes sea lions and walruses. They have streamlined bodies and flippers, making them excellent swimmers. Common types of seals include harbor seals and elephant seals.\n",
            "\n",
            "4. **Sea Lions**: Similar to seals but with some key differences, sea lions have external ear flaps and can rotate their hind flippers to walk on land. They are also very social and often gather in large groups.\n",
            "\n",
            "5. **Walruses**: Recognizable by their long tusks and whiskers, walruses are large marine mammals that are found in Arctic regions. They use their tusks to help them climb out of the water and to break through ice.\n",
            "\n",
            "6. **Manatees and Dugongs**: These gentle giants are often referred to as sea cows. Manatees are found in the Atlantic Ocean, while dugongs are found in the Indian and Pacific Oceans. They are herbivores and spend most of their time grazing on underwater vegetation.\n",
            "\n",
            "7. **Sea Otters**: Known for their playful behavior and use of tools, sea otters are an important part of the marine ecosystem. They have thick fur to keep them warm in cold waters and are often seen floating on their backs.\n",
            "\n",
            "8. **Polar Bears**: While not exclusively marine, polar bears spend a significant amount of time in the ocean, particularly in Arctic regions. They are excellent swimmers and rely on sea ice to hunt seals, their primary food source.\n",
            "\n",
            "9. **Narwhals**: Often called the \"unicorns of the sea,\" narwhals have a long, spiral tusk that is actually an elongated tooth. They are found in Arctic waters and are known for their deep diving abilities.\n",
            "\n",
            "10. **Orcas (Killer Whales)**: Though they are technically a type of dolphin, orcas are often considered separately due to their size and distinctive black-and-white coloring. They are apex predators and have complex social structures.\n",
            "\n",
            "Each of these ocean mammals has unique behaviors, adaptations, and ecological roles, making them fascinating subjects for study.\n",
            "================================\u001b[1m Human Message \u001b[0m=================================\n",
            "Name: Lance\n",
            "\n",
            "Tell me more about Narwhals!\n",
            "==================================\u001b[1m Ai Message \u001b[0m==================================\n",
            "\n",
            "Of course! Narwhals (Monodon monoceros) are fascinating marine mammals that belong to the family Monodontidae, which also includes the beluga whale. They are best known for the long, spiral tusk that protrudes from the head of the males, which has earned them the nickname \"unicorns of the sea.\"\n",
            "\n",
            "Here are some key facts about narwhals:\n",
            "\n",
            "### Physical Characteristics\n",
            "- **Tusk**: The most distinctive feature of the narwhal is the tusk, which is actually an elongated tooth. It can grow up to 10 feet (3 meters) long and is usually found in males, though some females may also develop smaller tusks. The tusk grows in a spiral pattern and is thought to have sensory capabilities, with millions of nerve endings.\n",
            "- **Body**: Narwhals have a stocky body with a mottled black and white skin pattern. They lack a dorsal fin, which is thought to be an adaptation to swimming under ice.\n",
            "- **Size**: Adult narwhals typically range from 13 to 20 feet (4 to 6 meters) in length, with males generally being larger than females.\n",
            "- **Weight**: They can weigh between 1,760 to 3,530 pounds (800 to 1,600 kilograms).\n",
            "\n",
            "### Habitat and Distribution\n",
            "- Narwhals are native to the Arctic waters of Canada, Greenland, Norway, and Russia. They are especially common in the Baffin Bay and the waters surrounding Greenland.\n",
            "- They prefer deep waters and are often found in areas with heavy sea ice.\n",
            "\n",
            "### Behavior and Diet\n",
            "- **Diving**: Narwhals are deep divers and can reach depths of up to 5,000 feet (1,500 meters) in search of food. They can hold their breath for up to 25 minutes.\n",
            "- **Diet**: Their diet primarily consists of fish such as Arctic cod and Greenland halibut, as well as squid and shrimp.\n",
            "- **Social Structure**: Narwhals are social animals and are often found in groups called pods, which typically consist of 5 to 10 individuals but can sometimes number in the hundreds.\n",
            "\n",
            "### Reproduction and Lifespan\n",
            "- Females give birth to a single calf after a gestation period of about 14 to 15 months. Calves are usually born in the spring or early summer.\n",
            "- Narwhals have a long lifespan and can live up to 50 years, although some individuals may live even longer.\n",
            "\n",
            "### Conservation Status\n",
            "- Narwhals are currently classified as \"Near Threatened\" by the International Union for Conservation of Nature (IUCN). Their main threats include climate change, which affects their sea ice habitat, and human activities such as shipping and oil exploration.\n",
            "- Indigenous communities in the Arctic have traditionally hunted narwhals for their meat, blubber, and tusks, which are used for various purposes, including art and tools.\n",
            "\n",
            "### Cultural Significance\n",
            "- The narwhal's tusk has fascinated humans for centuries and was often sold as a \"unicorn horn\" in medieval Europe, believed to possess magical properties.\n",
            "- Narwhals hold significant cultural and economic value for indigenous Arctic communities.\n",
            "\n",
            "Overall, narwhals are remarkable creatures with unique adaptations that allow them to thrive in some of the planet's harshest environments.\n"
          ]
        }
      ],
      "source": [
        "# Invoke, using message filtering\n",
        "output = graph.invoke({'messages': messages})\n",
        "for m in output['messages']:\n",
        "    m.pretty_print()"
      ]
    },
    {
      "cell_type": "markdown",
      "id": "42e1d8d2-e297-4d78-b54c-d12b3c866745",
      "metadata": {
        "id": "42e1d8d2-e297-4d78-b54c-d12b3c866745"
      },
      "source": [
        "The state has all of the mesages.\n",
        "\n",
        "But, let's look at the LangSmith trace to see that the model invocation only uses the last message:\n",
        "\n",
        "https://smith.langchain.com/public/75aca3ce-ef19-4b92-94be-0178c7a660d9/r"
      ]
    },
    {
      "cell_type": "markdown",
      "id": "fc40d930-3c1f-47fe-8d2a-ce174873353c",
      "metadata": {
        "id": "fc40d930-3c1f-47fe-8d2a-ce174873353c"
      },
      "source": [
        "## Trim messages\n",
        "\n",
        "Another approach is to [trim messages](https://python.langchain.com/v0.2/docs/how_to/trim_messages/#getting-the-last-max_tokens-tokens), based upon a set number of tokens.\n",
        "\n",
        "This restricts the message history to a specified number of tokens.\n",
        "\n",
        "While filtering only returns a post-hoc subset of the messages between agents, trimming restricts the number of tokens that a chat model can use to respond.\n",
        "\n",
        "See the `trim_messages` below."
      ]
    },
    {
      "cell_type": "code",
      "execution_count": null,
      "id": "2ff99b81-cf03-4cc2-b44f-44829a73e1fd",
      "metadata": {
        "id": "2ff99b81-cf03-4cc2-b44f-44829a73e1fd",
        "outputId": "c7901052-b75c-4498-9531-6f41138a4325"
      },
      "outputs": [
        {
          "data": {
            "image/jpeg": "[encoded data removed]",
            "text/plain": [
              "<IPython.core.display.Image object>"
            ]
          },
          "metadata": {},
          "output_type": "display_data"
        }
      ],
      "source": [
        "from langchain_core.messages import trim_messages\n",
        "\n",
        "# Node\n",
        "def chat_model_node(state: MessagesState):\n",
        "    messages = trim_messages(\n",
        "            state[\"messages\"],\n",
        "            max_tokens=100,\n",
        "            strategy=\"last\",\n",
        "            token_counter=ChatOpenAI(model=\"gpt-4o\"),\n",
        "            allow_partial=False,\n",
        "        )\n",
        "    return {\"messages\": [llm.invoke(messages)]}\n",
        "\n",
        "# Build graph\n",
        "builder = StateGraph(MessagesState)\n",
        "builder.add_node(\"chat_model\", chat_model_node)\n",
        "builder.add_edge(START, \"chat_model\")\n",
        "builder.add_edge(\"chat_model\", END)\n",
        "graph = builder.compile()\n",
        "\n",
        "# View\n",
        "display(Image(graph.get_graph().draw_mermaid_png()))"
      ]
    },
    {
      "cell_type": "code",
      "execution_count": null,
      "id": "24df63ac-da29-4874-b3df-7e390e97cc8a",
      "metadata": {
        "id": "24df63ac-da29-4874-b3df-7e390e97cc8a"
      },
      "outputs": [],
      "source": [
        "messages.append(output['messages'][-1])\n",
        "messages.append(HumanMessage(f\"Tell me where Orcas live!\", name=\"Lance\"))"
      ]
    },
    {
      "cell_type": "code",
      "execution_count": null,
      "id": "6d9d8971-c75c-43ca-a209-eb1d07b2ead0",
      "metadata": {
        "id": "6d9d8971-c75c-43ca-a209-eb1d07b2ead0",
        "outputId": "1f2e99f3-d7ca-41f8-d7f3-9cc5d297f7a5"
      },
      "outputs": [
        {
          "data": {
            "text/plain": [
              "[HumanMessage(content='Tell me where Orcas live!', name='Lance')]"
            ]
          },
          "execution_count": 17,
          "metadata": {},
          "output_type": "execute_result"
        }
      ],
      "source": [
        "# Example of trimming messages\n",
        "trim_messages(\n",
        "            messages,\n",
        "            max_tokens=100,\n",
        "            strategy=\"last\",\n",
        "            token_counter=ChatOpenAI(model=\"gpt-4o\"),\n",
        "            allow_partial=False\n",
        "        )"
      ]
    },
    {
      "cell_type": "code",
      "execution_count": null,
      "id": "ed70a269-a869-4fa0-a1df-29736a432c51",
      "metadata": {
        "id": "ed70a269-a869-4fa0-a1df-29736a432c51"
      },
      "outputs": [],
      "source": [
        "# Invoke, using message trimming in the chat_model_node\n",
        "messages_out_trim = graph.invoke({'messages': messages})"
      ]
    },
    {
      "cell_type": "markdown",
      "id": "38b3db67-380e-46b5-9a6a-20100ba52008",
      "metadata": {
        "id": "38b3db67-380e-46b5-9a6a-20100ba52008"
      },
      "source": [
        "Let's look at the LangSmith trace to see the model invocation:\n",
        "\n",
        "https://smith.langchain.com/public/b153f7e9-f1a5-4d60-8074-f0d7ab5b42ef/r"
      ]
    }
  ],
  "metadata": {
    "kernelspec": {
      "display_name": "Python 3 (ipykernel)",
      "language": "python",
      "name": "python3"
    },
    "language_info": {
      "codemirror_mode": {
        "name": "ipython",
        "version": 3
      },
      "file_extension": ".py",
      "mimetype": "text/x-python",
      "name": "python",
      "nbconvert_exporter": "python",
      "pygments_lexer": "ipython3",
      "version": "3.12.1"
    },
    "colab": {
      "provenance": []
    }
  },
  "nbformat": 4,
  "nbformat_minor": 5
}