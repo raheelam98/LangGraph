{
  "cells": [
    {
      "cell_type": "markdown",
      "metadata": {
        "id": "view-in-github",
        "colab_type": "text"
      },
      "source": [
        "<a href=\"https://colab.research.google.com/github/raheelam98/LangGraph/blob/main/agentic_modules.ipynb\" target=\"_parent\"><img src=\"https://colab.research.google.com/assets/colab-badge.svg\" alt=\"Open In Colab\"/></a>"
      ]
    },
    {
      "cell_type": "code",
      "source": [
        "%%capture --no-stderr\n",
        "%pip install --quiet -U langchain-google-genai langchain_core langgraph"
      ],
      "metadata": {
        "id": "NFYEHxRku6wo"
      },
      "execution_count": 1,
      "outputs": []
    },
    {
      "cell_type": "code",
      "source": [
        "import os\n",
        "from google.colab import userdata\n",
        "\n",
        "os.environ[\"LANGCHAIN_API_KEY\"] = userdata.get('LANGCHAIN_API_KEY')\n",
        "os.environ[\"LANGCHAIN_TRACING_V2\"] = \"true\"\n",
        "os.environ[\"LANGCHAIN_PROJECT\"] = \"agentic modules\"\n",
        "\n",
        "gemini_api_key = userdata.get('GEMINI_API_KEY')"
      ],
      "metadata": {
        "id": "tqSB7L3Cw_An"
      },
      "execution_count": 12,
      "outputs": []
    },
    {
      "cell_type": "code",
      "source": [
        "from google.colab import userdata\n",
        "google_api_key = userdata.get('GEMINI_API_KEY')"
      ],
      "metadata": {
        "id": "bmFw-q8yv3-X"
      },
      "execution_count": 3,
      "outputs": []
    },
    {
      "cell_type": "code",
      "source": [
        "from langchain_google_genai.chat_models import ChatGoogleGenerativeAI\n",
        "\n",
        "llm = ChatGoogleGenerativeAI(model=\"gemini-1.5-flash\", api_key=gemini_api_key)"
      ],
      "metadata": {
        "id": "n0Hy0OISxQ4T"
      },
      "execution_count": 4,
      "outputs": []
    },
    {
      "cell_type": "code",
      "source": [
        "result = llm.invoke(\"hi\")\n",
        "result"
      ],
      "metadata": {
        "id": "te4xyftB7Xx3",
        "outputId": "3d986486-a780-403e-96d7-beb0150518ff",
        "colab": {
          "base_uri": "https://localhost:8080/"
        }
      },
      "execution_count": 5,
      "outputs": [
        {
          "output_type": "execute_result",
          "data": {
            "text/plain": [
              "AIMessage(content='Hi there! How can I help you today?\\n', additional_kwargs={}, response_metadata={'prompt_feedback': {'block_reason': 0, 'safety_ratings': []}, 'finish_reason': 'STOP', 'safety_ratings': []}, id='run-ab0aa0b8-6c1d-4e6b-8cc6-36d3e6ac7c61-0', usage_metadata={'input_tokens': 2, 'output_tokens': 11, 'total_tokens': 13, 'input_token_details': {'cache_read': 0}})"
            ]
          },
          "metadata": {},
          "execution_count": 5
        }
      ]
    },
    {
      "cell_type": "markdown",
      "source": [
        "#### AI Agent Paratice"
      ],
      "metadata": {
        "id": "-UFjKcZjEA8B"
      }
    },
    {
      "cell_type": "markdown",
      "source": [
        "**Module 1 : 2.2_chains_reducers.ipynb**\n",
        "\n",
        "(1) Add a node that will call our tool.\n",
        "\n",
        "(2) Add a conditional edge that will look at the chat model model output, and route to our tool calling node or simply end if no tool call is performed."
      ],
      "metadata": {
        "id": "3hPrpG6gurfL"
      }
    },
    {
      "cell_type": "markdown",
      "source": [
        "# Router\n",
        "**Module 1 : 3_router.ipynb**\n",
        "\n",
        "* Return a tool call\n",
        "* Return a natural language response"
      ],
      "metadata": {
        "id": "tt89zX9HIg-r"
      }
    },
    {
      "cell_type": "code",
      "source": [
        "from langchain_google_genai import ChatGoogleGenerativeAI\n",
        "\n",
        "def multiply(a: int, b: int) -> int:\n",
        "    \"\"\"Multiply a and b.\n",
        "\n",
        "    Args:\n",
        "        a: first int\n",
        "        b: second int\n",
        "    \"\"\"\n",
        "    return a * b\n",
        "\n",
        "# llm = ChatGoogleGenerativeAI(model=\"gemini-1.5-flash\", api_key=os.environ[\"GEMINI_API_KEY\"])\n",
        "llm_with_tools = llm.bind_tools([multiply])"
      ],
      "metadata": {
        "id": "tS-Zc_a7Qztw"
      },
      "execution_count": 6,
      "outputs": []
    },
    {
      "cell_type": "code",
      "source": [
        "llm_with_tools"
      ],
      "metadata": {
        "id": "uqpnIpPuQ3Pr"
      },
      "execution_count": null,
      "outputs": []
    },
    {
      "cell_type": "code",
      "source": [
        "# Import IPython display classes for visual representation\n",
        "from IPython.display import Image, display\n",
        "\n",
        "# Import necessary modules from langgraph.graph for building the state graph\n",
        "from langgraph.graph import StateGraph, START, END\n",
        "from langgraph.graph import MessagesState\n",
        "\n",
        "# Import CompiledStateGraph for compiling the state graph\n",
        "from langgraph.graph.state import CompiledStateGraph\n",
        "\n",
        "# Import ToolNode and tools_condition from langgraph.prebuilt\n",
        "from langgraph.prebuilt import ToolNode\n",
        "from langgraph.prebuilt import tools_condition\n",
        "\n",
        "# Node that will call the LLM tools\n",
        "def tool_calling_llm(state: MessagesState) -> MessagesState:\n",
        "    # Invoke the LLM tools with the current messages from the state and return the updated state\n",
        "    return {\"messages\": [llm_with_tools.invoke(state[\"messages\"])]}\n",
        "\n",
        "# Build the state graph\n",
        "builder: StateGraph = StateGraph(MessagesState)\n",
        "\n",
        "# Add nodes to the graph\n",
        "builder.add_node(\"tool_calling_llm\", tool_calling_llm)  # Add tool_calling_llm node\n",
        "builder.add_node(\"tools\", ToolNode([multiply]))  # Add ToolNode for the multiply function\n",
        "\n",
        "# Define edges for the graph\n",
        "builder.add_edge(START, \"tool_calling_llm\")  # Start the graph with tool_calling_llm node\n",
        "builder.add_conditional_edges(\n",
        "    \"tool_calling_llm\",\n",
        "    tools_condition,  # Route to tools or END based on the tools_condition\n",
        "    # If the latest message (result) from assistant is a tool call -> tools_condition routes to tools\n",
        "    # If the latest message (result) from assistant is not a tool call -> tools_condition routes to END\n",
        ")\n",
        "\n",
        "# Define the edge from tools to END\n",
        "builder.add_edge(\"tools\", END)\n",
        "\n",
        "# Compile the graph to a reactive graph\n",
        "graph: CompiledStateGraph = builder.compile()\n"
      ],
      "metadata": {
        "id": "Lx40ZoqoRqia"
      },
      "execution_count": 7,
      "outputs": []
    },
    {
      "cell_type": "code",
      "source": [
        "graph"
      ],
      "metadata": {
        "colab": {
          "base_uri": "https://localhost:8080/"
        },
        "id": "lnBS07kvSQi1",
        "outputId": "3e18cdeb-7833-4906-9975-052bef580179"
      },
      "execution_count": 8,
      "outputs": [
        {
          "output_type": "execute_result",
          "data": {
            "text/plain": [
              "<langgraph.graph.state.CompiledStateGraph at 0x7bf1941dbc70>"
            ]
          },
          "metadata": {},
          "execution_count": 8
        }
      ]
    },
    {
      "cell_type": "code",
      "source": [
        "# View\n",
        "display(Image(graph.get_graph().draw_mermaid_png()))"
      ],
      "metadata": {
        "colab": {
          "base_uri": "https://localhost:8080/",
          "height": 350
        },
        "id": "gnAp-Dr7STaT",
        "outputId": "8895ba8a-7488-4e2e-f142-df1ede778347"
      },
      "execution_count": 9,
      "outputs": [
        {
          "output_type": "display_data",
          "data": {
            "image/png": "[encoded data removed]",
            "text/plain": [
              "<IPython.core.display.Image object>"
            ]
          },
          "metadata": {}
        }
      ]
    },
    {
      "cell_type": "code",
      "source": [
        "from langchain_core.messages import HumanMessage\n",
        "\n",
        "# Prepare the initial message from the human\n",
        "messages = [HumanMessage(content=\"Hello world.\")]\n",
        "\n",
        "# Invoke the graph with the prepared messages\n",
        "messages = graph.invoke({\"messages\": messages})\n",
        "\n",
        "# Iterate through the returned messages and print each one\n",
        "for m in messages['messages']:\n",
        "    m.pretty_print()\n"
      ],
      "metadata": {
        "colab": {
          "base_uri": "https://localhost:8080/"
        },
        "id": "Q0DXk2mXSkQd",
        "outputId": "e82517bc-5035-48f5-e1b7-b65c48a482c8"
      },
      "execution_count": 10,
      "outputs": [
        {
          "output_type": "stream",
          "name": "stdout",
          "text": [
            "================================\u001b[1m Human Message \u001b[0m=================================\n",
            "\n",
            "Hello world.\n",
            "==================================\u001b[1m Ai Message \u001b[0m==================================\n",
            "\n",
            "Hello world.\n"
          ]
        }
      ]
    },
    {
      "cell_type": "code",
      "source": [
        "# Import the HumanMessage class from langchain_core.messages\n",
        "from langchain_core.messages import HumanMessage\n",
        "\n",
        "# Prepare the initial message from the human with the content \"Multiply 2 and 3.\"\n",
        "messages = [HumanMessage(content=\"Multiply 2 and 3.\")]\n",
        "\n",
        "# Invoke the graph with the prepared messages\n",
        "messages = graph.invoke({\"messages\": messages})\n",
        "\n",
        "# Iterate through the returned messages and print each one\n",
        "for m in messages['messages']:\n",
        "    m.pretty_print()\n"
      ],
      "metadata": {
        "colab": {
          "base_uri": "https://localhost:8080/"
        },
        "id": "eIGtCtK5SrXT",
        "outputId": "26834669-8cd3-4430-f1da-31725375d7ca"
      },
      "execution_count": 11,
      "outputs": [
        {
          "output_type": "stream",
          "name": "stdout",
          "text": [
            "================================\u001b[1m Human Message \u001b[0m=================================\n",
            "\n",
            "Multiply 2 and 3.\n",
            "==================================\u001b[1m Ai Message \u001b[0m==================================\n",
            "Tool Calls:\n",
            "  multiply (3dad9700-b12b-41fc-9a76-5deec626c2f0)\n",
            " Call ID: 3dad9700-b12b-41fc-9a76-5deec626c2f0\n",
            "  Args:\n",
            "    a: 2.0\n",
            "    b: 3.0\n",
            "=================================\u001b[1m Tool Message \u001b[0m=================================\n",
            "Name: multiply\n",
            "\n",
            "6\n"
          ]
        }
      ]
    },
    {
      "cell_type": "markdown",
      "source": [
        "Explanation of Comments:\n",
        "\n",
        "1 Importing HumanMessage:\n",
        "\n",
        "from langchain_core.messages import HumanMessage: This line imports the HumanMessage class from the langchain_core.messages module.\n",
        "\n",
        "2 Preparing the Initial Message:\n",
        "\n",
        "messages = [HumanMessage(content=\"Multiply 2 and 3.\")]: This line creates a list containing a single HumanMessage with the content \"Multiply 2 and 3.\"\n",
        "\n",
        "3 Invoking the Graph:\n",
        "\n",
        "messages = graph.invoke({\"messages\": messages}): This line invokes the graph with the prepared messages. The graph processes the messages and returns the updated state.\n",
        "\n",
        "4 Iterating and Printing Messages:\n",
        "\n",
        "for m in messages['messages']::: This line starts a loop that iterates through the returned messages in the updated state.\n",
        "\n",
        "m.pretty_print(): This line prints each message using the pretty_print method for a formatted output."
      ],
      "metadata": {
        "id": "tPDH64bOS81d"
      }
    }
  ],
  "metadata": {
    "colab": {
      "provenance": [],
      "include_colab_link": true
    },
    "kernelspec": {
      "display_name": "Python 3",
      "name": "python3"
    }
  },
  "nbformat": 4,
  "nbformat_minor": 0
}