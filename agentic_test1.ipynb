{
  "nbformat": 4,
  "nbformat_minor": 0,
  "metadata": {
    "colab": {
      "provenance": [],
      "authorship_tag": "ABX9TyPCRysOYTkT5MsYmUl4IWpb",
      "include_colab_link": true
    },
    "kernelspec": {
      "name": "python3",
      "display_name": "Python 3"
    },
    "language_info": {
      "name": "python"
    }
  },
  "cells": [
    {
      "cell_type": "markdown",
      "metadata": {
        "id": "view-in-github",
        "colab_type": "text"
      },
      "source": [
        "<a href=\"https://colab.research.google.com/github/raheelam98/LangGraph/blob/main/agentic_test1.ipynb\" target=\"_parent\"><img src=\"https://colab.research.google.com/assets/colab-badge.svg\" alt=\"Open In Colab\"/></a>"
      ]
    },
    {
      "cell_type": "code",
      "execution_count": 1,
      "metadata": {
        "id": "a1ihqEhTHSmb"
      },
      "outputs": [],
      "source": [
        "# install the required packages\n",
        "%%capture --no-stderr\n",
        "%pip install -U langgraph langsmith langchain_google_genai"
      ]
    },
    {
      "cell_type": "code",
      "source": [
        "# API Keys\n",
        "import os\n",
        "from google.colab import userdata\n",
        "\n",
        "os.environ[\"LANGCHAIN_API_KEY\"] = userdata.get('LANGCHAIN_API_KEY')\n",
        "os.environ[\"LANGCHAIN_TRACING_V2\"] = \"true\"\n",
        "os.environ[\"LANGCHAIN_PROJECT\"] = \"agentic_test1\"\n",
        "\n",
        "gemini_api_key = userdata.get('GEMINI_API_KEY')"
      ],
      "metadata": {
        "id": "MPOThqsVLu-I"
      },
      "execution_count": 2,
      "outputs": []
    },
    {
      "cell_type": "code",
      "source": [
        "# ChatGoogleGenerativeAI\n",
        "from langchain_google_genai import ChatGoogleGenerativeAI\n",
        "\n",
        "llm = ChatGoogleGenerativeAI(\n",
        "    model=\"gemini-1.5-flash\",\n",
        "    max_retries=2,\n",
        "    api_key=gemini_api_key\n",
        ")"
      ],
      "metadata": {
        "id": "Qf34GWZEMBpp"
      },
      "execution_count": 3,
      "outputs": []
    },
    {
      "cell_type": "code",
      "source": [
        "# check llm is working\n",
        "result = llm.invoke(\"hi\")\n",
        "result"
      ],
      "metadata": {
        "colab": {
          "base_uri": "https://localhost:8080/"
        },
        "id": "L-d2pzWuMGoa",
        "outputId": "3c0f3481-e554-47cc-e61a-f3d466bb2196"
      },
      "execution_count": 4,
      "outputs": [
        {
          "output_type": "execute_result",
          "data": {
            "text/plain": [
              "AIMessage(content='Hi there! How can I help you today?\\n', additional_kwargs={}, response_metadata={'prompt_feedback': {'block_reason': 0, 'safety_ratings': []}, 'finish_reason': 'STOP', 'safety_ratings': []}, id='run-f084d54d-c66c-4acc-9876-f4c0473f6766-0', usage_metadata={'input_tokens': 2, 'output_tokens': 11, 'total_tokens': 13, 'input_token_details': {'cache_read': 0}})"
            ]
          },
          "metadata": {},
          "execution_count": 4
        }
      ]
    },
    {
      "cell_type": "code",
      "source": [
        "%%capture --no-stderr\n",
        "%pip install -U tavily-python langchain_community"
      ],
      "metadata": {
        "id": "SagSqehUMW4K"
      },
      "execution_count": null,
      "outputs": []
    },
    {
      "cell_type": "code",
      "source": [
        "os.environ[\"TAVILY_API_KEY\"] = userdata.get(\"TAVILY_API_KEY\")"
      ],
      "metadata": {
        "id": "Oy64yOFrMaZS"
      },
      "execution_count": null,
      "outputs": []
    },
    {
      "cell_type": "markdown",
      "source": [
        "part 1"
      ],
      "metadata": {
        "id": "fX0QLDmgMh5W"
      }
    },
    {
      "cell_type": "code",
      "source": [
        "# Import IPython display classes for visual representation\n",
        "from IPython.display import Image, display\n",
        "\n",
        "# Import necessary modules from langgraph.graph for building the state graph\n",
        "from langgraph.graph import StateGraph, START, END\n",
        "from langgraph.graph import MessagesState\n",
        "\n",
        "# Import CompiledStateGraph for compiling the state graph\n",
        "from langgraph.graph.state import CompiledStateGraph\n",
        "\n",
        "\n",
        "# Note that call llm\n",
        "def tool_calling_llm(state: MessagesState)-> MessagesState:\n",
        "  # Invoke the LLM tools with the current messages from the state and return the updated state\n",
        "  return {\"messages\": llm_with_tools.invoke(state[\"messages\"])}\n",
        "\n",
        "# Build the state graph\n",
        "builder: StateGraph = StateGraph(MessagesState)\n",
        "\n",
        "# Check if the node already exists before adding it\n",
        "if \"tool_calling_llm\" not in builder.nodes:\n",
        "  builder.add_node(\"tool_calling_llm\", tool_calling_llm)\n",
        "else:\n",
        "  print(\"Node tool_calling_llm already present\")\n",
        "\n",
        "\n",
        "# Define edges for the graph\n",
        "builder.add_edge(START, \"tool_calling_llm\")\n",
        "builder.add_edge(\"tool_calling_llm\", END)\n",
        "\n",
        "# Compile the graph\n",
        "graph: CompiledStateGraph = builder.compile()"
      ],
      "metadata": {
        "id": "Y5PD2bBzMkjH"
      },
      "execution_count": 9,
      "outputs": []
    },
    {
      "cell_type": "code",
      "source": [
        "from IPython.display import Image, display\n",
        "\n",
        "try:\n",
        "    display(Image(graph.get_graph().draw_mermaid_png()))\n",
        "except Exception:\n",
        "    # This requires some extra dependencies and is optional\n",
        "    pass"
      ],
      "metadata": {
        "colab": {
          "base_uri": "https://localhost:8080/",
          "height": 251
        },
        "id": "b2TCztpgdro-",
        "outputId": "b040f907-d47f-479f-8817-706540081d95"
      },
      "execution_count": 10,
      "outputs": [
        {
          "output_type": "display_data",
          "data": {
            "image/png": "[encoded data removed]",
            "text/plain": [
              "<IPython.core.display.Image object>"
            ]
          },
          "metadata": {}
        }
      ]
    },
    {
      "cell_type": "code",
      "source": [
        "from langchain_core.messages import HumanMessage\n",
        "\n",
        "# Prepare the initial message from the human\n",
        "messages = [HumanMessage(content=\"Hi Raheela .\")]\n",
        "\n",
        "# Invoke the graph with the prepared messages\n",
        "messages = graph.invoke({\"messages\": messages})\n",
        "\n",
        "# Messages are stored in a list, so we use a for loop to print each message.\n",
        "\n",
        "# Iterate through the returned messages and print each one\n",
        "for m in messages['messages']:\n",
        "    m.pretty_print()\n"
      ],
      "metadata": {
        "colab": {
          "base_uri": "https://localhost:8080/"
        },
        "id": "OgXVZFPuoE13",
        "outputId": "cee9ddfd-e88c-4bbe-9454-1d9c5166d447"
      },
      "execution_count": 15,
      "outputs": [
        {
          "output_type": "stream",
          "name": "stdout",
          "text": [
            "================================\u001b[1m Human Message \u001b[0m=================================\n",
            "\n",
            "Hi Raheela .\n",
            "==================================\u001b[1m Ai Message \u001b[0m==================================\n",
            "\n",
            "Hello Raheela! How can I help you today?\n"
          ]
        }
      ]
    },
    {
      "cell_type": "markdown",
      "source": [
        "# Router\n",
        "**Module 1 : 3_router.ipynb**\n",
        "\n",
        "* Return a tool call\n",
        "* Return a natural language response"
      ],
      "metadata": {
        "id": "ZnAt02_Sortr"
      }
    },
    {
      "cell_type": "code",
      "source": [
        "from langchain_google_genai import ChatGoogleGenerativeAI\n",
        "\n",
        "# making criteria (point 1)\n",
        "def multiply(num1: int , num2: int) -> int:\n",
        "  \"\"\"Multiply num1 and num2\n",
        "  Args:\n",
        "      num1: first int\n",
        "      num2: second int\n",
        "  \"\"\"\n",
        "  return num1 * num2\n",
        "\n",
        "# providing information to lainchain (point 2)\n",
        "\n",
        "# Bind the tools to LLM\n",
        "llm_with_tools = llm.bind_tools(multiply)\n",
        "\n",
        "result = multiply(2,3)\n",
        "print(\"Answer of mutiplication \",result)"
      ],
      "metadata": {
        "colab": {
          "base_uri": "https://localhost:8080/"
        },
        "id": "vkZ9NZdSNB5t",
        "outputId": "fd3e4d23-3f99-4a3a-eeb0-d47f3f26a2e2"
      },
      "execution_count": 7,
      "outputs": [
        {
          "output_type": "stream",
          "name": "stderr",
          "text": [
            "WARNING:langchain_google_genai._function_utils:convert_to_genai_function_declarations expects a Sequence and not a single tool.\n",
            "WARNING:langchain_google_genai._function_utils:Key 'title' is not supported in schema, ignoring\n"
          ]
        },
        {
          "output_type": "stream",
          "name": "stdout",
          "text": [
            "Answer of mutiplication  6\n"
          ]
        }
      ]
    },
    {
      "cell_type": "code",
      "source": [
        "# Import IPython display classes for visual representation\n",
        "from IPython.display import Image, display\n",
        "\n",
        "# Import necessary modules from langgraph.graph for building the state graph\n",
        "from langgraph.graph import StateGraph, START, END\n",
        "from langgraph.graph import MessagesState\n",
        "\n",
        "# Import CompiledStateGraph for compiling the state graph\n",
        "from langgraph.graph.state import CompiledStateGraph\n",
        "\n",
        "# Import ToolNode and tools_condition from langgraph.prebuilt (new)\n",
        "from langgraph.prebuilt import ToolNode\n",
        "from langgraph.prebuilt import tools_condition\n",
        "\n",
        "\n",
        "# Note that call llm\n",
        "def tool_calling_llm(state: MessagesState)-> MessagesState:\n",
        "  # Invoke the LLM tools with the current messages from the state and return the updated state\n",
        "  return {\"messages\": llm_with_tools.invoke(state[\"messages\"])}\n",
        "\n",
        "# Build the state graph\n",
        "builder: StateGraph = StateGraph(MessagesState)\n",
        "\n",
        "# # Check if the node already exists before adding it\n",
        "# if \"tool_calling_llm\" not in builder.nodes:\n",
        "#   builder.add_node(\"tool_calling_llm\", tool_calling_llm)\n",
        "# else:\n",
        "#   print(\"Node tool_calling_llm already present\")\n",
        "\n",
        "builder.add_node(\"tool_calling_llm\", tool_calling_llm)\n",
        "builder.add_node(\"tools\", ToolNode([multiply]))     # NEW - Route :- Add ToolNode for the multiply function\n",
        "# (point 2) ToolNode() takes route/action to reach the ice cream shop\n",
        "\n",
        "\n",
        "# Define edges for the graph\n",
        "builder.add_edge(START, \"tool_calling_llm\")\n",
        "\n",
        "# NEW Route :- (point 3) add_conditional_edges(): decides whether to go to the ice cream shop or no\n",
        "builder.add_conditional_edges(\n",
        "    \"tool_calling_llm\",\n",
        "    tools_condition\n",
        ")\n",
        "\n",
        "builder.add_edge(\"tools\", END)\n",
        "\n",
        "# Compile the graph\n",
        "graph: CompiledStateGraph = builder.compile()"
      ],
      "metadata": {
        "id": "-WbHlTuApXFq"
      },
      "execution_count": 18,
      "outputs": []
    },
    {
      "cell_type": "code",
      "source": [
        "from IPython.display import Image, display\n",
        "\n",
        "try:\n",
        "    display(Image(graph.get_graph().draw_mermaid_png()))\n",
        "except Exception:\n",
        "    # This requires some extra dependencies and is optional\n",
        "    pass"
      ],
      "metadata": {
        "colab": {
          "base_uri": "https://localhost:8080/",
          "height": 350
        },
        "id": "uYmqui4dphmJ",
        "outputId": "e5aa53e2-5280-4aa8-f37f-02c608186559"
      },
      "execution_count": 19,
      "outputs": [
        {
          "output_type": "display_data",
          "data": {
            "image/png": "[encoded data removed]",
            "text/plain": [
              "<IPython.core.display.Image object>"
            ]
          },
          "metadata": {}
        }
      ]
    },
    {
      "cell_type": "code",
      "source": [
        "from langchain_core.messages import HumanMessage\n",
        "\n",
        "# Prepare the initial message from the human\n",
        "messages = [HumanMessage(content=\"Hi Raheela .\")]\n",
        "\n",
        "# Invoke the graph with the prepared messages\n",
        "messages = graph.invoke({\"messages\": messages})\n",
        "\n",
        "# Messages are stored in a list, so we use a for loop to print each message.\n",
        "\n",
        "# Iterate through the returned messages and print each one\n",
        "for m in messages['messages']:\n",
        "    m.pretty_print()\n"
      ],
      "metadata": {
        "colab": {
          "base_uri": "https://localhost:8080/"
        },
        "id": "jQXnmHUtr26B",
        "outputId": "28d30d05-6ed8-4226-eaac-5c561050338e"
      },
      "execution_count": 20,
      "outputs": [
        {
          "output_type": "stream",
          "name": "stdout",
          "text": [
            "================================\u001b[1m Human Message \u001b[0m=================================\n",
            "\n",
            "Hi Raheela .\n",
            "==================================\u001b[1m Ai Message \u001b[0m==================================\n",
            "\n",
            "Hello Raheela! How can I help you today?\n"
          ]
        }
      ]
    },
    {
      "cell_type": "code",
      "source": [
        "# Import the HumanMessage class from langchain_core.messages\n",
        "from langchain_core.messages import HumanMessage\n",
        "\n",
        "# Prepare the initial message from the human with the content \"Multiply 2 and 3.\"\n",
        "messages = [HumanMessage(content=\"Multiply 3 and 6.\")]\n",
        "\n",
        "# Invoke the graph with the prepared messages\n",
        "messages = graph.invoke({\"messages\": messages})\n",
        "\n",
        "# Iterate through the returned messages and print each one\n",
        "for m in messages['messages']:\n",
        "    m.pretty_print()"
      ],
      "metadata": {
        "colab": {
          "base_uri": "https://localhost:8080/"
        },
        "id": "GC_5tjOUr9V0",
        "outputId": "d2010e1e-3ea3-4dec-9d14-71573747e930"
      },
      "execution_count": 21,
      "outputs": [
        {
          "output_type": "stream",
          "name": "stdout",
          "text": [
            "================================\u001b[1m Human Message \u001b[0m=================================\n",
            "\n",
            "Multiply 3 and 6.\n",
            "==================================\u001b[1m Ai Message \u001b[0m==================================\n",
            "Tool Calls:\n",
            "  multiply (60eb94ce-72fb-4a3b-9704-b7b1caea3876)\n",
            " Call ID: 60eb94ce-72fb-4a3b-9704-b7b1caea3876\n",
            "  Args:\n",
            "    a: 3.0\n",
            "    b: 6.0\n",
            "=================================\u001b[1m Tool Message \u001b[0m=================================\n",
            "Name: multiply\n",
            "\n",
            "18\n"
          ]
        }
      ]
    },
    {
      "cell_type": "code",
      "source": [
        "from langchain_google_genai import ChatGoogleGenerativeAI\n",
        "\n",
        "# making criteria (point 1)\n",
        "def multiply(num1: int , num2: int) -> int:\n",
        "  \"\"\"Multiply num1 and num2\n",
        "  Args:\n",
        "      num1: first int\n",
        "      num2: second int\n",
        "  \"\"\"\n",
        "  return num1 * num2\n",
        "\n",
        "# providing information to lainchain (point 2)\n",
        "\n",
        "# Bind the tools to LLM, provide information (lain chain)\n",
        "llm_with_tools = llm.bind_tools(multiply)\n",
        "# Bind the tools to the LLM (point 1: provide information (lain chain) about the shops available on the way from one tole to another)\n",
        "\n",
        "result = multiply(2,3)\n",
        "print(\"Answer of mutiplication \",result)"
      ],
      "metadata": {
        "colab": {
          "base_uri": "https://localhost:8080/"
        },
        "id": "7pFU09h8sWd1",
        "outputId": "7a3f30be-e2f8-4abf-8ef4-da127386cfc0"
      },
      "execution_count": 22,
      "outputs": [
        {
          "output_type": "stream",
          "name": "stderr",
          "text": [
            "WARNING:langchain_google_genai._function_utils:convert_to_genai_function_declarations expects a Sequence and not a single tool.\n",
            "WARNING:langchain_google_genai._function_utils:Key 'title' is not supported in schema, ignoring\n"
          ]
        },
        {
          "output_type": "stream",
          "name": "stdout",
          "text": [
            "Answer of mutiplication  6\n"
          ]
        }
      ]
    },
    {
      "cell_type": "code",
      "source": [
        "# Import IPython display classes for visual representation\n",
        "from IPython.display import Image, display\n",
        "\n",
        "# Import necessary modules from langgraph.graph for building the state graph\n",
        "from langgraph.graph import StateGraph, START, END, MessagesState\n",
        "# Import CompiledStateGraph for compiling the state graph\n",
        "from langgraph.graph.state import CompiledStateGraph\n",
        "# Import ToolNode and tools_condition from langgraph.prebuilt (new)\n",
        "from langgraph.prebuilt import ToolNode\n",
        "from langgraph.prebuilt import tools_condition\n",
        "\n",
        "# Note that call llm\n",
        "def tool_calling_llm(state: MessagesState)-> MessagesState:\n",
        "  # Invoke the LLM tools with the current messages from the state and return the updated state\n",
        "  return {\"messages\": llm_with_tools.invoke(state[\"messages\"])}\n",
        "\n",
        "# Build the state graph\n",
        "builder: StateGraph = StateGraph(MessagesState)\n",
        "\n",
        "builder.add_node(\"tool_calling_llm\", tool_calling_llm)\n",
        "# Route :- Add ToolNode for the multiply function\n",
        "builder.add_node(\"tools\", ToolNode([multiply]))\n",
        "# (point 2) ToolNode() takes route/action to reach the ice cream shop\n",
        "\n",
        "# Define edges for the graph\n",
        "builder.add_edge(START, \"tool_calling_llm\")\n",
        "\n",
        "# Route :- (point 3) add_conditional_edges(): decides whether to go to the ice cream shop or no\n",
        "builder.add_conditional_edges(\n",
        "    \"tool_calling_llm\",\n",
        "    tools_condition\n",
        ")\n",
        "# NEW - Agent :- Define the edge from tools back to tool_calling_llm\n",
        "builder.add_edge(\"tools\", \"tool_calling_llm\")\n",
        "# Compile the graph\n",
        "graph: CompiledStateGraph = builder.compile()"
      ],
      "metadata": {
        "id": "g819ru3fsi1A"
      },
      "execution_count": 31,
      "outputs": []
    },
    {
      "cell_type": "code",
      "source": [
        "from IPython.display import Image, display\n",
        "\n",
        "try:\n",
        "    display(Image(graph.get_graph().draw_mermaid_png()))\n",
        "except Exception:\n",
        "    # This requires some extra dependencies and is optional\n",
        "    pass"
      ],
      "metadata": {
        "colab": {
          "base_uri": "https://localhost:8080/",
          "height": 266
        },
        "id": "gEw8pVZBsqTS",
        "outputId": "25449c2f-159d-40f2-8e82-a0b052c0977e"
      },
      "execution_count": 32,
      "outputs": [
        {
          "output_type": "display_data",
          "data": {
            "image/png": "[encoded data removed]",
            "text/plain": [
              "<IPython.core.display.Image object>"
            ]
          },
          "metadata": {}
        }
      ]
    },
    {
      "cell_type": "code",
      "source": [
        "from langchain_core.messages import HumanMessage\n",
        "\n",
        "# Prepare the initial message from the human\n",
        "messages = [HumanMessage(content=\"What is AI Agent.\")]\n",
        "\n",
        "# Invoke the graph with the prepared messages\n",
        "messages = graph.invoke({\"messages\": messages})\n",
        "\n",
        "# Messages are stored in a list, so we use a for loop to print each message.\n",
        "\n",
        "# Iterate through the returned messages and print each one\n",
        "for m in messages['messages']:\n",
        "    m.pretty_print()"
      ],
      "metadata": {
        "colab": {
          "base_uri": "https://localhost:8080/"
        },
        "id": "pxUCQtYG3qRn",
        "outputId": "23994a6d-8179-43e6-a3a9-312e2abaf0d2"
      },
      "execution_count": 37,
      "outputs": [
        {
          "output_type": "stream",
          "name": "stdout",
          "text": [
            "================================\u001b[1m Human Message \u001b[0m=================================\n",
            "\n",
            "What is AI Agent.\n",
            "==================================\u001b[1m Ai Message \u001b[0m==================================\n",
            "\n",
            "An AI agent is a system that perceives its environment and takes actions to maximize its chances of successfully achieving its goals.  It's a software program or a physical robot that can act autonomously.  The key characteristics are perception (gathering information), action (influencing the environment), and goal-oriented behavior (striving for a specific outcome).\n"
          ]
        }
      ]
    },
    {
      "cell_type": "code",
      "source": [
        "# Prepare the initial message from the human with the content \"Add 3 and 4\"\n",
        "messages = [HumanMessage(content=\"Multiply 3 and 4\")]\n",
        "\n",
        "# Invoke the graph with the prepared messages\n",
        "messages = graph.invoke({\"messages\": messages})"
      ],
      "metadata": {
        "id": "Va9kkVTwwCnK"
      },
      "execution_count": 39,
      "outputs": []
    },
    {
      "cell_type": "code",
      "source": [
        "# Iterate through the returned messages\n",
        "for m in messages['messages']:\n",
        "    # Print each message in a formatted manner\n",
        "    m.pretty_print()"
      ],
      "metadata": {
        "colab": {
          "base_uri": "https://localhost:8080/"
        },
        "id": "Uu0SSlwu3eK1",
        "outputId": "af922043-b04a-47bc-8f2a-804314081ca8"
      },
      "execution_count": 40,
      "outputs": [
        {
          "output_type": "stream",
          "name": "stdout",
          "text": [
            "================================\u001b[1m Human Message \u001b[0m=================================\n",
            "\n",
            "Multiply 3 and 4\n",
            "==================================\u001b[1m Ai Message \u001b[0m==================================\n",
            "Tool Calls:\n",
            "  multiply (55555226-c957-4125-8e12-d6275f08c94b)\n",
            " Call ID: 55555226-c957-4125-8e12-d6275f08c94b\n",
            "  Args:\n",
            "    num2: 4.0\n",
            "    num1: 3.0\n",
            "=================================\u001b[1m Tool Message \u001b[0m=================================\n",
            "Name: multiply\n",
            "\n",
            "12\n",
            "==================================\u001b[1m Ai Message \u001b[0m==================================\n",
            "\n",
            "The result is 12.\n"
          ]
        }
      ]
    }
  ]
}