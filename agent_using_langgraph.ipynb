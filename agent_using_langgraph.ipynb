{
  "nbformat": 4,
  "nbformat_minor": 0,
  "metadata": {
    "colab": {
      "provenance": [],
      "authorship_tag": "ABX9TyOSucVnqhK1taZHmmH93wNx",
      "include_colab_link": true
    },
    "kernelspec": {
      "name": "python3",
      "display_name": "Python 3"
    },
    "language_info": {
      "name": "python"
    }
  },
  "cells": [
    {
      "cell_type": "markdown",
      "metadata": {
        "id": "view-in-github",
        "colab_type": "text"
      },
      "source": [
        "<a href=\"https://colab.research.google.com/github/raheelam98/LangGraph/blob/main/agent_using_langgraph.ipynb\" target=\"_parent\"><img src=\"https://colab.research.google.com/assets/colab-badge.svg\" alt=\"Open In Colab\"/></a>"
      ]
    },
    {
      "cell_type": "markdown",
      "source": [
        "\n",
        "[LangChain Academy - Course](https://academy.langchain.com/courses/intro-to-langgraph)\n",
        "\n",
        "[LangChain Academy - Course - Github](https://github.com/langchain-ai/langchain-academy/tree/main)\n",
        "\n",
        "[LangChain Academy - Lang Graph - Tutorials](https://langchain-ai.github.io/langgraph/tutorials/)\n",
        "\n",
        "[LangChain Academy - LangGraph Quick Start - Chatbot](https://langchain-ai.github.io/langgraph/tutorials/introduction/)\n",
        "\n",
        "[LangGraph Tutorial - Panaversity Classes](https://www.youtube.com/playlist?list=PL0vKVrkG4hWoHDg46N85-9NDhmOaPWEwA)\n",
        "\n",
        "[learn-agentic-ai - 12_langchain_ecosyste - Panaversity Github](https://github.com/panaversity/learn-agentic-ai/tree/main/12_langchain_ecosystem)\n",
        "\n",
        "[learn-agentic-ai - 13_advanced_features - Panaversity Github](https://github.com/panaversity/learn-agentic-ai/tree/main/13_advanced_features)\n",
        "\n",
        "[LangGraph - rm Github](https://github.com/raheelam98/LangGraph)"
      ],
      "metadata": {
        "id": "-M5gnR8s2GRL"
      }
    },
    {
      "cell_type": "code",
      "execution_count": null,
      "metadata": {
        "id": "Q2oNMpj0id8A"
      },
      "outputs": [],
      "source": []
    }
  ]
}