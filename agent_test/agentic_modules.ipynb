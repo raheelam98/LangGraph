{
  "cells": [
    {
      "cell_type": "markdown",
      "metadata": {
        "id": "view-in-github",
        "colab_type": "text"
      },
      "source": [
        "<a href=\"https://colab.research.google.com/github/raheelam98/LangGraph/blob/main/agent_test/agentic_modules.ipynb\" target=\"_parent\"><img src=\"https://colab.research.google.com/assets/colab-badge.svg\" alt=\"Open In Colab\"/></a>"
      ]
    },
    {
      "cell_type": "code",
      "source": [
        "%%capture --no-stderr\n",
        "%pip install --quiet -U langchain-google-genai langchain_core langgraph"
      ],
      "metadata": {
        "id": "NFYEHxRku6wo"
      },
      "execution_count": null,
      "outputs": []
    },
    {
      "cell_type": "code",
      "source": [
        "import os\n",
        "from google.colab import userdata\n",
        "\n",
        "os.environ[\"LANGCHAIN_API_KEY\"] = userdata.get('LANGCHAIN_API_KEY')\n",
        "os.environ[\"LANGCHAIN_TRACING_V2\"] = \"true\"\n",
        "os.environ[\"LANGCHAIN_PROJECT\"] = \"agentic modules\"\n",
        "\n",
        "gemini_api_key = userdata.get('GEMINI_API_KEY')"
      ],
      "metadata": {
        "id": "tqSB7L3Cw_An"
      },
      "execution_count": null,
      "outputs": []
    },
    {
      "cell_type": "code",
      "source": [
        "from google.colab import userdata\n",
        "google_api_key = userdata.get('GEMINI_API_KEY')"
      ],
      "metadata": {
        "id": "bmFw-q8yv3-X"
      },
      "execution_count": null,
      "outputs": []
    },
    {
      "cell_type": "code",
      "source": [
        "from langchain_google_genai.chat_models import ChatGoogleGenerativeAI\n",
        "\n",
        "llm = ChatGoogleGenerativeAI(model=\"gemini-1.5-flash\", api_key=gemini_api_key)"
      ],
      "metadata": {
        "id": "n0Hy0OISxQ4T"
      },
      "execution_count": null,
      "outputs": []
    },
    {
      "cell_type": "code",
      "source": [
        "result = llm.invoke(\"hi\")\n",
        "result"
      ],
      "metadata": {
        "id": "te4xyftB7Xx3",
        "outputId": "3d986486-a780-403e-96d7-beb0150518ff",
        "colab": {
          "base_uri": "https://localhost:8080/"
        }
      },
      "execution_count": null,
      "outputs": [
        {
          "output_type": "execute_result",
          "data": {
            "text/plain": [
              "AIMessage(content='Hi there! How can I help you today?\\n', additional_kwargs={}, response_metadata={'prompt_feedback': {'block_reason': 0, 'safety_ratings': []}, 'finish_reason': 'STOP', 'safety_ratings': []}, id='run-ab0aa0b8-6c1d-4e6b-8cc6-36d3e6ac7c61-0', usage_metadata={'input_tokens': 2, 'output_tokens': 11, 'total_tokens': 13, 'input_token_details': {'cache_read': 0}})"
            ]
          },
          "metadata": {},
          "execution_count": 5
        }
      ]
    },
    {
      "cell_type": "markdown",
      "source": [
        "#### AI Agent Paratice"
      ],
      "metadata": {
        "id": "-UFjKcZjEA8B"
      }
    },
    {
      "cell_type": "markdown",
      "source": [
        "**Module 1 : 2.2_chains_reducers.ipynb**\n",
        "\n",
        "(1) Add a node that will call our tool.\n",
        "\n",
        "(2) Add a conditional edge that will look at the chat model model output, and route to our tool calling node or simply end if no tool call is performed."
      ],
      "metadata": {
        "id": "3hPrpG6gurfL"
      }
    },
    {
      "cell_type": "markdown",
      "source": [
        "# Router\n",
        "**Module 1 : 3_router.ipynb**\n",
        "\n",
        "* Return a tool call\n",
        "* Return a natural language response"
      ],
      "metadata": {
        "id": "tt89zX9HIg-r"
      }
    },
    {
      "cell_type": "code",
      "source": [
        "from langchain_google_genai import ChatGoogleGenerativeAI\n",
        "\n",
        "def multiply(a: int, b: int) -> int:\n",
        "    \"\"\"Multiply a and b.\n",
        "\n",
        "    Args:\n",
        "        a: first int\n",
        "        b: second int\n",
        "    \"\"\"\n",
        "    return a * b\n",
        "\n",
        "# llm = ChatGoogleGenerativeAI(model=\"gemini-1.5-flash\", api_key=os.environ[\"GEMINI_API_KEY\"])\n",
        "llm_with_tools = llm.bind_tools([multiply])"
      ],
      "metadata": {
        "id": "tS-Zc_a7Qztw"
      },
      "execution_count": null,
      "outputs": []
    },
    {
      "cell_type": "code",
      "source": [
        "llm_with_tools"
      ],
      "metadata": {
        "colab": {
          "base_uri": "https://localhost:8080/"
        },
        "id": "uqpnIpPuQ3Pr",
        "outputId": "5ff06f97-c449-4e04-f5fb-1dc1145d38bd"
      },
      "execution_count": null,
      "outputs": [
        {
          "output_type": "execute_result",
          "data": {
            "text/plain": [
              "RunnableBinding(bound=ChatGoogleGenerativeAI(model='models/gemini-1.5-flash', google_api_key=SecretStr('**********'), client=<google.ai.generativelanguage_v1beta.services.generative_service.client.GenerativeServiceClient object at 0x7bf18c516410>, default_metadata=()), kwargs={'tools': [{'type': 'function', 'function': {'name': 'multiply', 'description': 'Multiply a and b.', 'parameters': {'properties': {'a': {'description': 'first int', 'type': 'integer'}, 'b': {'description': 'second int', 'type': 'integer'}}, 'required': ['a', 'b'], 'type': 'object'}}}]}, config={}, config_factories=[])"
            ]
          },
          "metadata": {},
          "execution_count": 49
        }
      ]
    },
    {
      "cell_type": "code",
      "source": [
        "# Import IPython display classes for visual representation\n",
        "from IPython.display import Image, display\n",
        "\n",
        "# Import necessary modules from langgraph.graph for building the state graph\n",
        "from langgraph.graph import StateGraph, START, END\n",
        "from langgraph.graph import MessagesState\n",
        "\n",
        "# Import CompiledStateGraph for compiling the state graph\n",
        "from langgraph.graph.state import CompiledStateGraph\n",
        "\n",
        "# Import ToolNode and tools_condition from langgraph.prebuilt\n",
        "from langgraph.prebuilt import ToolNode\n",
        "from langgraph.prebuilt import tools_condition\n",
        "\n",
        "# Node that will call the LLM tools\n",
        "def tool_calling_llm(state: MessagesState) -> MessagesState:\n",
        "    # Invoke the LLM tools with the current messages from the state and return the updated state\n",
        "    return {\"messages\": [llm_with_tools.invoke(state[\"messages\"])]}\n",
        "\n",
        "# Build the state graph\n",
        "builder: StateGraph = StateGraph(MessagesState)\n",
        "\n",
        "# Add nodes to the graph\n",
        "builder.add_node(\"tool_calling_llm\", tool_calling_llm)  # Add tool_calling_llm node\n",
        "builder.add_node(\"tools\", ToolNode([multiply]))  # Add ToolNode for the multiply function\n",
        "\n",
        "# Define edges for the graph\n",
        "builder.add_edge(START, \"tool_calling_llm\")  # Start the graph with tool_calling_llm node\n",
        "builder.add_conditional_edges(\n",
        "    \"tool_calling_llm\",\n",
        "    tools_condition,  # Route to tools or END based on the tools_condition\n",
        "    # If the latest message (result) from assistant is a tool call -> tools_condition routes to tools\n",
        "    # If the latest message (result) from assistant is not a tool call -> tools_condition routes to END\n",
        ")\n",
        "\n",
        "# Define the edge from tools to END\n",
        "builder.add_edge(\"tools\", END)\n",
        "\n",
        "# Compile the graph to a reactive graph\n",
        "graph: CompiledStateGraph = builder.compile()\n"
      ],
      "metadata": {
        "id": "Lx40ZoqoRqia"
      },
      "execution_count": null,
      "outputs": []
    },
    {
      "cell_type": "code",
      "source": [
        "graph"
      ],
      "metadata": {
        "colab": {
          "base_uri": "https://localhost:8080/"
        },
        "id": "lnBS07kvSQi1",
        "outputId": "3e18cdeb-7833-4906-9975-052bef580179"
      },
      "execution_count": null,
      "outputs": [
        {
          "output_type": "execute_result",
          "data": {
            "text/plain": [
              "<langgraph.graph.state.CompiledStateGraph at 0x7bf1941dbc70>"
            ]
          },
          "metadata": {},
          "execution_count": 8
        }
      ]
    },
    {
      "cell_type": "code",
      "source": [
        "# View\n",
        "display(Image(graph.get_graph().draw_mermaid_png()))"
      ],
      "metadata": {
        "colab": {
          "base_uri": "https://localhost:8080/",
          "height": 350
        },
        "id": "gnAp-Dr7STaT",
        "outputId": "8895ba8a-7488-4e2e-f142-df1ede778347"
      },
      "execution_count": null,
      "outputs": [
        {
          "output_type": "display_data",
          "data": {
            "image/png": "[encoded data removed]",
            "text/plain": [
              "<IPython.core.display.Image object>"
            ]
          },
          "metadata": {}
        }
      ]
    },
    {
      "cell_type": "code",
      "source": [
        "from langchain_core.messages import HumanMessage\n",
        "\n",
        "# Prepare the initial message from the human\n",
        "messages = [HumanMessage(content=\"Hello world.\")]\n",
        "\n",
        "# Invoke the graph with the prepared messages\n",
        "messages = graph.invoke({\"messages\": messages})\n",
        "\n",
        "# Iterate through the returned messages and print each one\n",
        "for m in messages['messages']:\n",
        "    m.pretty_print()\n"
      ],
      "metadata": {
        "colab": {
          "base_uri": "https://localhost:8080/"
        },
        "id": "Q0DXk2mXSkQd",
        "outputId": "81503436-d6ae-4646-b44a-d45543575f33"
      },
      "execution_count": null,
      "outputs": [
        {
          "output_type": "stream",
          "name": "stdout",
          "text": [
            "================================\u001b[1m Human Message \u001b[0m=================================\n",
            "\n",
            "Hello world.\n",
            "==================================\u001b[1m Ai Message \u001b[0m==================================\n",
            "\n",
            "Hello world.\n"
          ]
        }
      ]
    },
    {
      "cell_type": "code",
      "source": [
        "# Import the HumanMessage class from langchain_core.messages\n",
        "from langchain_core.messages import HumanMessage\n",
        "\n",
        "# Prepare the initial message from the human with the content \"Multiply 2 and 3.\"\n",
        "messages = [HumanMessage(content=\"Multiply 2 and 3.\")]\n",
        "\n",
        "# Invoke the graph with the prepared messages\n",
        "messages = graph.invoke({\"messages\": messages})\n",
        "\n",
        "# Iterate through the returned messages and print each one\n",
        "for m in messages['messages']:\n",
        "    m.pretty_print()\n"
      ],
      "metadata": {
        "colab": {
          "base_uri": "https://localhost:8080/"
        },
        "id": "eIGtCtK5SrXT",
        "outputId": "1caa5db9-6347-4dff-ba3a-7f51f8605bba"
      },
      "execution_count": null,
      "outputs": [
        {
          "output_type": "stream",
          "name": "stdout",
          "text": [
            "================================\u001b[1m Human Message \u001b[0m=================================\n",
            "\n",
            "Multiply 2 and 3.\n",
            "==================================\u001b[1m Ai Message \u001b[0m==================================\n",
            "Tool Calls:\n",
            "  multiply (60e69f23-3ee6-4816-9fba-edeaa5a322f6)\n",
            " Call ID: 60e69f23-3ee6-4816-9fba-edeaa5a322f6\n",
            "  Args:\n",
            "    a: 2.0\n",
            "    b: 3.0\n",
            "=================================\u001b[1m Tool Message \u001b[0m=================================\n",
            "Name: multiply\n",
            "\n",
            "6\n"
          ]
        }
      ]
    },
    {
      "cell_type": "markdown",
      "source": [
        "Explanation of Comments:\n",
        "\n",
        "1 Importing HumanMessage:\n",
        "\n",
        "from langchain_core.messages import HumanMessage: This line imports the HumanMessage class from the langchain_core.messages module.\n",
        "\n",
        "2 Preparing the Initial Message:\n",
        "\n",
        "messages = [HumanMessage(content=\"Multiply 2 and 3.\")]: This line creates a list containing a single HumanMessage with the content \"Multiply 2 and 3.\"\n",
        "\n",
        "3 Invoking the Graph:\n",
        "\n",
        "messages = graph.invoke({\"messages\": messages}): This line invokes the graph with the prepared messages. The graph processes the messages and returns the updated state.\n",
        "\n",
        "4 Iterating and Printing Messages:\n",
        "\n",
        "for m in messages['messages']::: This line starts a loop that iterates through the returned messages in the updated state.\n",
        "\n",
        "m.pretty_print(): This line prints each message using the pretty_print method for a formatted output."
      ],
      "metadata": {
        "id": "tPDH64bOS81d"
      }
    },
    {
      "cell_type": "code",
      "source": [
        "# Create tools for calculation\n",
        "from langchain_google_genai import ChatGoogleGenerativeAI\n",
        "\n",
        "def multiply(a: int, b: int) -> int:\n",
        "    \"\"\"Multiply a and b.\n",
        "\n",
        "    Args:\n",
        "        a: First integer\n",
        "        b: Second integer\n",
        "    \"\"\"\n",
        "    return a * b\n",
        "\n",
        "# This will be a tool\n",
        "def add(a: int, b: int) -> int:\n",
        "    \"\"\"Add a and b.\n",
        "\n",
        "    Args:\n",
        "        a: First integer\n",
        "        b: Second integer\n",
        "    \"\"\"\n",
        "    return a + b\n",
        "\n",
        "def divide(a: int, b: int) -> float:\n",
        "    \"\"\"Divide a by b.\n",
        "\n",
        "    Args:\n",
        "        a: First integer\n",
        "        b: Second integer\n",
        "    \"\"\"\n",
        "    return a / b\n",
        "\n",
        "# Define a list to store all the tools\n",
        "tools = [add, multiply, divide]\n",
        "\n",
        "# Bind tools with the language model\n",
        "llm_with_tools = llm.bind_tools(tools)"
      ],
      "metadata": {
        "id": "GpJF4GxpUOaC"
      },
      "execution_count": null,
      "outputs": []
    },
    {
      "cell_type": "code",
      "source": [
        "llm_with_tools  # get details of tool"
      ],
      "metadata": {
        "colab": {
          "base_uri": "https://localhost:8080/"
        },
        "id": "CwEA3vrQUTIb",
        "outputId": "72227e3d-5df7-482a-f286-2084d732908c"
      },
      "execution_count": null,
      "outputs": [
        {
          "output_type": "execute_result",
          "data": {
            "text/plain": [
              "RunnableBinding(bound=ChatGoogleGenerativeAI(model='models/gemini-1.5-flash', google_api_key=SecretStr('**********'), client=<google.ai.generativelanguage_v1beta.services.generative_service.client.GenerativeServiceClient object at 0x7bf194c246a0>, default_metadata=()), kwargs={'tools': [{'type': 'function', 'function': {'name': 'add', 'description': 'Add a and b.', 'parameters': {'properties': {'a': {'description': 'First integer', 'type': 'integer'}, 'b': {'description': 'Second integer', 'type': 'integer'}}, 'required': ['a', 'b'], 'type': 'object'}}}, {'type': 'function', 'function': {'name': 'multiply', 'description': 'Multiply a and b.', 'parameters': {'properties': {'a': {'description': 'First integer', 'type': 'integer'}, 'b': {'description': 'Second integer', 'type': 'integer'}}, 'required': ['a', 'b'], 'type': 'object'}}}, {'type': 'function', 'function': {'name': 'divide', 'description': 'Divide a by b.', 'parameters': {'properties': {'a': {'description': 'First integer', 'type': 'integer'}, 'b': {'description': 'Second integer', 'type': 'integer'}}, 'required': ['a', 'b'], 'type': 'object'}}}]}, config={}, config_factories=[])"
            ]
          },
          "metadata": {},
          "execution_count": 14
        }
      ]
    },
    {
      "cell_type": "code",
      "source": [
        "# Import MessagesState from langgraph.graph\n",
        "from langgraph.graph import MessagesState\n",
        "# Import HumanMessage and SystemMessage from langchain_core.messages\n",
        "from langchain_core.messages import HumanMessage, SystemMessage\n",
        "\n",
        "# Create a system message that provides instructions for the assistant\n",
        "sys_msg = SystemMessage(content=\"You are a helpful assistant tasked with performing arithmetic on a set of inputs.\")\n",
        "\n",
        "# Define a function to create a node that processes the state\n",
        "def assistant(state: MessagesState) -> MessagesState:\n",
        "    # Invoke the LLM tools with the system message and the current state messages\n",
        "    return {\"messages\": [llm_with_tools.invoke([sys_msg] + state[\"messages\"])]}\n"
      ],
      "metadata": {
        "id": "gnK1o1hMUwNj"
      },
      "execution_count": null,
      "outputs": []
    },
    {
      "cell_type": "code",
      "source": [
        "sys_msg"
      ],
      "metadata": {
        "colab": {
          "base_uri": "https://localhost:8080/"
        },
        "id": "MxEZyS1BU2_4",
        "outputId": "01ae3790-6016-45c3-9084-72b04e955da7"
      },
      "execution_count": null,
      "outputs": [
        {
          "output_type": "execute_result",
          "data": {
            "text/plain": [
              "SystemMessage(content='You are a helpful assistant tasked with performing arithmetic on a set of inputs.', additional_kwargs={}, response_metadata={})"
            ]
          },
          "metadata": {},
          "execution_count": 17
        }
      ]
    },
    {
      "cell_type": "code",
      "source": [
        "# Import necessary modules from langgraph.graph for building the state graph\n",
        "from langgraph.graph import StateGraph, START, END\n",
        "from langgraph.graph import MessagesState\n",
        "\n",
        "# Import CompiledStateGraph for compiling the state graph\n",
        "from langgraph.graph.state import CompiledStateGraph\n",
        "\n",
        "from langgraph.prebuilt import tools_condition  # Determines routing to tools or end\n",
        "from langgraph.prebuilt import ToolNode  # Special node for function calls\n",
        "\n",
        "from IPython.display import Image, display  # Import IPython display classes\n",
        "\n",
        "# Initialize the graph builder\n",
        "builder: StateGraph = StateGraph(MessagesState)\n",
        "\n",
        "# Define nodes: these do the work\n",
        "builder.add_node(\"assistant\", assistant)  # Pass assistant function to assistant node\n",
        "builder.add_node(\"tools\", ToolNode(tools))  # Pass tools to ToolNode, enabling function calls and responses\n",
        "# Note: ToolNode(tools) now serves as both a generator and an action node. It can call the functions and respond accordingly.\n",
        "\n",
        "\n",
        "# Define edges: these determine how the control flow moves\n",
        "builder.add_edge(START, \"assistant\")  # Start by calling the assistant node\n",
        "\n",
        "# Define conditional edges: determine routing based on the result\n",
        "# Define the condition: The assistant node either routes to tools via the tool-condition or routes to END.\n",
        "builder.add_conditional_edges(\n",
        "    \"assistant\",\n",
        "    tools_condition,  # Route to tools if the latest message from assistant is a tool call\n",
        "    # Route to END if the latest message from assistant is not a tool call\n",
        ")\n",
        "\n",
        "# Define edge: tools call assistant\n",
        "builder.add_edge(\"tools\", \"assistant\")  # After tools, call assistant again\n",
        "\n",
        "# Compile the graph to a reactive graph\n",
        "graph: CompiledStateGraph = builder.compile()"
      ],
      "metadata": {
        "id": "jlla8gAWVAej"
      },
      "execution_count": null,
      "outputs": []
    },
    {
      "cell_type": "code",
      "source": [
        "# Show\n",
        "display(Image(graph.get_graph(xray=True).draw_mermaid_png()))"
      ],
      "metadata": {
        "colab": {
          "base_uri": "https://localhost:8080/",
          "height": 266
        },
        "id": "Yh3XbM5JVqTG",
        "outputId": "068e83b2-1d33-4b37-e627-ad60032d606a"
      },
      "execution_count": null,
      "outputs": [
        {
          "output_type": "display_data",
          "data": {
            "image/png": "[encoded data removed]",
            "text/plain": [
              "<IPython.core.display.Image object>"
            ]
          },
          "metadata": {}
        }
      ]
    },
    {
      "cell_type": "code",
      "source": [
        "# Prepare the initial message from the human with the content \"Add 3 and 4\"\n",
        "messages = [HumanMessage(content=\"Add 3 and 4\")]\n",
        "\n",
        "# Invoke the graph with the prepared messages\n",
        "messages = graph.invoke({\"messages\": messages})"
      ],
      "metadata": {
        "id": "ycr4CjN0WTXE"
      },
      "execution_count": null,
      "outputs": []
    },
    {
      "cell_type": "code",
      "source": [
        "# Iterate through the returned messages\n",
        "for m in messages['messages']:\n",
        "    # Print each message in a formatted manner\n",
        "    m.pretty_print()"
      ],
      "metadata": {
        "colab": {
          "base_uri": "https://localhost:8080/"
        },
        "id": "iZe_l8CiXRO5",
        "outputId": "a6ef2c66-4aa0-4c7e-9b60-eff4e03b3ef4"
      },
      "execution_count": null,
      "outputs": [
        {
          "output_type": "stream",
          "name": "stdout",
          "text": [
            "================================\u001b[1m Human Message \u001b[0m=================================\n",
            "\n",
            "Add 3 and 4\n",
            "==================================\u001b[1m Ai Message \u001b[0m==================================\n",
            "Tool Calls:\n",
            "  add (02105427-e0db-4b77-9479-909cfaa2d650)\n",
            " Call ID: 02105427-e0db-4b77-9479-909cfaa2d650\n",
            "  Args:\n",
            "    a: 3.0\n",
            "    b: 4.0\n",
            "=================================\u001b[1m Tool Message \u001b[0m=================================\n",
            "Name: add\n",
            "\n",
            "7\n",
            "==================================\u001b[1m Ai Message \u001b[0m==================================\n",
            "\n",
            "The sum of 3 and 4 is 7.\n"
          ]
        }
      ]
    },
    {
      "cell_type": "code",
      "source": [
        "messages = [HumanMessage(content=\"First Add 3 and 4 then multiply answer with 2 and then divide answer with 5. Dont perform division initially\")]\n",
        "messages = graph.invoke({\"messages\": messages})"
      ],
      "metadata": {
        "id": "AHKWk-YOXGlV"
      },
      "execution_count": null,
      "outputs": []
    },
    {
      "cell_type": "code",
      "source": [
        "# Iterate through the returned messages\n",
        "for m in messages['messages']:\n",
        "    # Print each message in a formatted manner\n",
        "    m.pretty_print()"
      ],
      "metadata": {
        "colab": {
          "base_uri": "https://localhost:8080/"
        },
        "id": "e7tuWmBOXNdv",
        "outputId": "3b5784d3-6e39-4921-a6b0-e9cb65eeff3c"
      },
      "execution_count": null,
      "outputs": [
        {
          "output_type": "stream",
          "name": "stdout",
          "text": [
            "================================\u001b[1m Human Message \u001b[0m=================================\n",
            "\n",
            "Add 3 and 4\n",
            "==================================\u001b[1m Ai Message \u001b[0m==================================\n",
            "Tool Calls:\n",
            "  add (02105427-e0db-4b77-9479-909cfaa2d650)\n",
            " Call ID: 02105427-e0db-4b77-9479-909cfaa2d650\n",
            "  Args:\n",
            "    a: 3.0\n",
            "    b: 4.0\n",
            "=================================\u001b[1m Tool Message \u001b[0m=================================\n",
            "Name: add\n",
            "\n",
            "7\n",
            "==================================\u001b[1m Ai Message \u001b[0m==================================\n",
            "\n",
            "The sum of 3 and 4 is 7.\n"
          ]
        }
      ]
    },
    {
      "cell_type": "markdown",
      "source": [
        "# Agent memory\n",
        "\n",
        "![Screenshot 2024-08-21 at 12.45.32 PM.png](https://cdn.prod.website-files.com/65b8cd72835ceeacd4449a53/66dbab7453080e6802cd1703_agent-memory1.png)\n",
        "\n",
        "## Goals\n",
        "\n",
        "Now, we're going extend our agent by introducing memory."
      ],
      "metadata": {
        "id": "E_kEHHqrYPSp"
      }
    },
    {
      "cell_type": "code",
      "source": [
        "# Import the ChatGoogleGenerativeAI class\n",
        "from langchain_google_genai import ChatGoogleGenerativeAI\n",
        "\n",
        "# Define the multiply function\n",
        "def multiply(a: int, b: int) -> int:\n",
        "    \"\"\"Multiply a and b.\n",
        "\n",
        "    Args:\n",
        "        a: first int\n",
        "        b: second int\n",
        "\n",
        "    Returns:\n",
        "        int: The product of a and b\n",
        "    \"\"\"\n",
        "    return a * b\n",
        "\n",
        "# This will be a tool: Define the add function\n",
        "def add(a: int, b: int) -> int:\n",
        "    \"\"\"Adds a and b.\n",
        "\n",
        "    Args:\n",
        "        a: first int\n",
        "        b: second int\n",
        "\n",
        "    Returns:\n",
        "        int: The sum of a and b\n",
        "    \"\"\"\n",
        "    return a + b\n",
        "\n",
        "# Define the divide function\n",
        "def divide(a: int, b: int) -> float:\n",
        "    \"\"\"Divide a and b.\n",
        "\n",
        "    Args:\n",
        "        a: first int\n",
        "        b: second int\n",
        "\n",
        "    Returns:\n",
        "        float: The result of dividing a by b\n",
        "    \"\"\"\n",
        "    return a / b\n",
        "\n",
        "# List of tool functions\n",
        "tools = [add, multiply, divide]\n",
        "\n",
        "# Bind the tools with the language model\n",
        "llm_with_tools = llm.bind_tools(tools)"
      ],
      "metadata": {
        "id": "66PgI4g0XmwI"
      },
      "execution_count": null,
      "outputs": []
    },
    {
      "cell_type": "code",
      "source": [
        "# Import necessary modules\n",
        "from langgraph.graph import START, StateGraph  # Import START and StateGraph for building the graph\n",
        "from langgraph.prebuilt import tools_condition, ToolNode  # Import tools_condition and ToolNode\n",
        "from IPython.display import Image, display  # Import IPython display classes\n",
        "from langgraph.graph.state import CompiledStateGraph  # Import CompiledStateGraph for compiling the graph\n",
        "\n",
        "# Graph\n",
        "builder: StateGraph = StateGraph(MessagesState)  # Initialize the state graph builder with MessagesState\n",
        "\n",
        "# Define nodes: these do the work\n",
        "builder.add_node(\"assistant\", assistant)  # Add the assistant node, which processes the state\n",
        "builder.add_node(\"tools\", ToolNode(tools))  # Add the tools node, which handles tool invocations\n",
        "\n",
        "# Define edges: these determine how the control flow moves\n",
        "builder.add_edge(START, \"assistant\")  # Start the graph with the assistant node\n",
        "builder.add_conditional_edges(\n",
        "    \"assistant\",\n",
        "    tools_condition,  # If the latest message (result) from assistant is a tool call -> tools_condition routes to tools\n",
        "    # If the latest message (result) from assistant is not a tool call -> tools_condition routes to END\n",
        ")\n",
        "builder.add_edge(\"tools\", \"assistant\")  # Define the edge from tools back to assistant\n",
        "\n",
        "# Compile the graph to a reactive state graph\n",
        "graph: CompiledStateGraph = builder.compile()\n"
      ],
      "metadata": {
        "id": "oSjRqYvqZgIA"
      },
      "execution_count": null,
      "outputs": []
    },
    {
      "cell_type": "code",
      "source": [
        "# Show the graph\n",
        "display(Image(graph.get_graph(xray=True).draw_mermaid_png()))  # Display the graph using IPython display\n"
      ],
      "metadata": {
        "colab": {
          "base_uri": "https://localhost:8080/",
          "height": 266
        },
        "id": "oN690uJXZkHy",
        "outputId": "9fa29a86-dbf0-4233-8d97-20d3ea8179bb"
      },
      "execution_count": null,
      "outputs": [
        {
          "output_type": "display_data",
          "data": {
            "image/png": "[encoded data removed]",
            "text/plain": [
              "<IPython.core.display.Image object>"
            ]
          },
          "metadata": {}
        }
      ]
    },
    {
      "cell_type": "code",
      "source": [
        "# Prepare the initial message from the human with the content \"Add 3 and 4.\"\n",
        "messages = [HumanMessage(content=\"Add 3 and 4.\")]\n",
        "\n",
        "# Invoke the reactive state graph with the prepared messages\n",
        "messages = graph.invoke({\"messages\": messages})"
      ],
      "metadata": {
        "id": "q3xs41wDZ0Gy"
      },
      "execution_count": null,
      "outputs": []
    },
    {
      "cell_type": "code",
      "source": [
        "# Iterate through the returned messages\n",
        "for m in messages['messages']:\n",
        "    # Print each message in a formatted manner\n",
        "    m.pretty_print()"
      ],
      "metadata": {
        "colab": {
          "base_uri": "https://localhost:8080/"
        },
        "id": "3P_4MFodaTmF",
        "outputId": "bc2e9393-4877-4631-bf1a-fb863b44ab9a"
      },
      "execution_count": null,
      "outputs": [
        {
          "output_type": "stream",
          "name": "stdout",
          "text": [
            "================================\u001b[1m Human Message \u001b[0m=================================\n",
            "\n",
            "Add 3 and 4.\n",
            "==================================\u001b[1m Ai Message \u001b[0m==================================\n",
            "Tool Calls:\n",
            "  add (8c270604-0515-4ec0-a22f-d4e8d7772ca0)\n",
            " Call ID: 8c270604-0515-4ec0-a22f-d4e8d7772ca0\n",
            "  Args:\n",
            "    a: 3.0\n",
            "    b: 4.0\n",
            "=================================\u001b[1m Tool Message \u001b[0m=================================\n",
            "Name: add\n",
            "\n",
            "7\n",
            "==================================\u001b[1m Ai Message \u001b[0m==================================\n",
            "\n",
            "The sum of 3 and 4 is 7.\n"
          ]
        }
      ]
    },
    {
      "cell_type": "code",
      "source": [
        "# Prepare the initial message from the human with the content \"Multiply that by 2.\"\n",
        "messages = [HumanMessage(content=\"Multiply that by 2.\")]\n",
        "\n",
        "# Invoke the reactive state graph with the prepared messages\n",
        "messages = graph.invoke({\"messages\": messages})"
      ],
      "metadata": {
        "id": "slXGa44VaABp"
      },
      "execution_count": null,
      "outputs": []
    },
    {
      "cell_type": "code",
      "source": [
        "# Iterate through the returned messages\n",
        "for m in messages['messages']:\n",
        "    # Print each message in a formatted manner\n",
        "    m.pretty_print()"
      ],
      "metadata": {
        "colab": {
          "base_uri": "https://localhost:8080/"
        },
        "id": "bZLa6TnOaOan",
        "outputId": "492a7eeb-bab1-4275-aaeb-d110ddbb859d"
      },
      "execution_count": null,
      "outputs": [
        {
          "output_type": "stream",
          "name": "stdout",
          "text": [
            "================================\u001b[1m Human Message \u001b[0m=================================\n",
            "\n",
            "Multiply that by 2.\n",
            "==================================\u001b[1m Ai Message \u001b[0m==================================\n",
            "\n",
            "What values would you like me to multiply by 2?\n"
          ]
        }
      ]
    },
    {
      "cell_type": "code",
      "source": [
        "# Import MemorySaver from langgraph.checkpoint.memory\n",
        "from langgraph.checkpoint.memory import MemorySaver\n",
        "\n",
        "# Create an instance of MemorySaver to handle the memory checkpoints\n",
        "memory: MemorySaver = MemorySaver()\n",
        "\n",
        "# Compile the state graph with memory checkpointer\n",
        "react_graph_memory: CompiledStateGraph = builder.compile(checkpointer=memory)"
      ],
      "metadata": {
        "id": "1tfi3SBKawOy"
      },
      "execution_count": null,
      "outputs": []
    },
    {
      "cell_type": "markdown",
      "source": [
        "When we use memory, we need to specify a `thread_id`.\n",
        "\n",
        "This `thread_id` will store our memory location of graph states collection.\n",
        "\n",
        "Here is a cartoon:\n",
        "\n",
        "* The checkpointer write the state at every step of the graph\n",
        "* These checkpoints are saved in a thread\n",
        "* We can access that thread in the future using the `thread_id`\n",
        "\n",
        "![state.jpg](https://cdn.prod.website-files.com/65b8cd72835ceeacd4449a53/66e0e9f526b41a4ed9e2d28b_agent-memory2.png)\n",
        "\n",
        "![state.png](https://github.com/panaversity/learn-agentic-ai-fundamentals/blob/main/03_langchain_ecosystem/langgraph/course-notebooks/module-1/image.png)\n"
      ],
      "metadata": {
        "id": "9mlDoZm8bRB9"
      }
    },
    {
      "cell_type": "code",
      "source": [
        "# Specify a thread by creating a configuration dictionary with a thread ID\n",
        "config = {\"configurable\": {\"thread_id\": \"1\"}}\n",
        "\n",
        "# Prepare the initial message from the human with the content \"Add 3 and 4.\"\n",
        "messages = [HumanMessage(content=\"Add 3 and 4.\")]\n",
        "\n",
        "# Run the reactive state graph with the prepared messages and configuration\n",
        "messages = react_graph_memory.invoke({\"messages\": messages}, config)\n"
      ],
      "metadata": {
        "id": "ZDctenD9bQYp"
      },
      "execution_count": null,
      "outputs": []
    },
    {
      "cell_type": "code",
      "source": [
        "# Iterate through the returned messages\n",
        "for m in messages['messages']:\n",
        "    # Print each message in a formatted manner\n",
        "    m.pretty_print()\n"
      ],
      "metadata": {
        "colab": {
          "base_uri": "https://localhost:8080/"
        },
        "id": "MdOsFJ_Db04R",
        "outputId": "91c4adc2-4557-48b8-8834-326cb2c99633"
      },
      "execution_count": null,
      "outputs": [
        {
          "output_type": "stream",
          "name": "stdout",
          "text": [
            "================================\u001b[1m Human Message \u001b[0m=================================\n",
            "\n",
            "Add 3 and 4.\n",
            "==================================\u001b[1m Ai Message \u001b[0m==================================\n",
            "Tool Calls:\n",
            "  add (be46cea5-f167-4a55-a068-61df0af57658)\n",
            " Call ID: be46cea5-f167-4a55-a068-61df0af57658\n",
            "  Args:\n",
            "    a: 3.0\n",
            "    b: 4.0\n",
            "=================================\u001b[1m Tool Message \u001b[0m=================================\n",
            "Name: add\n",
            "\n",
            "7\n",
            "==================================\u001b[1m Ai Message \u001b[0m==================================\n",
            "\n",
            "The sum of 3 and 4 is 7.\n"
          ]
        }
      ]
    },
    {
      "cell_type": "code",
      "source": [
        "# Prepare the initial message from the human with the content \"Multiply that by 2.\"\n",
        "messages = [HumanMessage(content=\"Multiply that by 2.\")]\n",
        "\n",
        "# Invoke the reactive state graph with the prepared messages and configuration\n",
        "messages = react_graph_memory.invoke({\"messages\": messages}, config)"
      ],
      "metadata": {
        "id": "plnApSA3cCge"
      },
      "execution_count": null,
      "outputs": []
    },
    {
      "cell_type": "code",
      "source": [
        "# Iterate through the returned messages\n",
        "for m in messages['messages']:\n",
        "    # Print each message in a formatted manner\n",
        "    m.pretty_print()\n"
      ],
      "metadata": {
        "id": "wGnyqXp8cGde"
      },
      "execution_count": null,
      "outputs": []
    }
  ],
  "metadata": {
    "colab": {
      "provenance": [],
      "include_colab_link": true
    },
    "kernelspec": {
      "display_name": "Python 3",
      "name": "python3"
    }
  },
  "nbformat": 4,
  "nbformat_minor": 0
}